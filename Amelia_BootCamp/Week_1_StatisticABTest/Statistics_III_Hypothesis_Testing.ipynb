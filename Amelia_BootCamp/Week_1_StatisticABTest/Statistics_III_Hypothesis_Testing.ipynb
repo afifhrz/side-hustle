{
  "nbformat": 4,
  "nbformat_minor": 0,
  "metadata": {
    "kernelspec": {
      "display_name": "Python 3",
      "language": "python",
      "name": "python3"
    },
    "language_info": {
      "codemirror_mode": {
        "name": "ipython",
        "version": 3
      },
      "file_extension": ".py",
      "mimetype": "text/x-python",
      "name": "python",
      "nbconvert_exporter": "python",
      "pygments_lexer": "ipython3",
      "version": "3.7.6"
    },
    "colab": {
      "provenance": [],
      "collapsed_sections": []
    }
  },
  "cells": [
    {
      "cell_type": "markdown",
      "metadata": {
        "id": "AU6pyBpS1Qsf"
      },
      "source": [
        "# Import Library"
      ]
    },
    {
      "cell_type": "code",
      "metadata": {
        "id": "ZQpL_A8v1Qsj"
      },
      "source": [
        "import pandas as pd\n",
        "import numpy as np\n",
        "import scipy.stats as st"
      ],
      "execution_count": null,
      "outputs": []
    },
    {
      "cell_type": "markdown",
      "metadata": {
        "id": "SC_o6cmk1Qsk"
      },
      "source": [
        "# Read Dataset"
      ]
    },
    {
      "cell_type": "code",
      "metadata": {
        "id": "xuxfMOEV1Qsl"
      },
      "source": [
        "df = pd.read_csv('e-commerce_example_dataset.csv')"
      ],
      "execution_count": null,
      "outputs": []
    },
    {
      "cell_type": "code",
      "metadata": {
        "colab": {
          "base_uri": "https://localhost:8080/"
        },
        "id": "OR6iFiuu1Qsl",
        "outputId": "88171e39-c7a1-48a6-b2dc-10224c528985"
      },
      "source": [
        "df.shape"
      ],
      "execution_count": null,
      "outputs": [
        {
          "output_type": "execute_result",
          "data": {
            "text/plain": [
              "(100, 3)"
            ]
          },
          "metadata": {},
          "execution_count": 3
        }
      ]
    },
    {
      "cell_type": "code",
      "metadata": {
        "colab": {
          "base_uri": "https://localhost:8080/",
          "height": 206
        },
        "id": "cwzbqj9-1ikK",
        "outputId": "6f12af57-2404-49f7-f2cf-9e4d622aeb37"
      },
      "source": [
        "df.head()"
      ],
      "execution_count": null,
      "outputs": [
        {
          "output_type": "execute_result",
          "data": {
            "text/html": [
              "<div>\n",
              "<style scoped>\n",
              "    .dataframe tbody tr th:only-of-type {\n",
              "        vertical-align: middle;\n",
              "    }\n",
              "\n",
              "    .dataframe tbody tr th {\n",
              "        vertical-align: top;\n",
              "    }\n",
              "\n",
              "    .dataframe thead th {\n",
              "        text-align: right;\n",
              "    }\n",
              "</style>\n",
              "<table border=\"1\" class=\"dataframe\">\n",
              "  <thead>\n",
              "    <tr style=\"text-align: right;\">\n",
              "      <th></th>\n",
              "      <th>gmv</th>\n",
              "      <th>discount</th>\n",
              "      <th>user_id</th>\n",
              "    </tr>\n",
              "  </thead>\n",
              "  <tbody>\n",
              "    <tr>\n",
              "      <th>0</th>\n",
              "      <td>1324911</td>\n",
              "      <td>not-discount</td>\n",
              "      <td>1</td>\n",
              "    </tr>\n",
              "    <tr>\n",
              "      <th>1</th>\n",
              "      <td>1625874</td>\n",
              "      <td>not-discount</td>\n",
              "      <td>2</td>\n",
              "    </tr>\n",
              "    <tr>\n",
              "      <th>2</th>\n",
              "      <td>1432984</td>\n",
              "      <td>not-discount</td>\n",
              "      <td>3</td>\n",
              "    </tr>\n",
              "    <tr>\n",
              "      <th>3</th>\n",
              "      <td>1294427</td>\n",
              "      <td>not-discount</td>\n",
              "      <td>4</td>\n",
              "    </tr>\n",
              "    <tr>\n",
              "      <th>4</th>\n",
              "      <td>1635693</td>\n",
              "      <td>not-discount</td>\n",
              "      <td>5</td>\n",
              "    </tr>\n",
              "  </tbody>\n",
              "</table>\n",
              "</div>"
            ],
            "text/plain": [
              "       gmv      discount  user_id\n",
              "0  1324911  not-discount        1\n",
              "1  1625874  not-discount        2\n",
              "2  1432984  not-discount        3\n",
              "3  1294427  not-discount        4\n",
              "4  1635693  not-discount        5"
            ]
          },
          "metadata": {},
          "execution_count": 4
        }
      ]
    },
    {
      "cell_type": "code",
      "metadata": {
        "id": "FSogpfPu1Qsm",
        "outputId": "205b451f-2c6b-41ec-c5a8-019758858384"
      },
      "source": [
        "df['discount'].value_counts()"
      ],
      "execution_count": null,
      "outputs": [
        {
          "data": {
            "text/plain": [
              "discount        65\n",
              "not-discount    35\n",
              "Name: discount, dtype: int64"
            ]
          },
          "execution_count": 7,
          "metadata": {},
          "output_type": "execute_result"
        }
      ]
    },
    {
      "cell_type": "code",
      "metadata": {
        "id": "LvuUMLJG1Qsm",
        "outputId": "ff9e8899-4b9c-4660-9e39-a5bdc870e91b"
      },
      "source": [
        "df.head()"
      ],
      "execution_count": null,
      "outputs": [
        {
          "data": {
            "text/html": [
              "<div>\n",
              "<style scoped>\n",
              "    .dataframe tbody tr th:only-of-type {\n",
              "        vertical-align: middle;\n",
              "    }\n",
              "\n",
              "    .dataframe tbody tr th {\n",
              "        vertical-align: top;\n",
              "    }\n",
              "\n",
              "    .dataframe thead th {\n",
              "        text-align: right;\n",
              "    }\n",
              "</style>\n",
              "<table border=\"1\" class=\"dataframe\">\n",
              "  <thead>\n",
              "    <tr style=\"text-align: right;\">\n",
              "      <th></th>\n",
              "      <th>gmv</th>\n",
              "      <th>discount</th>\n",
              "      <th>user_id</th>\n",
              "    </tr>\n",
              "  </thead>\n",
              "  <tbody>\n",
              "    <tr>\n",
              "      <th>0</th>\n",
              "      <td>1324911</td>\n",
              "      <td>not-discount</td>\n",
              "      <td>1</td>\n",
              "    </tr>\n",
              "    <tr>\n",
              "      <th>1</th>\n",
              "      <td>1625874</td>\n",
              "      <td>not-discount</td>\n",
              "      <td>2</td>\n",
              "    </tr>\n",
              "    <tr>\n",
              "      <th>2</th>\n",
              "      <td>1432984</td>\n",
              "      <td>not-discount</td>\n",
              "      <td>3</td>\n",
              "    </tr>\n",
              "    <tr>\n",
              "      <th>3</th>\n",
              "      <td>1294427</td>\n",
              "      <td>not-discount</td>\n",
              "      <td>4</td>\n",
              "    </tr>\n",
              "    <tr>\n",
              "      <th>4</th>\n",
              "      <td>1635693</td>\n",
              "      <td>not-discount</td>\n",
              "      <td>5</td>\n",
              "    </tr>\n",
              "  </tbody>\n",
              "</table>\n",
              "</div>"
            ],
            "text/plain": [
              "       gmv      discount  user_id\n",
              "0  1324911  not-discount        1\n",
              "1  1625874  not-discount        2\n",
              "2  1432984  not-discount        3\n",
              "3  1294427  not-discount        4\n",
              "4  1635693  not-discount        5"
            ]
          },
          "execution_count": 5,
          "metadata": {},
          "output_type": "execute_result"
        }
      ]
    },
    {
      "cell_type": "markdown",
      "metadata": {
        "id": "5rAMBLCG1Qsn"
      },
      "source": [
        "# Langkah 1"
      ]
    },
    {
      "cell_type": "markdown",
      "metadata": {
        "id": "whoyAa4U1Qso"
      },
      "source": [
        "Apakah rata rata gmv discount > gmv non-discount"
      ]
    },
    {
      "cell_type": "markdown",
      "metadata": {
        "id": "U4G9uwyL1Qso"
      },
      "source": [
        "H0 : rata-rata gmv discount **sama dengan atau kurang dari** gmv non-discount <br>\n",
        "H1 : rata-rata gmv discount **lebih dari** gmv non-discount"
      ]
    },
    {
      "cell_type": "code",
      "metadata": {
        "id": "UgcPwkSw1Qsp"
      },
      "source": [
        "#?st.ttest_ind"
      ],
      "execution_count": null,
      "outputs": []
    },
    {
      "cell_type": "code",
      "metadata": {
        "id": "vclUFePm1Qsp"
      },
      "source": [
        "discount = df[df['discount']=='discount']\n",
        "not_discount = df[df['discount']!='discount']"
      ],
      "execution_count": null,
      "outputs": []
    },
    {
      "cell_type": "code",
      "metadata": {
        "colab": {
          "base_uri": "https://localhost:8080/",
          "height": 206
        },
        "id": "1CNY59gi1Qsp",
        "outputId": "abe103db-0cd1-4c88-88c7-dc60ce66c3e3"
      },
      "source": [
        "discount.head()"
      ],
      "execution_count": null,
      "outputs": [
        {
          "output_type": "execute_result",
          "data": {
            "text/html": [
              "<div>\n",
              "<style scoped>\n",
              "    .dataframe tbody tr th:only-of-type {\n",
              "        vertical-align: middle;\n",
              "    }\n",
              "\n",
              "    .dataframe tbody tr th {\n",
              "        vertical-align: top;\n",
              "    }\n",
              "\n",
              "    .dataframe thead th {\n",
              "        text-align: right;\n",
              "    }\n",
              "</style>\n",
              "<table border=\"1\" class=\"dataframe\">\n",
              "  <thead>\n",
              "    <tr style=\"text-align: right;\">\n",
              "      <th></th>\n",
              "      <th>gmv</th>\n",
              "      <th>discount</th>\n",
              "      <th>user_id</th>\n",
              "    </tr>\n",
              "  </thead>\n",
              "  <tbody>\n",
              "    <tr>\n",
              "      <th>35</th>\n",
              "      <td>1915181</td>\n",
              "      <td>discount</td>\n",
              "      <td>36</td>\n",
              "    </tr>\n",
              "    <tr>\n",
              "      <th>36</th>\n",
              "      <td>1481660</td>\n",
              "      <td>discount</td>\n",
              "      <td>37</td>\n",
              "    </tr>\n",
              "    <tr>\n",
              "      <th>37</th>\n",
              "      <td>1517240</td>\n",
              "      <td>discount</td>\n",
              "      <td>38</td>\n",
              "    </tr>\n",
              "    <tr>\n",
              "      <th>38</th>\n",
              "      <td>1705569</td>\n",
              "      <td>discount</td>\n",
              "      <td>39</td>\n",
              "    </tr>\n",
              "    <tr>\n",
              "      <th>39</th>\n",
              "      <td>1571139</td>\n",
              "      <td>discount</td>\n",
              "      <td>40</td>\n",
              "    </tr>\n",
              "  </tbody>\n",
              "</table>\n",
              "</div>"
            ],
            "text/plain": [
              "        gmv  discount  user_id\n",
              "35  1915181  discount       36\n",
              "36  1481660  discount       37\n",
              "37  1517240  discount       38\n",
              "38  1705569  discount       39\n",
              "39  1571139  discount       40"
            ]
          },
          "metadata": {},
          "execution_count": 6
        }
      ]
    },
    {
      "cell_type": "code",
      "metadata": {
        "colab": {
          "base_uri": "https://localhost:8080/",
          "height": 206
        },
        "id": "FepenNnH1Qsq",
        "outputId": "e0e938c3-60e8-421b-9d70-789ecdc994a7"
      },
      "source": [
        "not_discount.head()"
      ],
      "execution_count": null,
      "outputs": [
        {
          "output_type": "execute_result",
          "data": {
            "text/html": [
              "<div>\n",
              "<style scoped>\n",
              "    .dataframe tbody tr th:only-of-type {\n",
              "        vertical-align: middle;\n",
              "    }\n",
              "\n",
              "    .dataframe tbody tr th {\n",
              "        vertical-align: top;\n",
              "    }\n",
              "\n",
              "    .dataframe thead th {\n",
              "        text-align: right;\n",
              "    }\n",
              "</style>\n",
              "<table border=\"1\" class=\"dataframe\">\n",
              "  <thead>\n",
              "    <tr style=\"text-align: right;\">\n",
              "      <th></th>\n",
              "      <th>gmv</th>\n",
              "      <th>discount</th>\n",
              "      <th>user_id</th>\n",
              "    </tr>\n",
              "  </thead>\n",
              "  <tbody>\n",
              "    <tr>\n",
              "      <th>0</th>\n",
              "      <td>1324911</td>\n",
              "      <td>not-discount</td>\n",
              "      <td>1</td>\n",
              "    </tr>\n",
              "    <tr>\n",
              "      <th>1</th>\n",
              "      <td>1625874</td>\n",
              "      <td>not-discount</td>\n",
              "      <td>2</td>\n",
              "    </tr>\n",
              "    <tr>\n",
              "      <th>2</th>\n",
              "      <td>1432984</td>\n",
              "      <td>not-discount</td>\n",
              "      <td>3</td>\n",
              "    </tr>\n",
              "    <tr>\n",
              "      <th>3</th>\n",
              "      <td>1294427</td>\n",
              "      <td>not-discount</td>\n",
              "      <td>4</td>\n",
              "    </tr>\n",
              "    <tr>\n",
              "      <th>4</th>\n",
              "      <td>1635693</td>\n",
              "      <td>not-discount</td>\n",
              "      <td>5</td>\n",
              "    </tr>\n",
              "  </tbody>\n",
              "</table>\n",
              "</div>"
            ],
            "text/plain": [
              "       gmv      discount  user_id\n",
              "0  1324911  not-discount        1\n",
              "1  1625874  not-discount        2\n",
              "2  1432984  not-discount        3\n",
              "3  1294427  not-discount        4\n",
              "4  1635693  not-discount        5"
            ]
          },
          "metadata": {},
          "execution_count": 7
        }
      ]
    },
    {
      "cell_type": "markdown",
      "metadata": {
        "id": "OyX_qkMJ1Qsq"
      },
      "source": [
        "# Langkah 2"
      ]
    },
    {
      "cell_type": "code",
      "metadata": {
        "colab": {
          "base_uri": "https://localhost:8080/"
        },
        "id": "uebLUYmc1Qsq",
        "outputId": "2633e22c-aa54-4dff-a37e-df0304776435"
      },
      "source": [
        "discount['gmv'].mean()"
      ],
      "execution_count": null,
      "outputs": [
        {
          "output_type": "execute_result",
          "data": {
            "text/plain": [
              "1624246.553846154"
            ]
          },
          "metadata": {},
          "execution_count": 17
        }
      ]
    },
    {
      "cell_type": "code",
      "metadata": {
        "colab": {
          "base_uri": "https://localhost:8080/"
        },
        "id": "_XKpubXr1Qsr",
        "outputId": "5a289820-a819-4960-bc09-08975878d3a0"
      },
      "source": [
        "not_discount['gmv'].mean()"
      ],
      "execution_count": null,
      "outputs": [
        {
          "output_type": "execute_result",
          "data": {
            "text/plain": [
              "1400420.4"
            ]
          },
          "metadata": {},
          "execution_count": 18
        }
      ]
    },
    {
      "cell_type": "markdown",
      "metadata": {
        "id": "f8RnuBJx1Qsr"
      },
      "source": [
        "# Langkah 3 & 4"
      ]
    },
    {
      "cell_type": "code",
      "metadata": {
        "id": "T0-SA_Ed2k3f"
      },
      "source": [
        "?st.ttest_ind"
      ],
      "execution_count": null,
      "outputs": []
    },
    {
      "cell_type": "code",
      "metadata": {
        "colab": {
          "base_uri": "https://localhost:8080/"
        },
        "id": "q02oWWrs1Qsr",
        "outputId": "313f39bc-a36d-40c9-e505-1974582e7f53"
      },
      "source": [
        "# langkah 3\n",
        "ttest = st.ttest_ind(a = discount['gmv'], b=not_discount['gmv'])\n",
        "p_value = ttest.pvalue\n",
        "\n",
        "# langkah 4\n",
        "print('P-Value :',p_value)\n",
        "if p_value >= 0.05:\n",
        "    print('Tidak cukup bukti menyatakan bahwa rata-rata gmv discount lebih dari gmv non-discount')\n",
        "else:\n",
        "    print('Cukup bukti menyatakan (Tolak H0) bahwa rata-rata gmv discount lebih dari gmv non-discount')"
      ],
      "execution_count": null,
      "outputs": [
        {
          "output_type": "stream",
          "name": "stdout",
          "text": [
            "P-Value : 0.0009942306670295464\n",
            "Cukup bukti menyatakan (Tolak H0) bahwa rata-rata gmv discount lebih dari gmv non-discount\n"
          ]
        }
      ]
    },
    {
      "cell_type": "markdown",
      "metadata": {
        "id": "YE-9eV3F1Qss"
      },
      "source": [
        "# Case 2 ANOVA"
      ]
    },
    {
      "cell_type": "code",
      "metadata": {
        "id": "wHbmd7NI1Qss"
      },
      "source": [
        "df2 = pd.read_csv('Iris.csv')\n",
        "\n",
        "# Langkah 1\n",
        "# H0 : Rata-rata SepalWidthCm sama untuk semua species\n",
        "# H1 : Rata-rata SepalWidthCm berbeda untuk beberapa species\n",
        "\n",
        "# Langkah 2\n",
        "df_versicolor = df2[df2['Species'] == 'Iris-versicolor']\n",
        "df_setosa = df2[df2['Species'] == 'Iris-setosa']\n",
        "df_virginica = df2[df2['Species'] == 'Iris-virginica']"
      ],
      "execution_count": null,
      "outputs": []
    },
    {
      "cell_type": "code",
      "metadata": {
        "colab": {
          "base_uri": "https://localhost:8080/"
        },
        "id": "mFXHAu0f1Qss",
        "outputId": "ce1d44a6-2a3e-48f6-8ddd-d27f89efb43f"
      },
      "source": [
        "df2.groupby(['Species'])['SepalWidthCm'].mean()"
      ],
      "execution_count": null,
      "outputs": [
        {
          "output_type": "execute_result",
          "data": {
            "text/plain": [
              "Species\n",
              "Iris-setosa        3.418\n",
              "Iris-versicolor    2.770\n",
              "Iris-virginica     2.974\n",
              "Name: SepalWidthCm, dtype: float64"
            ]
          },
          "metadata": {},
          "execution_count": 22
        }
      ]
    },
    {
      "cell_type": "code",
      "metadata": {
        "id": "PzYVlw0e1Qss"
      },
      "source": [
        "# Langkah 3\n",
        "anova = st.f_oneway(df_versicolor['SepalWidthCm'],df_setosa['SepalWidthCm'],df_virginica['SepalWidthCm'])"
      ],
      "execution_count": null,
      "outputs": []
    },
    {
      "cell_type": "code",
      "metadata": {
        "colab": {
          "base_uri": "https://localhost:8080/"
        },
        "id": "aJGpG4h93ldu",
        "outputId": "006fd7b3-5bf2-42f1-e10f-145b2971ab2a"
      },
      "source": [
        "pvalue = anova.pvalue\n",
        "print(pvalue)\n",
        "if pvalue >= 0.05:\n",
        "  print('Insufficient Reject H0')\n",
        "else:\n",
        "  print('Sufficient Reject H0')"
      ],
      "execution_count": null,
      "outputs": [
        {
          "output_type": "stream",
          "name": "stdout",
          "text": [
            "1.3279165184572242e-16\n",
            "Sufficient Reject H0\n"
          ]
        }
      ]
    }
  ]
}