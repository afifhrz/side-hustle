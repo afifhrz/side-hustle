{
  "nbformat": 4,
  "nbformat_minor": 0,
  "metadata": {
    "kernelspec": {
      "display_name": "Python 3",
      "language": "python",
      "name": "python3"
    },
    "language_info": {
      "codemirror_mode": {
        "name": "ipython",
        "version": 3
      },
      "file_extension": ".py",
      "mimetype": "text/x-python",
      "name": "python",
      "nbconvert_exporter": "python",
      "pygments_lexer": "ipython3",
      "version": "3.7.6"
    },
    "colab": {
      "provenance": []
    }
  },
  "cells": [
    {
      "cell_type": "markdown",
      "metadata": {
        "id": "_LQQLB6Q7ka6"
      },
      "source": [
        "# Import Library"
      ]
    },
    {
      "cell_type": "code",
      "metadata": {
        "colab": {
          "base_uri": "https://localhost:8080/"
        },
        "id": "DT7FK8J77ka-",
        "outputId": "df777044-4957-42e8-c381-0cea9cca4cfb"
      },
      "source": [
        "import pandas as pd\n",
        "import numpy as np\n",
        "import statsmodels.stats.proportion as sp\n",
        "\n",
        "import seaborn as sns"
      ],
      "execution_count": null,
      "outputs": [
        {
          "output_type": "stream",
          "name": "stderr",
          "text": [
            "/usr/local/lib/python3.7/dist-packages/statsmodels/tools/_testing.py:19: FutureWarning: pandas.util.testing is deprecated. Use the functions in the public API at pandas.testing instead.\n",
            "  import pandas.util.testing as tm\n"
          ]
        }
      ]
    },
    {
      "cell_type": "markdown",
      "metadata": {
        "id": "h3GKiye_7ka_"
      },
      "source": [
        "# AB Testing / Experimental Design"
      ]
    },
    {
      "cell_type": "markdown",
      "metadata": {
        "id": "BQnGFrHQ7kbA"
      },
      "source": [
        "## Import Dataset"
      ]
    },
    {
      "cell_type": "code",
      "metadata": {
        "id": "KAQ74oOD7kbA"
      },
      "source": [
        "df_abtest = pd.read_csv('ab_data.csv')"
      ],
      "execution_count": null,
      "outputs": []
    },
    {
      "cell_type": "code",
      "metadata": {
        "id": "R5UP5X5b7kbA",
        "outputId": "e93ef2bf-389a-4e6c-f3c9-0ff872eb2dbf"
      },
      "source": [
        "df_abtest.head()"
      ],
      "execution_count": null,
      "outputs": [
        {
          "data": {
            "text/html": [
              "<div>\n",
              "<style scoped>\n",
              "    .dataframe tbody tr th:only-of-type {\n",
              "        vertical-align: middle;\n",
              "    }\n",
              "\n",
              "    .dataframe tbody tr th {\n",
              "        vertical-align: top;\n",
              "    }\n",
              "\n",
              "    .dataframe thead th {\n",
              "        text-align: right;\n",
              "    }\n",
              "</style>\n",
              "<table border=\"1\" class=\"dataframe\">\n",
              "  <thead>\n",
              "    <tr style=\"text-align: right;\">\n",
              "      <th></th>\n",
              "      <th>user_id</th>\n",
              "      <th>timestamp</th>\n",
              "      <th>group</th>\n",
              "      <th>landing_page</th>\n",
              "      <th>converted</th>\n",
              "    </tr>\n",
              "  </thead>\n",
              "  <tbody>\n",
              "    <tr>\n",
              "      <th>0</th>\n",
              "      <td>851104</td>\n",
              "      <td>2017-01-21 22:11:48.556739</td>\n",
              "      <td>control</td>\n",
              "      <td>old_page</td>\n",
              "      <td>0</td>\n",
              "    </tr>\n",
              "    <tr>\n",
              "      <th>1</th>\n",
              "      <td>804228</td>\n",
              "      <td>2017-01-12 08:01:45.159739</td>\n",
              "      <td>control</td>\n",
              "      <td>old_page</td>\n",
              "      <td>0</td>\n",
              "    </tr>\n",
              "    <tr>\n",
              "      <th>2</th>\n",
              "      <td>661590</td>\n",
              "      <td>2017-01-11 16:55:06.154213</td>\n",
              "      <td>treatment</td>\n",
              "      <td>new_page</td>\n",
              "      <td>0</td>\n",
              "    </tr>\n",
              "    <tr>\n",
              "      <th>3</th>\n",
              "      <td>853541</td>\n",
              "      <td>2017-01-08 18:28:03.143765</td>\n",
              "      <td>treatment</td>\n",
              "      <td>new_page</td>\n",
              "      <td>0</td>\n",
              "    </tr>\n",
              "    <tr>\n",
              "      <th>4</th>\n",
              "      <td>864975</td>\n",
              "      <td>2017-01-21 01:52:26.210827</td>\n",
              "      <td>control</td>\n",
              "      <td>old_page</td>\n",
              "      <td>1</td>\n",
              "    </tr>\n",
              "  </tbody>\n",
              "</table>\n",
              "</div>"
            ],
            "text/plain": [
              "   user_id                   timestamp      group landing_page  converted\n",
              "0   851104  2017-01-21 22:11:48.556739    control     old_page          0\n",
              "1   804228  2017-01-12 08:01:45.159739    control     old_page          0\n",
              "2   661590  2017-01-11 16:55:06.154213  treatment     new_page          0\n",
              "3   853541  2017-01-08 18:28:03.143765  treatment     new_page          0\n",
              "4   864975  2017-01-21 01:52:26.210827    control     old_page          1"
            ]
          },
          "execution_count": 7,
          "metadata": {},
          "output_type": "execute_result"
        }
      ]
    },
    {
      "cell_type": "code",
      "metadata": {
        "id": "v2T9ZcY57kbB",
        "outputId": "188caa0f-8c63-4a8d-b934-d38b5f5c4a68"
      },
      "source": [
        "df_abtest.shape"
      ],
      "execution_count": null,
      "outputs": [
        {
          "data": {
            "text/plain": [
              "(294478, 5)"
            ]
          },
          "execution_count": 14,
          "metadata": {},
          "output_type": "execute_result"
        }
      ]
    },
    {
      "cell_type": "markdown",
      "metadata": {
        "id": "X3k-seXC7kbC"
      },
      "source": [
        "## Separate Control and Treatment Dataset"
      ]
    },
    {
      "cell_type": "code",
      "metadata": {
        "id": "5S-yOduf7kbD"
      },
      "source": [
        "control = df_abtest[df_abtest['group']=='control']\n",
        "treatment = df_abtest[df_abtest['group']=='treatment']"
      ],
      "execution_count": null,
      "outputs": []
    },
    {
      "cell_type": "code",
      "metadata": {
        "id": "VH_41D047kbD",
        "outputId": "3a2d7fef-b266-4476-d1dc-755adbf609f0"
      },
      "source": [
        "control.shape"
      ],
      "execution_count": null,
      "outputs": [
        {
          "data": {
            "text/plain": [
              "(147202, 5)"
            ]
          },
          "execution_count": 15,
          "metadata": {},
          "output_type": "execute_result"
        }
      ]
    },
    {
      "cell_type": "code",
      "metadata": {
        "id": "kBI0yqFx7kbE",
        "outputId": "a050aecb-a683-4190-e4ad-c14a420e11ad"
      },
      "source": [
        "treatment.shape"
      ],
      "execution_count": null,
      "outputs": [
        {
          "data": {
            "text/plain": [
              "(147276, 5)"
            ]
          },
          "execution_count": 16,
          "metadata": {},
          "output_type": "execute_result"
        }
      ]
    },
    {
      "cell_type": "markdown",
      "metadata": {
        "id": "46-MNL7G7kbE"
      },
      "source": [
        "## Calculate Number of Success and Number of Observation"
      ]
    },
    {
      "cell_type": "code",
      "metadata": {
        "id": "tYrpYs4K7kbF"
      },
      "source": [
        "n_success_control = control['converted'].sum()\n",
        "n_success_treatment = treatment['converted'].sum()\n",
        "\n",
        "n_obs_control = control['converted'].count()\n",
        "n_obs_treatment = treatment['converted'].count()"
      ],
      "execution_count": null,
      "outputs": []
    },
    {
      "cell_type": "code",
      "metadata": {
        "id": "Lj_jS3mn7kbF",
        "outputId": "2e015292-6653-4adc-c2e6-a113b2fccf6e"
      },
      "source": [
        "print(n_success_control)"
      ],
      "execution_count": null,
      "outputs": [
        {
          "name": "stdout",
          "output_type": "stream",
          "text": [
            "17723\n"
          ]
        }
      ]
    },
    {
      "cell_type": "code",
      "metadata": {
        "id": "VvacHWz37kbF",
        "outputId": "6499d921-91d4-44c8-a9a4-90b835a74408"
      },
      "source": [
        "print(n_success_treatment)"
      ],
      "execution_count": null,
      "outputs": [
        {
          "name": "stdout",
          "output_type": "stream",
          "text": [
            "17514\n"
          ]
        }
      ]
    },
    {
      "cell_type": "markdown",
      "metadata": {
        "id": "oHbXR__m7kbG"
      },
      "source": [
        "## Calculate Descriptive Statistics"
      ]
    },
    {
      "cell_type": "code",
      "metadata": {
        "id": "sZii82Xa7kbG"
      },
      "source": [
        "control_conversion_rate = n_success_control/n_obs_control\n",
        "treatment_conversion_rate = n_success_treatment/n_obs_treatment"
      ],
      "execution_count": null,
      "outputs": []
    },
    {
      "cell_type": "code",
      "metadata": {
        "id": "-XtxfA287kbG",
        "outputId": "e31d5b65-5343-47e2-c494-1fbedf3aeee7"
      },
      "source": [
        "print('Conversion Rate from Control : {0:0.4f}'.format(control_conversion_rate))\n",
        "print('Conversion Rate from Treatment : {0:0.4f}'.format(treatment_conversion_rate))"
      ],
      "execution_count": null,
      "outputs": [
        {
          "name": "stdout",
          "output_type": "stream",
          "text": [
            "Conversion Rate from Control : 0.1204\n",
            "Conversion Rate from Treatment : 0.1189\n"
          ]
        }
      ]
    },
    {
      "cell_type": "code",
      "metadata": {
        "id": "WVeO9_z67kbG",
        "outputId": "c45dd51a-45aa-461f-b96e-726e3b6e33c5"
      },
      "source": [
        "x = ['control','treatment']\n",
        "value = [control_conversion_rate,treatment_conversion_rate]\n",
        "plt.bar(x,value)\n",
        "\n",
        "plt.ylim(0.118,0.1205)"
      ],
      "execution_count": null,
      "outputs": [
        {
          "data": {
            "text/plain": [
              "(0.118, 0.1205)"
            ]
          },
          "execution_count": 23,
          "metadata": {},
          "output_type": "execute_result"
        },
        {
          "data": {
            "image/png": "[encoded data removed]",
            "text/plain": [
              "<Figure size 432x288 with 1 Axes>"
            ]
          },
          "metadata": {
            "needs_background": "light"
          },
          "output_type": "display_data"
        }
      ]
    },
    {
      "cell_type": "markdown",
      "metadata": {
        "id": "3lJQd03-7kbH"
      },
      "source": [
        "***is the difference significance?*** <br>\n",
        "\n",
        "## Do Hypothesis Testing"
      ]
    },
    {
      "cell_type": "code",
      "metadata": {
        "id": "91pQB-kL7kbH"
      },
      "source": [
        "## making array\n",
        "success = np.array([n_success_control,n_success_treatment])\n",
        "obs = np.array([n_obs_control,n_obs_treatment])"
      ],
      "execution_count": null,
      "outputs": []
    },
    {
      "cell_type": "markdown",
      "metadata": {
        "id": "doAW9ISo7kbH"
      },
      "source": [
        "H0: existing design and new design **have same** conversion rate <br>\n",
        "H1: existing design and new design **do not have same** conversion rate"
      ]
    },
    {
      "cell_type": "code",
      "metadata": {
        "id": "Y-JhSSDX8Yuq"
      },
      "source": [
        "?sp.proportions_ztest"
      ],
      "execution_count": null,
      "outputs": []
    },
    {
      "cell_type": "code",
      "metadata": {
        "id": "sXH2oxuY7kbH"
      },
      "source": [
        "stats,pvalue = sp.proportions_ztest(success,obs)"
      ],
      "execution_count": null,
      "outputs": []
    },
    {
      "cell_type": "code",
      "metadata": {
        "id": "htvgC69x7kbI",
        "outputId": "05863561-490a-41df-bdc0-0d2dfbb1c6fe"
      },
      "source": [
        "print('P-Value : {0:0.4f}'.format(pvalue))\n",
        "if pvalue >= 0.05:\n",
        "    print('Insufficient to reject H0')\n",
        "else :\n",
        "    print('Sufficient to reject H0')"
      ],
      "execution_count": null,
      "outputs": [
        {
          "name": "stdout",
          "output_type": "stream",
          "text": [
            "P-Value : 0.2161\n",
            "Insufficient to reject H0\n"
          ]
        }
      ]
    }
  ]
}