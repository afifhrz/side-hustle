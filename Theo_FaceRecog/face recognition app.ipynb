{
 "cells": [
  {
   "cell_type": "markdown",
   "id": "935f6a03",
   "metadata": {},
   "source": [
    "# Train"
   ]
  },
  {
   "cell_type": "code",
   "execution_count": 6,
   "id": "3bc87d97",
   "metadata": {},
   "outputs": [],
   "source": [
    "import numpy as np \n",
    "import pandas as pd\n",
    "import tensorflow as tf\n",
    "from tensorflow.keras.preprocessing.image import ImageDataGenerator\n",
    "from tensorflow import keras\n",
    "from tensorflow.keras import layers\n",
    "import matplotlib.pyplot as plt\n",
    "import cv2\n",
    "import joblib"
   ]
  },
  {
   "cell_type": "code",
   "execution_count": 7,
   "id": "d476ce9c",
   "metadata": {},
   "outputs": [
    {
     "name": "stdout",
     "output_type": "stream",
     "text": [
      "Found 10 images belonging to 2 classes.\n"
     ]
    }
   ],
   "source": [
    "data = 'Face_Dataset'\n",
    "\n",
    "datagen = ImageDataGenerator(samplewise_center=False,\n",
    "                             samplewise_std_normalization=False,\n",
    "                             horizontal_flip = True,\n",
    "                             vertical_flip = False,\n",
    "                             height_shift_range = 0.15,\n",
    "                             width_shift_range = 0.15,\n",
    "                             rotation_range = 5,\n",
    "                             shear_range = 0.01,\n",
    "                             fill_mode = 'nearest',\n",
    "                             zoom_range=0.10)\n",
    "\n",
    "train_it = datagen.flow_from_directory(data,\n",
    "                                       target_size=(224,224),\n",
    "                                       batch_size=1,\n",
    "                                       color_mode='rgb',\n",
    "                                       class_mode='categorical')\n",
    "\n",
    "base_model = keras.applications.ResNet50( weights='imagenet', input_shape=(224,224, 3), include_top=False)\n",
    "inputs = keras.Input(shape=(224,224, 3))\n",
    "\n",
    "x = base_model(inputs, training=False)"
   ]
  },
  {
   "cell_type": "code",
   "execution_count": null,
   "id": "56a45b2f",
   "metadata": {
    "scrolled": true
   },
   "outputs": [],
   "source": [
    "# Add pooling layer or flatten layer\n",
    "x = keras.layers.Flatten()(x)\n",
    "# Add final dense layer\n",
    "outputs = keras.layers.Dense(2, activation = 'softmax')(x)\n",
    "# Combine inputs and outputs to create model\n",
    "model = keras.Model(inputs=inputs, outputs=outputs)\n",
    "\n",
    "base_model.trainable = False\n",
    "\n",
    "# Compile the model with a low learning rate\n",
    "model.compile(optimizer=keras.optimizers.RMSprop(learning_rate = 0.0001),\n",
    "              loss = 'categorical_crossentropy' , metrics = ['accuracy'])\n",
    "\n",
    "history = model.fit(train_it,steps_per_epoch=2,epochs=30)"
   ]
  },
  {
   "cell_type": "code",
   "execution_count": null,
   "id": "f1eded69",
   "metadata": {},
   "outputs": [],
   "source": [
    "#save model\n",
    "filename = 'saved_model.sav'\n",
    "joblib.dump(model, filename)"
   ]
  },
  {
   "cell_type": "markdown",
   "id": "d7732a7c",
   "metadata": {},
   "source": [
    "# Run Program"
   ]
  },
  {
   "cell_type": "code",
   "execution_count": 1,
   "id": "c0e3a2ed",
   "metadata": {},
   "outputs": [],
   "source": [
    "import numpy as np \n",
    "import pandas as pd\n",
    "import tensorflow as tf\n",
    "from tensorflow.keras.preprocessing.image import ImageDataGenerator\n",
    "from tensorflow import keras\n",
    "from tensorflow.keras import layers\n",
    "import matplotlib.pyplot as plt\n",
    "import cv2\n",
    "import joblib"
   ]
  },
  {
   "cell_type": "code",
   "execution_count": null,
   "id": "af96c767",
   "metadata": {},
   "outputs": [],
   "source": [
    "#load saved model\n",
    "filename = 'saved_model.sav'\n",
    "load_model = joblib.load(filename)"
   ]
  },
  {
   "cell_type": "code",
   "execution_count": null,
   "id": "bd825a73",
   "metadata": {},
   "outputs": [],
   "source": [
    "import cv2\n",
    "import sys\n",
    "import numpy as np\n",
    "from tensorflow.keras.utils import load_img, img_to_array\n",
    "import matplotlib.pyplot as plt\n",
    "import matplotlib.image as mpimg\n",
    "%matplotlib inline\n",
    "\n",
    "cascPath = sys.argv[1]\n",
    "faceCascade = cv2.CascadeClassifier('haarcascade_frontalface_default.xml')\n",
    "\n",
    "video_capture = cv2.VideoCapture(0)\n",
    "image = video_capture.read()\n",
    "count = 0\n",
    "\n",
    "while True:\n",
    "    # Capture frame-by-frame\n",
    "    ret, frame = video_capture.read()\n",
    "\n",
    "    gray = cv2.cvtColor(frame, cv2.COLOR_BGR2GRAY)\n",
    "    \n",
    "    #saves frame as jpg file\n",
    "    # cv2.imwrite(\"Test_for_vidcap\\%d.jpg\" % count, frame)\n",
    "    \n",
    "#     predicting images\n",
    "    # path = 'Test_for_vidcap\\%d.jpg' % count\n",
    "    path = 'Face_Dataset\\\\hariz\\\\0.jpg'\n",
    "    img = load_img(path, target_size=(224,224))\n",
    "#     imgplot = plt.imshow(img)\n",
    "    x = img_to_array(img)\n",
    "    x = np.expand_dims(x, axis=0)\n",
    "\n",
    "    images = np.vstack([x])\n",
    "    classes = load_model.predict(images, batch_size=10)\n",
    "\n",
    "    if classes[0][0]==1:\n",
    "        print('Asing')\n",
    "    elif classes[0][1]==1:\n",
    "        print('Hariz')\n",
    "    else:\n",
    "        print(\"Undetected\")\n",
    "\n",
    "    # faces = faceCascade.detectMultiScale(\n",
    "    #     gray,\n",
    "    #     scaleFactor=1.1,\n",
    "    #     minNeighbors=5,\n",
    "    #     minSize=(30, 30),\n",
    "    #     flags=cv2.CASCADE_SCALE_IMAGE\n",
    "    # )\n",
    "    \n",
    "    # count += 1\n",
    "\n",
    "    # # Draw a rectangle around the faces\n",
    "    # for (x, y, w, h) in faces:\n",
    "    #     cv2.rectangle(frame, (x, y), (x+w, y+h), (0, 255, 0), 2)\n",
    "\n",
    "    # # Display the resulting frame\n",
    "    # cv2.imshow('Video', frame)\n",
    "\n",
    "    # if cv2.waitKey(1) & 0xFF == ord('q'):\n",
    "    #     break\n",
    "\n",
    "# # press escape to exit\n",
    "#     if (cv2.waitKey(30) == 27):\n",
    "#        break\n",
    "cap.release()\n",
    "cv2.destroyAllWindows()"
   ]
  }
 ],
 "metadata": {
  "kernelspec": {
   "display_name": "Python 3.8.10 64-bit",
   "language": "python",
   "name": "python3"
  },
  "language_info": {
   "codemirror_mode": {
    "name": "ipython",
    "version": 3
   },
   "file_extension": ".py",
   "mimetype": "text/x-python",
   "name": "python",
   "nbconvert_exporter": "python",
   "pygments_lexer": "ipython3",
   "version": "3.8.10"
  },
  "vscode": {
   "interpreter": {
    "hash": "565333eb9d941203b79861636394ff2b4b7537ff3428fce23d2e9e4bbc4eed31"
   }
  }
 },
 "nbformat": 4,
 "nbformat_minor": 5
}
