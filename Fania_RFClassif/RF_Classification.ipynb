{
 "cells": [
  {
   "cell_type": "code",
   "execution_count": 1,
   "metadata": {},
   "outputs": [],
   "source": [
    "import pandas as pd\n",
    "import numpy as np\n",
    "import matplotlib.pyplot as plt\n",
    "import seaborn as sns\n",
    "from numpy import mean\n",
    "from numpy import std\n",
    "from sklearn.model_selection import cross_val_score\n",
    "from sklearn.model_selection import RepeatedKFold\n",
    "from sklearn.ensemble import RandomForestClassifier"
   ]
  },
  {
   "cell_type": "code",
   "execution_count": 2,
   "metadata": {},
   "outputs": [],
   "source": [
    "df = pd.read_excel('Data Skincare (All).xlsx')\n",
    "model = RandomForestClassifier(n_jobs=-1, oob_score=True)\n",
    "# evaluate a given model using cross-validation\n",
    "def accuracy_model(model, X, y):\n",
    "\t# define the evaluation procedure\n",
    "\tcv = RepeatedKFold(n_splits=5, n_repeats=3, random_state=1)\n",
    "\t# evaluate the model and collect the results\n",
    "\tscores = cross_val_score(model, X, y, scoring='accuracy', cv=cv, n_jobs=-1, error_score='raise')\n",
    "\treturn scores\n",
    "\n",
    "def f1_model(model, X, y):\n",
    "\t# define the evaluation procedure\n",
    "\tcv = RepeatedKFold(n_splits=5, n_repeats=3, random_state=1)\n",
    "\t# evaluate the model and collect the results\n",
    "\tscores = cross_val_score(model, X, y, scoring='f1', cv=cv, n_jobs=-1, error_score='raise')\n",
    "\treturn scores\n",
    "\n",
    "def roc_auc_model(model, X, y):\n",
    "  # define the evaluation procedure\n",
    "  cv = RepeatedKFold(n_splits=5, n_repeats=3, random_state=1)\n",
    "\t# evaluate the model and collect the results\n",
    "  scores = cross_val_score(model, X, y, scoring='roc_auc', cv=cv, n_jobs=-1, error_score='raise')\n",
    "  return scores"
   ]
  },
  {
   "cell_type": "code",
   "execution_count": 3,
   "metadata": {},
   "outputs": [
    {
     "name": "stdout",
     "output_type": "stream",
     "text": [
      "Accuracy 0.645 (0.049)\n",
      "F1 0.762 (0.036)\n",
      "ROC AUC 0.633 (0.065)\n",
      "\n",
      "Base Model Full Train Accuracy Score =  0.9344262295081968\n"
     ]
    },
    {
     "name": "stderr",
     "output_type": "stream",
     "text": [
      "c:\\Users\\ZENI\\AppData\\Local\\Programs\\Python\\Python38\\lib\\site-packages\\sklearn\\base.py:441: UserWarning: X does not have valid feature names, but RandomForestClassifier was fitted with feature names\n",
      "  warnings.warn(\n"
     ]
    }
   ],
   "source": [
    "# get the models to evaluate\n",
    "models = model\n",
    "\n",
    "# evaluate the models and store results\n",
    "results, names = list(), list()\n",
    "\n",
    "X = df.copy()\n",
    "X.drop(['Skincare'],axis=1,inplace=True)\n",
    "\n",
    "y = df['Skincare'].copy()\n",
    "\n",
    "# evaluate the model\n",
    "acc_scores = accuracy_model(model, X, y)\n",
    "f1_scores = f1_model(model, X, y)\n",
    "roc_scores = roc_auc_model(model, X, y)\n",
    "\n",
    "# summarize the performance along the way\n",
    "print('Accuracy %.3f (%.3f)' % (mean(acc_scores), std(acc_scores)))\n",
    "print('F1 %.3f (%.3f)' % (mean(f1_scores), std(f1_scores)))\n",
    "print('ROC AUC %.3f (%.3f)' % (mean(roc_scores), std(roc_scores)))\n",
    "\n",
    "model.fit(X, y)\n",
    "\n",
    "# plot model performance for comparison\n",
    "#pyplot.boxplot(results, labels=names, showmeans=True)\n",
    "#pyplot.show()\n",
    "\n",
    "print('\\nBase Model Full Train Accuracy Score = ', model.score(X,y))"
   ]
  },
  {
   "cell_type": "code",
   "execution_count": 4,
   "metadata": {},
   "outputs": [
    {
     "name": "stdout",
     "output_type": "stream",
     "text": [
      "[0.55813953 0.65116279 0.58823529 0.70588235 0.68235294 0.60465116\n",
      " 0.65116279 0.68235294 0.64705882 0.70588235 0.70930233 0.61627907\n",
      " 0.56470588 0.62352941 0.68235294]\n"
     ]
    }
   ],
   "source": [
    "print(acc_scores)"
   ]
  },
  {
   "cell_type": "code",
   "execution_count": 5,
   "metadata": {},
   "outputs": [
    {
     "name": "stdout",
     "output_type": "stream",
     "text": [
      "[0.69642857 0.78195489 0.736      0.81751825 0.8        0.72268908\n",
      " 0.78518519 0.76422764 0.77941176 0.79674797 0.78740157 0.72580645\n",
      " 0.72440945 0.72413793 0.78787879]\n"
     ]
    }
   ],
   "source": [
    "print(f1_scores)"
   ]
  },
  {
   "cell_type": "code",
   "execution_count": 6,
   "metadata": {},
   "outputs": [
    {
     "name": "stdout",
     "output_type": "stream",
     "text": [
      "[0.63927192 0.61048336 0.5730303  0.66810967 0.72033333 0.69527778\n",
      " 0.66977226 0.60756193 0.54530639 0.69424242 0.67103495 0.56666667\n",
      " 0.48275862 0.64426523 0.70250896]\n"
     ]
    }
   ],
   "source": [
    "print(roc_scores)"
   ]
  },
  {
   "cell_type": "code",
   "execution_count": 7,
   "metadata": {},
   "outputs": [
    {
     "data": {
      "text/plain": [
       "array([0.60465116, 0.69767442, 0.64705882, 0.69411765, 0.68235294])"
      ]
     },
     "execution_count": 7,
     "metadata": {},
     "output_type": "execute_result"
    }
   ],
   "source": [
    "cross_val_score(model, X, y, scoring='accuracy', n_jobs=-1, error_score='raise')"
   ]
  },
  {
   "cell_type": "code",
   "execution_count": 8,
   "metadata": {},
   "outputs": [
    {
     "data": {
      "text/plain": [
       "array([0.74603175, 0.76923077, 0.8030303 , 0.78688525, 0.78461538])"
      ]
     },
     "execution_count": 8,
     "metadata": {},
     "output_type": "execute_result"
    }
   ],
   "source": [
    "cross_val_score(model, X, y, scoring='f1', n_jobs=-1, error_score='raise')"
   ]
  },
  {
   "cell_type": "code",
   "execution_count": 9,
   "metadata": {},
   "outputs": [
    {
     "data": {
      "text/plain": [
       "array([0.60163339, 0.69181034, 0.66196742, 0.61403509, 0.6679198 ])"
      ]
     },
     "execution_count": 9,
     "metadata": {},
     "output_type": "execute_result"
    }
   ],
   "source": [
    "cross_val_score(model, X, y, scoring='roc_auc', n_jobs=-1, error_score='raise')"
   ]
  },
  {
   "cell_type": "code",
   "execution_count": 10,
   "metadata": {},
   "outputs": [
    {
     "data": {
      "image/png": "[encoded data removed]",
      "text/plain": [
       "<Figure size 432x288 with 1 Axes>"
      ]
     },
     "metadata": {
      "needs_background": "light"
     },
     "output_type": "display_data"
    }
   ],
   "source": [
    "from sklearn.metrics import RocCurveDisplay\n",
    "ax = plt.gca()\n",
    "rfc_disp = RocCurveDisplay.from_estimator(model, X, y, ax=ax, alpha=0.5)\n",
    "plt.show()"
   ]
  },
  {
   "cell_type": "code",
   "execution_count": 11,
   "metadata": {},
   "outputs": [],
   "source": [
    "def feat_importance(m, df_train):\n",
    "    importance = m.feature_importances_\n",
    "    importance = pd.DataFrame(importance, index=df_train.columns, columns=[\"Importance\"])\n",
    "    return importance.sort_values(by=['Importance'],ascending=False)\n",
    "\n",
    "def plot_feature_importance(importance,names,model_type):\n",
    "\n",
    "    #Create arrays from feature importance and feature names\n",
    "    feature_importance = np.array(importance)\n",
    "    feature_names = np.array(names)\n",
    "\n",
    "    #Create a DataFrame using a Dictionary\n",
    "    data={'feature_names':feature_names,'feature_importance':feature_importance}\n",
    "    fi_df = pd.DataFrame(data)\n",
    "\n",
    "    #Sort the DataFrame in order decreasing feature importance\n",
    "    fi_df.sort_values(by=['feature_importance'], ascending=False,inplace=True)\n",
    "\n",
    "    #Define size of bar plot\n",
    "    plt.figure(figsize=(10,8))\n",
    "    #Plot Searborn bar chart\n",
    "    sns.barplot(x=fi_df['feature_importance'], y=fi_df['feature_names'])\n",
    "    #Add chart labels\n",
    "    plt.title(model_type + 'FEATURE IMPORTANCE')\n",
    "    plt.xlabel('FEATURE IMPORTANCE')\n",
    "    plt.ylabel('FEATURE NAMES')"
   ]
  },
  {
   "cell_type": "code",
   "execution_count": 12,
   "metadata": {},
   "outputs": [
    {
     "data": {
      "image/png": "[encoded data removed]",
      "text/plain": [
       "<Figure size 720x576 with 1 Axes>"
      ]
     },
     "metadata": {
      "needs_background": "light"
     },
     "output_type": "display_data"
    }
   ],
   "source": [
    "importance = feat_importance(model, X)\n",
    "plot_feature_importance(importance['Importance'],importance.index,'RANDOM FOREST ')"
   ]
  },
  {
   "cell_type": "code",
   "execution_count": 13,
   "metadata": {},
   "outputs": [
    {
     "data": {
      "text/html": [
       "<div>\n",
       "<style scoped>\n",
       "    .dataframe tbody tr th:only-of-type {\n",
       "        vertical-align: middle;\n",
       "    }\n",
       "\n",
       "    .dataframe tbody tr th {\n",
       "        vertical-align: top;\n",
       "    }\n",
       "\n",
       "    .dataframe thead th {\n",
       "        text-align: right;\n",
       "    }\n",
       "</style>\n",
       "<table border=\"1\" class=\"dataframe\">\n",
       "  <thead>\n",
       "    <tr style=\"text-align: right;\">\n",
       "      <th></th>\n",
       "      <th>Importance</th>\n",
       "    </tr>\n",
       "  </thead>\n",
       "  <tbody>\n",
       "    <tr>\n",
       "      <th>Product3</th>\n",
       "      <td>0.054845</td>\n",
       "    </tr>\n",
       "    <tr>\n",
       "      <th>Promotion8</th>\n",
       "      <td>0.053843</td>\n",
       "    </tr>\n",
       "    <tr>\n",
       "      <th>Price1</th>\n",
       "      <td>0.053447</td>\n",
       "    </tr>\n",
       "    <tr>\n",
       "      <th>Product5</th>\n",
       "      <td>0.052512</td>\n",
       "    </tr>\n",
       "    <tr>\n",
       "      <th>Promotion7</th>\n",
       "      <td>0.047417</td>\n",
       "    </tr>\n",
       "    <tr>\n",
       "      <th>Promotion4</th>\n",
       "      <td>0.043456</td>\n",
       "    </tr>\n",
       "    <tr>\n",
       "      <th>Promotion2</th>\n",
       "      <td>0.040811</td>\n",
       "    </tr>\n",
       "    <tr>\n",
       "      <th>Price3</th>\n",
       "      <td>0.039765</td>\n",
       "    </tr>\n",
       "    <tr>\n",
       "      <th>Promotion3</th>\n",
       "      <td>0.039585</td>\n",
       "    </tr>\n",
       "    <tr>\n",
       "      <th>Promotion9</th>\n",
       "      <td>0.039504</td>\n",
       "    </tr>\n",
       "    <tr>\n",
       "      <th>Promotion1</th>\n",
       "      <td>0.038816</td>\n",
       "    </tr>\n",
       "    <tr>\n",
       "      <th>Product7</th>\n",
       "      <td>0.038579</td>\n",
       "    </tr>\n",
       "    <tr>\n",
       "      <th>Product2</th>\n",
       "      <td>0.038108</td>\n",
       "    </tr>\n",
       "    <tr>\n",
       "      <th>Product4</th>\n",
       "      <td>0.037443</td>\n",
       "    </tr>\n",
       "    <tr>\n",
       "      <th>Product8</th>\n",
       "      <td>0.037107</td>\n",
       "    </tr>\n",
       "    <tr>\n",
       "      <th>Product9</th>\n",
       "      <td>0.036458</td>\n",
       "    </tr>\n",
       "    <tr>\n",
       "      <th>Promotion6</th>\n",
       "      <td>0.036124</td>\n",
       "    </tr>\n",
       "    <tr>\n",
       "      <th>Place2</th>\n",
       "      <td>0.035259</td>\n",
       "    </tr>\n",
       "    <tr>\n",
       "      <th>Promotion5</th>\n",
       "      <td>0.035211</td>\n",
       "    </tr>\n",
       "    <tr>\n",
       "      <th>Place1</th>\n",
       "      <td>0.034269</td>\n",
       "    </tr>\n",
       "    <tr>\n",
       "      <th>Place4</th>\n",
       "      <td>0.030711</td>\n",
       "    </tr>\n",
       "    <tr>\n",
       "      <th>Price2</th>\n",
       "      <td>0.030167</td>\n",
       "    </tr>\n",
       "    <tr>\n",
       "      <th>Place3</th>\n",
       "      <td>0.029891</td>\n",
       "    </tr>\n",
       "    <tr>\n",
       "      <th>Place5</th>\n",
       "      <td>0.025737</td>\n",
       "    </tr>\n",
       "    <tr>\n",
       "      <th>Product6</th>\n",
       "      <td>0.025515</td>\n",
       "    </tr>\n",
       "    <tr>\n",
       "      <th>Product1</th>\n",
       "      <td>0.025420</td>\n",
       "    </tr>\n",
       "  </tbody>\n",
       "</table>\n",
       "</div>"
      ],
      "text/plain": [
       "            Importance\n",
       "Product3      0.054845\n",
       "Promotion8    0.053843\n",
       "Price1        0.053447\n",
       "Product5      0.052512\n",
       "Promotion7    0.047417\n",
       "Promotion4    0.043456\n",
       "Promotion2    0.040811\n",
       "Price3        0.039765\n",
       "Promotion3    0.039585\n",
       "Promotion9    0.039504\n",
       "Promotion1    0.038816\n",
       "Product7      0.038579\n",
       "Product2      0.038108\n",
       "Product4      0.037443\n",
       "Product8      0.037107\n",
       "Product9      0.036458\n",
       "Promotion6    0.036124\n",
       "Place2        0.035259\n",
       "Promotion5    0.035211\n",
       "Place1        0.034269\n",
       "Place4        0.030711\n",
       "Price2        0.030167\n",
       "Place3        0.029891\n",
       "Place5        0.025737\n",
       "Product6      0.025515\n",
       "Product1      0.025420"
      ]
     },
     "execution_count": 13,
     "metadata": {},
     "output_type": "execute_result"
    }
   ],
   "source": [
    "importance"
   ]
  }
 ],
 "metadata": {
  "interpreter": {
   "hash": "a4848ea9d8b6294b57bd7872dfa11ae20ad13c096ce18d75b5394960f7a053c0"
  },
  "kernelspec": {
   "display_name": "Python 3.8.5 64-bit",
   "language": "python",
   "name": "python3"
  },
  "language_info": {
   "codemirror_mode": {
    "name": "ipython",
    "version": 3
   },
   "file_extension": ".py",
   "mimetype": "text/x-python",
   "name": "python",
   "nbconvert_exporter": "python",
   "pygments_lexer": "ipython3",
   "version": "3.8.5"
  },
  "orig_nbformat": 4
 },
 "nbformat": 4,
 "nbformat_minor": 2
}
