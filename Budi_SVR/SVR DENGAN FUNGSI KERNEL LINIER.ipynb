{
 "cells": [
  {
   "cell_type": "code",
   "execution_count": null,
   "id": "4d551a13",
   "metadata": {},
   "outputs": [],
   "source": [
    "# Hapus saja Library Yang Tidak Dipakai\n",
    "\n",
    "import numpy as np\n",
    "import pandas as pd\n",
    "import matplotlib.pyplot as plt\n",
    "import math\n",
    "from sklearn.preprocessing import MinMaxScaler\n",
    "import pandas as pd\n",
    "from sklearn.linear_model import LinearRegression\n",
    "from sklearn.metrics import r2_score\n",
    "from sklearn.model_selection import train_test_split\n",
    "from sklearn.metrics import mean_squared_error\n",
    "\n",
    "import pandas as pd\n",
    "import numpy as np\n",
    "from math import sqrt\n",
    "from numpy import log\n",
    "from pandas import Series\n",
    "from sympy import symbols, hessian, Function, N\n",
    "\n",
    "import statsmodels as sm\n",
    "\n",
    "# matplotlib and seaborn are used for plotting graphs\n",
    "import matplotlib.pyplot as plt\n",
    "from matplotlib.dates import date2num\n",
    "import seaborn as sns\n",
    "from datetime import datetime\n",
    "import subprocess"
   ]
  },
  {
   "cell_type": "code",
   "execution_count": null,
   "id": "99d569d3",
   "metadata": {},
   "outputs": [],
   "source": [
    "data1 = pd.read_excel('DATA-SVR.xlsx')\n",
    "data1 = data1.dropna(axis=1, how='all')\n",
    "data1.head()"
   ]
  },
  {
   "cell_type": "code",
   "execution_count": null,
   "id": "e4bf13c4",
   "metadata": {},
   "outputs": [],
   "source": [
    "# Ini nanti digunakan buat menghitung jarak antar data latih di fungsi kernel RBF\n",
    "X_jarak =data1.iloc[:,1:7]\n",
    "X_jarak"
   ]
  },
  {
   "cell_type": "markdown",
   "id": "2b3bc013",
   "metadata": {},
   "source": [
    "# Split Dataset"
   ]
  },
  {
   "cell_type": "code",
   "execution_count": null,
   "id": "9d03f422",
   "metadata": {},
   "outputs": [],
   "source": [
    "# split dataset\n",
    "X = data1.iloc[:,2:8]\n",
    "Y = data1['Selisih']\n",
    "X"
   ]
  },
  {
   "cell_type": "code",
   "execution_count": null,
   "id": "3164e4fd",
   "metadata": {},
   "outputs": [],
   "source": [
    "X_train, X_test, y_train, y_test = train_test_split(X, Y, test_size=0.25, shuffle=False)\n",
    "X_train.shape[0]"
   ]
  },
  {
   "cell_type": "markdown",
   "id": "97f6b376",
   "metadata": {},
   "source": [
    "# Matriks Hessian Linear dan Sequential Learning"
   ]
  },
  {
   "cell_type": "code",
   "execution_count": null,
   "id": "23fc7d15",
   "metadata": {},
   "outputs": [],
   "source": [
    "# Optimasi Pakai Grid Search\n",
    "# Parameter SVR \n",
    "lamda   = 0.01\n",
    "epsilon = 0.00001\n",
    "cLR     = 0.005\n",
    "C       = 0.5"
   ]
  },
  {
   "cell_type": "markdown",
   "id": "37271c09",
   "metadata": {},
   "source": [
    "# Bentuk Matriks Hessian"
   ]
  },
  {
   "cell_type": "code",
   "execution_count": null,
   "id": "f8c9c714",
   "metadata": {},
   "outputs": [],
   "source": [
    "## Matriks Hessian Linear\n",
    "\n",
    "def matrixHessianLinear(X_train,lamda):\n",
    "    xT = X_train.T\n",
    "    # Rumus Sesuai Fungsi Kernel Linier (Pers 3.10)\n",
    "    hessian_x = np.dot(X_train, xT) + lamda**2\n",
    "    return hessian_x\n",
    "\n",
    "hessian_linear = matrixHessianLinear(X_train,lamda)\n",
    "hessian_linear"
   ]
  },
  {
   "cell_type": "markdown",
   "id": "1a1f3cc6",
   "metadata": {},
   "source": [
    "# Sequential Learning "
   ]
  },
  {
   "cell_type": "code",
   "execution_count": null,
   "id": "711009f5",
   "metadata": {},
   "outputs": [],
   "source": [
    "a_star = list(np.zeros(X_train.shape[0]))\n",
    "a = list(np.zeros(X_train.shape[0]))\n",
    "kolom = hessian_linear.shape[0]\n",
    "nilaiE = np.zeros((kolom,kolom))\n",
    "total_error = []\n",
    "for i in range(kolom):\n",
    "    sum_a_star = 0\n",
    "    for j in range(kolom):\n",
    "        sum_a_star = (a_star[j] - a[j]) * hessian_linear[i][j]\n",
    "    nilaiE = y_train[i] - sum_a_star\n",
    "    total_error.append(nilaiE) #apakah nilai eror nya tunggal \n",
    "total_error[0]"
   ]
  },
  {
   "cell_type": "code",
   "execution_count": null,
   "id": "5f221d26",
   "metadata": {},
   "outputs": [],
   "source": [
    "## Sequential Learning \n",
    "## Tujuan dari Seq.Learning untuk memperoleh nilai a_star dan a\n",
    "\n",
    "maxR = max(hessian_linear.diagonal())\n",
    "lr = cLR/maxR\n",
    "lr\n",
    "# def nilaiError_lin(hessian_linear,a_star,a,y_train):\n",
    "#   a_star = list(np.zeros(X_train.shape[0]))\n",
    "#   a = list(np.zeros(X_train.shape[0]))\n",
    "#   kolom = hessian_linear.shape[0]\n",
    "#   nilaiE = np.zeros((kolom,kolom))\n",
    "#   total_error = []\n",
    "#   for i in range(kolom):\n",
    "#       sum_a_star = 0\n",
    "#       for j in range(kolom):\n",
    "#           sum_a_star = (a_star[j] - a[j]) * hessian_linear[i][j]\n",
    "#       nilaiE = y_train[i] - sum_a_star\n",
    "#       total_error.append(nilaiE)\n",
    "#   #print(len(total_error))\n",
    "#       return total_error\n",
    "\n",
    "max_iteration = 100\n",
    "a_star = list(np.zeros(X_train.shape[0]))\n",
    "a_star_float = np.asarray(a_star)\n",
    "a = list(np.zeros(X_train.shape[0]))\n",
    "a_float = np.asarray(a)\n",
    "nilaiEr = []\n",
    "delta_a_star = []\n",
    "nilaiErArray = []\n",
    "fmax = 0\n",
    "\n",
    "# for i in range(max_iteration):\n",
    "    \n",
    "#   nilaiEr.append(nilaiError_lin(hessian_linear, a_star[i], a, y_train))\n",
    "\n",
    "nilaiErArray = (np.array(total_error))\n",
    "\n",
    "delta_a_star = []\n",
    "delta_a = []\n",
    "a_final = []\n",
    "a_star_final = []\n",
    "fmax = []\n",
    "for i in range(max_iteration):\n",
    "  fmax.append(max(((lr*nilaiErArray[i]) - epsilon),-a_star_float[i]))\n",
    "for i in range(max_iteration):\n",
    "  delta_a_star.append(min(fmax[i],(C - a_star_float[i])))\n",
    "  a_star_final.append(a_star_float[i] + delta_a_star[i]) \n",
    "a_maks = [] \n",
    "for i in range(max_iteration) :\n",
    "    a_maks.append(max(lr*(-nilaiErArray[i]-epsilon),-a_float[i]))\n",
    "for i in range(max_iteration):\n",
    "    delta_a.append(min(a_maks[i],C - a_float[i]))\n",
    "    a_final.append(delta_a[i] + a_float[i])\n",
    "print(\"a_star: \",a_star_final[0]) \n",
    "print(\"a :\",a_final[0])  \n",
    "plt.plot(a_star_final)  "
   ]
  },
  {
   "cell_type": "code",
   "execution_count": null,
   "id": "a2a15860",
   "metadata": {},
   "outputs": [],
   "source": [
    "## FUNGSI REGRESI ADA DI (PERS 3.8)"
   ]
  },
  {
   "cell_type": "code",
   "execution_count": null,
   "id": "94d2db64",
   "metadata": {},
   "outputs": [],
   "source": [
    "## Prediksi nilai baru \n",
    "\n",
    "def matrixHessianLinear_test(X_test, X_train,lamda):\n",
    "    xT = X_train.T\n",
    "    hessian_X_test = np.dot(X_test, xT) + lamda**2\n",
    "    return hessian_X_test\n",
    "\n",
    "hessian_X_test = matrixHessianLinear_test(X_test,X_train,lamda)\n",
    "hessian_X_test_ = np.asarray(hessian_X_test)\n",
    "# Fungsi Regresi\n",
    "## Pakai data train bisa, data test gak bisa\n",
    "\n",
    "baris = hessian_X_test.shape[0]\n",
    "kolom = hessian_X_test.shape[1]\n",
    "sum_fx = []\n",
    "selisih_a = []\n",
    "for i in range(len(a_star_final)):\n",
    "  selisih_a.append(a_star_final[i] - a_star[i]) #??\n",
    "selisih_a = np.array(selisih_a[:77])\n",
    "for i in range(baris):\n",
    "  sum_ = 0\n",
    "  for j in range(kolom):\n",
    "    sum_ = selisih_a * (hessian_X_test_[i][j] * (lamda**2))\n",
    "print(len(selisih_a))\n",
    "\n",
    "#     sum_fx.append(sum((a_star_final[j] - a_final[j]) * (hessian_X_test_[i][j] * (lamda**2) )))   \n",
    "# sum_fx = fungsiRegresi(hessian_X_test,a_star,a)\n",
    "# sum_fx\n",
    "plt.plot(sum_)"
   ]
  },
  {
   "cell_type": "code",
   "execution_count": null,
   "id": "4e6d23bf",
   "metadata": {},
   "outputs": [],
   "source": [
    "plt.plot(y_test)\n",
    "print(len(y_test))"
   ]
  },
  {
   "cell_type": "code",
   "execution_count": null,
   "id": "cff4fcd4",
   "metadata": {},
   "outputs": [],
   "source": [
    "from sklearn.metrics import mean_absolute_percentage_error \n",
    "mape = mean_absolute_percentage_error(y_test,sum_)\n",
    "print(\"mape = %.2f\" % (mape),\"%\")\n"
   ]
  }
 ],
 "metadata": {
  "kernelspec": {
   "display_name": "Python 3",
   "language": "python",
   "name": "python3"
  },
  "language_info": {
   "codemirror_mode": {
    "name": "ipython",
    "version": 3
   },
   "file_extension": ".py",
   "mimetype": "text/x-python",
   "name": "python",
   "nbconvert_exporter": "python",
   "pygments_lexer": "ipython3",
   "version": "3.8.8"
  }
 },
 "nbformat": 4,
 "nbformat_minor": 5
}
