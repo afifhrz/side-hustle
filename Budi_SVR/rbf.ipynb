{
 "cells": [
  {
   "cell_type": "markdown",
   "metadata": {},
   "source": [
    "#One Time Run"
   ]
  },
  {
   "cell_type": "code",
   "execution_count": 1,
   "metadata": {},
   "outputs": [],
   "source": [
    "import pandas as pd\n",
    "import numpy as np\n",
    "import math\n",
    "\n",
    "from sklearn.model_selection import train_test_split\n",
    "from sklearn.metrics import mean_absolute_percentage_error\n",
    "\n",
    "from sklearn.preprocessing import MinMaxScaler\n",
    "import matplotlib.pyplot as plt"
   ]
  },
  {
   "cell_type": "code",
   "execution_count": 2,
   "metadata": {},
   "outputs": [],
   "source": [
    "#loading data\n",
    "data_raw = pd.read_excel('DATA-SVR.xlsx')\n",
    "data_raw = data_raw.dropna(axis=1, how='all')"
   ]
  },
  {
   "cell_type": "code",
   "execution_count": 3,
   "metadata": {},
   "outputs": [],
   "source": [
    "# Parameter SVR \n",
    "lamda   = 0.01\n",
    "epsilon = 0.000001\n",
    "cLR     = 0.0001\n",
    "C       = 0.1\n",
    "d       = 3\n",
    "sigma   = 0.9"
   ]
  },
  {
   "cell_type": "code",
   "execution_count": 4,
   "metadata": {},
   "outputs": [],
   "source": [
    "X = data_raw.iloc[:,2:8]\n",
    "Y = data_raw['Selisih']\n",
    "\n",
    "X_train, X_test, y_train, y_test = train_test_split(X, Y, test_size=0.25, shuffle=False)"
   ]
  },
  {
   "cell_type": "code",
   "execution_count": 5,
   "metadata": {},
   "outputs": [
    {
     "data": {
      "text/html": [
       "<div>\n",
       "<style scoped>\n",
       "    .dataframe tbody tr th:only-of-type {\n",
       "        vertical-align: middle;\n",
       "    }\n",
       "\n",
       "    .dataframe tbody tr th {\n",
       "        vertical-align: top;\n",
       "    }\n",
       "\n",
       "    .dataframe thead th {\n",
       "        text-align: right;\n",
       "    }\n",
       "</style>\n",
       "<table border=\"1\" class=\"dataframe\">\n",
       "  <thead>\n",
       "    <tr style=\"text-align: right;\">\n",
       "      <th></th>\n",
       "      <th>Tanggal</th>\n",
       "      <th>Selisih</th>\n",
       "      <th>Crude Oil</th>\n",
       "      <th>S&amp;P 500 Index</th>\n",
       "      <th>Exchange Rate</th>\n",
       "      <th>Dollar Index</th>\n",
       "      <th>Federal Fund Rate</th>\n",
       "      <th>Consumer Price Index</th>\n",
       "    </tr>\n",
       "  </thead>\n",
       "  <tbody>\n",
       "    <tr>\n",
       "      <th>0</th>\n",
       "      <td>2019-11-01</td>\n",
       "      <td>5308126.74</td>\n",
       "      <td>56.040000</td>\n",
       "      <td>3066.910000</td>\n",
       "      <td>14123.500000</td>\n",
       "      <td>97.239998</td>\n",
       "      <td>1.570000</td>\n",
       "      <td>12.507399</td>\n",
       "    </tr>\n",
       "    <tr>\n",
       "      <th>1</th>\n",
       "      <td>2019-11-04</td>\n",
       "      <td>5316822.93</td>\n",
       "      <td>56.330000</td>\n",
       "      <td>3078.270000</td>\n",
       "      <td>14014.000000</td>\n",
       "      <td>97.510002</td>\n",
       "      <td>1.560000</td>\n",
       "      <td>12.507399</td>\n",
       "    </tr>\n",
       "    <tr>\n",
       "      <th>2</th>\n",
       "      <td>2019-11-05</td>\n",
       "      <td>5708093.56</td>\n",
       "      <td>57.040000</td>\n",
       "      <td>3074.620000</td>\n",
       "      <td>14058.000000</td>\n",
       "      <td>97.980003</td>\n",
       "      <td>1.560000</td>\n",
       "      <td>12.507399</td>\n",
       "    </tr>\n",
       "    <tr>\n",
       "      <th>3</th>\n",
       "      <td>2019-11-06</td>\n",
       "      <td>5652608.99</td>\n",
       "      <td>56.150000</td>\n",
       "      <td>3076.780000</td>\n",
       "      <td>14028.500000</td>\n",
       "      <td>97.949997</td>\n",
       "      <td>1.550000</td>\n",
       "      <td>12.507399</td>\n",
       "    </tr>\n",
       "    <tr>\n",
       "      <th>4</th>\n",
       "      <td>2019-11-07</td>\n",
       "      <td>5695972.37</td>\n",
       "      <td>56.910000</td>\n",
       "      <td>3085.180000</td>\n",
       "      <td>14008.000000</td>\n",
       "      <td>98.139999</td>\n",
       "      <td>1.550000</td>\n",
       "      <td>12.507399</td>\n",
       "    </tr>\n",
       "    <tr>\n",
       "      <th>...</th>\n",
       "      <td>...</td>\n",
       "      <td>...</td>\n",
       "      <td>...</td>\n",
       "      <td>...</td>\n",
       "      <td>...</td>\n",
       "      <td>...</td>\n",
       "      <td>...</td>\n",
       "      <td>...</td>\n",
       "    </tr>\n",
       "    <tr>\n",
       "      <th>300</th>\n",
       "      <td>2020-12-25</td>\n",
       "      <td>343404.00</td>\n",
       "      <td>51.051261</td>\n",
       "      <td>2684.793145</td>\n",
       "      <td>14148.643555</td>\n",
       "      <td>96.051226</td>\n",
       "      <td>1.149769</td>\n",
       "      <td>12.507399</td>\n",
       "    </tr>\n",
       "    <tr>\n",
       "      <th>301</th>\n",
       "      <td>2020-12-28</td>\n",
       "      <td>445217.00</td>\n",
       "      <td>47.500000</td>\n",
       "      <td>3735.360000</td>\n",
       "      <td>13911.143555</td>\n",
       "      <td>90.339996</td>\n",
       "      <td>0.090000</td>\n",
       "      <td>12.507399</td>\n",
       "    </tr>\n",
       "    <tr>\n",
       "      <th>302</th>\n",
       "      <td>2020-12-29</td>\n",
       "      <td>531533.31</td>\n",
       "      <td>47.850000</td>\n",
       "      <td>3727.040000</td>\n",
       "      <td>14126.120117</td>\n",
       "      <td>90.010002</td>\n",
       "      <td>0.090000</td>\n",
       "      <td>12.507399</td>\n",
       "    </tr>\n",
       "    <tr>\n",
       "      <th>303</th>\n",
       "      <td>2020-12-30</td>\n",
       "      <td>451624.63</td>\n",
       "      <td>48.240000</td>\n",
       "      <td>3732.040000</td>\n",
       "      <td>14069.909180</td>\n",
       "      <td>89.629997</td>\n",
       "      <td>0.090000</td>\n",
       "      <td>12.507399</td>\n",
       "    </tr>\n",
       "    <tr>\n",
       "      <th>304</th>\n",
       "      <td>2020-12-31</td>\n",
       "      <td>454587.63</td>\n",
       "      <td>48.350000</td>\n",
       "      <td>3756.070000</td>\n",
       "      <td>13832.559570</td>\n",
       "      <td>89.940000</td>\n",
       "      <td>0.090000</td>\n",
       "      <td>12.507399</td>\n",
       "    </tr>\n",
       "  </tbody>\n",
       "</table>\n",
       "<p>305 rows × 8 columns</p>\n",
       "</div>"
      ],
      "text/plain": [
       "     Tanggal       Selisih  Crude Oil  S&P 500 Index  Exchange Rate  \\\n",
       "0   2019-11-01  5308126.74  56.040000    3066.910000   14123.500000   \n",
       "1   2019-11-04  5316822.93  56.330000    3078.270000   14014.000000   \n",
       "2   2019-11-05  5708093.56  57.040000    3074.620000   14058.000000   \n",
       "3   2019-11-06  5652608.99  56.150000    3076.780000   14028.500000   \n",
       "4   2019-11-07  5695972.37  56.910000    3085.180000   14008.000000   \n",
       "..         ...         ...        ...            ...            ...   \n",
       "300 2020-12-25   343404.00  51.051261    2684.793145   14148.643555   \n",
       "301 2020-12-28   445217.00  47.500000    3735.360000   13911.143555   \n",
       "302 2020-12-29   531533.31  47.850000    3727.040000   14126.120117   \n",
       "303 2020-12-30   451624.63  48.240000    3732.040000   14069.909180   \n",
       "304 2020-12-31   454587.63  48.350000    3756.070000   13832.559570   \n",
       "\n",
       "     Dollar Index  Federal Fund Rate  Consumer Price Index  \n",
       "0       97.239998           1.570000             12.507399  \n",
       "1       97.510002           1.560000             12.507399  \n",
       "2       97.980003           1.560000             12.507399  \n",
       "3       97.949997           1.550000             12.507399  \n",
       "4       98.139999           1.550000             12.507399  \n",
       "..            ...                ...                   ...  \n",
       "300     96.051226           1.149769             12.507399  \n",
       "301     90.339996           0.090000             12.507399  \n",
       "302     90.010002           0.090000             12.507399  \n",
       "303     89.629997           0.090000             12.507399  \n",
       "304     89.940000           0.090000             12.507399  \n",
       "\n",
       "[305 rows x 8 columns]"
      ]
     },
     "execution_count": 5,
     "metadata": {},
     "output_type": "execute_result"
    }
   ],
   "source": [
    "data_raw"
   ]
  },
  {
   "cell_type": "code",
   "execution_count": 6,
   "metadata": {},
   "outputs": [],
   "source": [
    "def normalisasi(data):\n",
    "    scaler = MinMaxScaler()\n",
    "    scaler.fit(data)\n",
    "    return scaler.transform(data), scaler\n",
    "\n",
    "X_train_scaled, XTrain_scaler = normalisasi(X_train)\n",
    "y_train_scaled, YTrain_scaler = normalisasi(y_train.values.reshape(-1,1))\n",
    "X_test_scaled = XTrain_scaler.transform(X_test)"
   ]
  },
  {
   "cell_type": "code",
   "execution_count": 7,
   "metadata": {},
   "outputs": [],
   "source": [
    "def menghitungJarakTrain(calculate):\n",
    "    # asumsi dataframe calculate dah bener\n",
    "    baris = calculate.shape[0]\n",
    "    kolom = calculate.shape[1]\n",
    "    hasil = np.zeros((baris,baris))\n",
    "    \n",
    "    # calculate = data.iloc[:,1:8].copy()\n",
    "    # df1 = calculate.pop('Selisih')\n",
    "    # calculate['Selisih'] = df1\n",
    "    calculate = calculate.to_numpy()\n",
    "    \n",
    "    for i in range(baris):\n",
    "        for j in range(baris):\n",
    "            hasil1 = 0\n",
    "            for k in range(kolom-1):\n",
    "                temp = math.pow(calculate[i][k] - calculate[j][k], 2)\n",
    "                hasil1 += temp\n",
    "            hasil[i][j] = hasil1\n",
    "    \n",
    "    return hasil\n",
    "\n",
    "y_train_df = pd.DataFrame(y_train_scaled, columns=['Selisih'])\n",
    "X_train_df = pd.DataFrame(X_train_scaled)\n",
    "data_new = pd.concat([X_train_df, y_train_df], axis = 1)\n",
    "\n",
    "matriksJarakTrain = menghitungJarakTrain(data_new)"
   ]
  },
  {
   "cell_type": "code",
   "execution_count": 8,
   "metadata": {},
   "outputs": [
    {
     "name": "stdout",
     "output_type": "stream",
     "text": [
      "Hessian train shape (228, 228)\n"
     ]
    }
   ],
   "source": [
    "def matrixHessian(matriksJarak, lamda, sigma):\n",
    "    baris = matriksJarak.shape[0]\n",
    "    kolom = matriksJarak.shape[1]\n",
    "    matrix3 = np.zeros((baris,kolom))\n",
    "    for i in range(baris):\n",
    "        for j in range(kolom):\n",
    "            # Rumus Sesuai Fungsi Kernel RBF (Pers 3.12)\n",
    "            matrix3[i][j] = math.exp(-1 * matriksJarak[i][j] / (2 * (sigma**2))) + lamda**2\n",
    "    return matrix3\n",
    "\n",
    "hessian = matrixHessian(matriksJarakTrain, lamda, sigma)\n",
    "\n",
    "print(\"Hessian train shape\", hessian.shape)"
   ]
  },
  {
   "cell_type": "code",
   "execution_count": 9,
   "metadata": {},
   "outputs": [
    {
     "name": "stdout",
     "output_type": "stream",
     "text": [
      "ini a bintang length\n",
      " 228\n",
      "ini a biasa length\n",
      " 228\n"
     ]
    }
   ],
   "source": [
    "# Sequential Learning\n",
    "# Goal : Nilai a* dan a\n",
    "def sequentialLearning(data_train, datay_train, matrix_hessian, epsilon, C, cLR, maxIter = 100):\n",
    "    z = 1\n",
    "    \n",
    "    a_star_init = list(np.zeros(data_train.shape[0]))\n",
    "    a_init = list(np.zeros(data_train.shape[0]))\n",
    "\n",
    "    hasilDalfaS = list(np.zeros(data_train.shape[0]))\n",
    "    hasilDalfa = list(np.zeros(data_train.shape[0]))\n",
    "\n",
    "    UpdateAlfaS = list(np.zeros(data_train.shape[0]))\n",
    "    UpdateAlfa = list(np.zeros(data_train.shape[0]))\n",
    "\n",
    "    baris = matrix_hessian.shape[0]\n",
    "    kolom = matrix_hessian.shape[1]\n",
    "\n",
    "    while z < maxIter:\n",
    "        \n",
    "        #Menghitung Nilai Error\n",
    "        nilaiE = np.zeros(baris)\n",
    "        for i in range(baris):\n",
    "            total_error = 0\n",
    "            for j in range(kolom):\n",
    "                error = (a_star_init[j] - a_init[j]) * matrix_hessian[i][j]\n",
    "                total_error += error\n",
    "            nilaiE[i] = datay_train[i] - total_error\n",
    "\n",
    "        #Menghitung Nilai Delta a* Delta a\n",
    "        maxR = max(matrix_hessian.diagonal())\n",
    "        gamma = cLR/maxR\n",
    "        \n",
    "        for i in range(baris):\n",
    "            hasilDalfaS[i] = min(max(gamma*(nilaiE[i]-epsilon), -a_star_init[i]), C - a_star_init[i])\n",
    "            hasilDalfa[i] = min(max(gamma*(-nilaiE[i]-epsilon), -a_init[i]), C - a_init[i])\n",
    "\n",
    "        #Menghitung Nilai a* dan a\n",
    "        for i in range(baris):\n",
    "            UpdateAlfaS[i] = a_star_init[i] + hasilDalfaS[i]\n",
    "            UpdateAlfa[i] = a_init[i] + hasilDalfa[i]\n",
    "        \n",
    "        a_star_init = UpdateAlfaS\n",
    "        a_init = UpdateAlfa\n",
    "        z+=1\n",
    "        \n",
    "        #Do Something with Trigger\n",
    "        if max(abs(np.asarray(hasilDalfaS))) < epsilon and max(abs(np.asarray(hasilDalfa))) < epsilon:\n",
    "            break\n",
    "\n",
    "    return a_star_init, a_init\n",
    "\n",
    "a_bintang, a_biasa = sequentialLearning(X_train_scaled, y_train_scaled, hessian, epsilon, C, cLR)\n",
    "print(\"ini a bintang length\\n\", len(a_bintang))\n",
    "print(\"ini a biasa length\\n\", len(a_biasa))"
   ]
  },
  {
   "cell_type": "code",
   "execution_count": 10,
   "metadata": {},
   "outputs": [],
   "source": [
    "def menghitungJarakTest(data_train, data_test):\n",
    "    # asumsi dataframe calculate dah bener\n",
    "    \n",
    "    baris = data_test.shape[0]\n",
    "    kolom = data_train.shape[0]\n",
    "    hasil = np.zeros((baris,kolom))\n",
    "    \n",
    "    # data_train = data_train.to_numpy()\n",
    "    # data_test = data_test.to_numpy()\n",
    "    \n",
    "    for i in range(baris):\n",
    "        for j in range(kolom):\n",
    "            hasil1 = 0\n",
    "            for k in range(data_train.shape[1]-1):\n",
    "                temp = math.pow(data_test[i][k] - data_train[j][k], 2)\n",
    "                hasil1 += temp\n",
    "            hasil[i][j] = hasil1\n",
    "    \n",
    "    return hasil\n",
    "matriksJarak_test = menghitungJarakTest(X_train_scaled, X_test_scaled)"
   ]
  },
  {
   "cell_type": "code",
   "execution_count": 11,
   "metadata": {},
   "outputs": [
    {
     "name": "stdout",
     "output_type": "stream",
     "text": [
      "Hessian test shape (77, 228)\n"
     ]
    }
   ],
   "source": [
    "hessian_test = matrixHessian(matriksJarak_test, lamda, sigma)\n",
    "\n",
    "print(\"Hessian test shape\", hessian_test.shape)"
   ]
  },
  {
   "cell_type": "code",
   "execution_count": 12,
   "metadata": {},
   "outputs": [],
   "source": [
    "#Hitung hasil regresi\n",
    "def fungsiRegresi(data, matrix_hessian, a_star, a):\n",
    "    # print(matrix_hessian)\n",
    "    baris = data.shape[0]\n",
    "    sum_fx = list()\n",
    "    \n",
    "    for i in range(baris):\n",
    "        sum_fx.append(sum([(a_star[j] - a[j])*matrix_hessian[i][j] for j in range(baris)]))\n",
    "    # print(sum_fx)\n",
    "    return sum_fx\n",
    "\n",
    "result = fungsiRegresi(X_test_scaled, hessian_test, a_bintang, a_biasa)\n",
    "result_inverted = YTrain_scaler.inverse_transform(np.array(result).reshape(-1,1))"
   ]
  },
  {
   "cell_type": "code",
   "execution_count": 13,
   "metadata": {},
   "outputs": [
    {
     "data": {
      "image/png": "[encoded data removed]",
      "text/plain": [
       "<Figure size 432x288 with 1 Axes>"
      ]
     },
     "metadata": {
      "needs_background": "light"
     },
     "output_type": "display_data"
    },
    {
     "name": "stdout",
     "output_type": "stream",
     "text": [
      "mape = 1.99 %\n"
     ]
    }
   ],
   "source": [
    "mape = mean_absolute_percentage_error(y_test,result_inverted)\n",
    "#Plotting\n",
    "def plot(y_test, y_pred):\n",
    "    # y_test = y_test.reset_index()\n",
    "    # y_pred = y_pre\n",
    "    plt.plot(np.arange(len(y_test)),y_test)\n",
    "    plt.plot(np.arange(len(y_pred)),y_pred)\n",
    "    plt.legend(['y_test','y_pred'])\n",
    "    plt.show()\n",
    "plot(y_test,result_inverted)\n",
    "print(\"mape = %.2f\" % (mape),\"%\")"
   ]
  },
  {
   "cell_type": "code",
   "execution_count": 14,
   "metadata": {},
   "outputs": [],
   "source": [
    "#loading data prediksi baru\n",
    "data_baru = pd.read_excel('PREDIKSI-BARU.xlsx')\n",
    "data_baru = data_baru.tail(77)"
   ]
  },
  {
   "cell_type": "code",
   "execution_count": 15,
   "metadata": {},
   "outputs": [
    {
     "name": "stdout",
     "output_type": "stream",
     "text": [
      "mape = 0.05 %\n"
     ]
    }
   ],
   "source": [
    "data_baru['Prediksi Selisih'] = result_inverted\n",
    "data_baru['Prediksi Baru'] = data_baru['Prediksi Selisih']+data_baru['Data Aktual']\n",
    "\n",
    "new_mape = mean_absolute_percentage_error(data_baru['Data Aktual'], data_baru['Prediksi Baru'])\n",
    "print(\"mape = %.2f\" % (new_mape),\"%\")"
   ]
  },
  {
   "cell_type": "code",
   "execution_count": 16,
   "metadata": {},
   "outputs": [
    {
     "data": {
      "image/png": "[encoded data removed]",
      "text/plain": [
       "<Figure size 432x288 with 1 Axes>"
      ]
     },
     "metadata": {
      "needs_background": "light"
     },
     "output_type": "display_data"
    }
   ],
   "source": [
    "plot(data_baru['Data Aktual'], data_baru['Prediksi Baru'])"
   ]
  },
  {
   "cell_type": "code",
   "execution_count": 22,
   "metadata": {},
   "outputs": [],
   "source": [
    "#predict new data\n",
    "\n",
    "# Parameter SVR \n",
    "lamda   = 0.01\n",
    "epsilon = 0.000001\n",
    "cLR     = 0.0001\n",
    "C       = 0.1\n",
    "d       = 3\n",
    "sigma   = 0.9\n",
    "\n",
    "\n",
    "X_test_new = pd.read_excel('Xtrain-New.xlsx')\n",
    "X_test_new = X_test_new.iloc[:,2:8]\n",
    "X_test_new_scaled  = XTrain_scaler.transform(X_test_new)"
   ]
  },
  {
   "cell_type": "code",
   "execution_count": 23,
   "metadata": {},
   "outputs": [],
   "source": [
    "matriksJarak_test_new = menghitungJarakTest(X_train_scaled, X_test_new_scaled)\n",
    "hessian_new = matrixHessian(matriksJarak_test_new, lamda, sigma)\n",
    "hasil_new = fungsiRegresi(X_test_new_scaled, hessian_new, a_bintang, a_biasa)\n",
    "hasil_new_unscaled = YTrain_scaler.inverse_transform(np.array(hasil_new).reshape(-1,1))"
   ]
  },
  {
   "cell_type": "code",
   "execution_count": 24,
   "metadata": {},
   "outputs": [
    {
     "data": {
      "text/html": [
       "<div>\n",
       "<style scoped>\n",
       "    .dataframe tbody tr th:only-of-type {\n",
       "        vertical-align: middle;\n",
       "    }\n",
       "\n",
       "    .dataframe tbody tr th {\n",
       "        vertical-align: top;\n",
       "    }\n",
       "\n",
       "    .dataframe thead th {\n",
       "        text-align: right;\n",
       "    }\n",
       "</style>\n",
       "<table border=\"1\" class=\"dataframe\">\n",
       "  <thead>\n",
       "    <tr style=\"text-align: right;\">\n",
       "      <th></th>\n",
       "      <th>0</th>\n",
       "    </tr>\n",
       "  </thead>\n",
       "  <tbody>\n",
       "    <tr>\n",
       "      <th>0</th>\n",
       "      <td>-3.259419e+06</td>\n",
       "    </tr>\n",
       "    <tr>\n",
       "      <th>1</th>\n",
       "      <td>-3.264091e+06</td>\n",
       "    </tr>\n",
       "    <tr>\n",
       "      <th>2</th>\n",
       "      <td>-3.264189e+06</td>\n",
       "    </tr>\n",
       "    <tr>\n",
       "      <th>3</th>\n",
       "      <td>-3.264188e+06</td>\n",
       "    </tr>\n",
       "    <tr>\n",
       "      <th>4</th>\n",
       "      <td>-3.263018e+06</td>\n",
       "    </tr>\n",
       "  </tbody>\n",
       "</table>\n",
       "</div>"
      ],
      "text/plain": [
       "              0\n",
       "0 -3.259419e+06\n",
       "1 -3.264091e+06\n",
       "2 -3.264189e+06\n",
       "3 -3.264188e+06\n",
       "4 -3.263018e+06"
      ]
     },
     "execution_count": 24,
     "metadata": {},
     "output_type": "execute_result"
    }
   ],
   "source": [
    "pd.DataFrame(hasil_new_unscaled)"
   ]
  }
 ],
 "metadata": {
  "interpreter": {
   "hash": "62462b336cc45a08a09365a2a3ab907ceca0b5e4aa9a51bb3d44f3b3da7c8e99"
  },
  "kernelspec": {
   "display_name": "Python 3.8.5 64-bit",
   "language": "python",
   "name": "python3"
  },
  "language_info": {
   "codemirror_mode": {
    "name": "ipython",
    "version": 3
   },
   "file_extension": ".py",
   "mimetype": "text/x-python",
   "name": "python",
   "nbconvert_exporter": "python",
   "pygments_lexer": "ipython3",
   "version": "3.8.5"
  },
  "orig_nbformat": 4
 },
 "nbformat": 4,
 "nbformat_minor": 2
}
