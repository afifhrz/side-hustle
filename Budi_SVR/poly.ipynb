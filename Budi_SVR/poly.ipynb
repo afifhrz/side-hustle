{
 "cells": [
  {
   "cell_type": "markdown",
   "metadata": {},
   "source": [
    "#One Time Run"
   ]
  },
  {
   "cell_type": "code",
   "execution_count": 1,
   "metadata": {},
   "outputs": [],
   "source": [
    "import pandas as pd\n",
    "import numpy as np\n",
    "\n",
    "from sklearn.model_selection import train_test_split\n",
    "from sklearn.metrics import mean_absolute_percentage_error\n",
    "\n",
    "from sklearn.preprocessing import MinMaxScaler\n",
    "import matplotlib.pyplot as plt"
   ]
  },
  {
   "cell_type": "code",
   "execution_count": 2,
   "metadata": {},
   "outputs": [],
   "source": [
    "#loading data\n",
    "data_raw = pd.read_excel('DATA-SVR.xlsx')\n",
    "data_raw = data_raw.dropna(axis=1, how='all')"
   ]
  },
  {
   "cell_type": "code",
   "execution_count": 3,
   "metadata": {},
   "outputs": [],
   "source": [
    "# Parameter SVR \n",
    "lamda   = 3\n",
    "epsilon = 0.000001\n",
    "cLR     = 0.0001\n",
    "C       = 0.1\n",
    "d       = 3\n",
    "sigma   = 0.01"
   ]
  },
  {
   "cell_type": "code",
   "execution_count": 4,
   "metadata": {},
   "outputs": [],
   "source": [
    "X = data_raw.iloc[:,2:8]\n",
    "Y = data_raw['Selisih']\n",
    "\n",
    "X_train, X_test, y_train, y_test = train_test_split(X, Y, test_size=0.25, shuffle=False)"
   ]
  },
  {
   "cell_type": "code",
   "execution_count": 5,
   "metadata": {},
   "outputs": [],
   "source": [
    "def normalisasi(data):\n",
    "    scaler = MinMaxScaler()\n",
    "    scaler.fit(data)\n",
    "    return scaler.transform(data), scaler\n",
    "\n",
    "X_train_scaled, XTrain_scaler = normalisasi(X_train)\n",
    "y_train_scaled, YTrain_scaler = normalisasi(y_train.values.reshape(-1,1))\n",
    "X_test_scaled = XTrain_scaler.transform(X_test)"
   ]
  },
  {
   "cell_type": "code",
   "execution_count": 6,
   "metadata": {},
   "outputs": [
    {
     "name": "stdout",
     "output_type": "stream",
     "text": [
      "Hessian train shape (228, 228)\n"
     ]
    }
   ],
   "source": [
    "def matrixHessian(data_1, data_2, lamda, d):\n",
    "    xT = data_1.T\n",
    "    # Rumus Sesuai Fungsi Kernel Polynomial (Pers 3.11)\n",
    "    hessian_x_poly = (np.dot(data_2, xT) + 1)**d + lamda**2 \n",
    "    return hessian_x_poly \n",
    "\n",
    "hessian = matrixHessian(X_train_scaled, X_train_scaled, lamda, d)\n",
    "print(\"Hessian train shape\", hessian.shape)"
   ]
  },
  {
   "cell_type": "code",
   "execution_count": 7,
   "metadata": {},
   "outputs": [
    {
     "name": "stdout",
     "output_type": "stream",
     "text": [
      "ini a bintang length\n",
      " 228\n",
      "ini a biasa length\n",
      " 228\n"
     ]
    }
   ],
   "source": [
    "# Sequential Learning\n",
    "# Goal : Nilai a* dan a\n",
    "def sequentialLearning(data_train, datay_train, matrix_hessian, epsilon, C, cLR, maxIter = 100):\n",
    "    z = 1\n",
    "    \n",
    "    a_star_init = list(np.zeros(data_train.shape[0]))\n",
    "    a_init = list(np.zeros(data_train.shape[0]))\n",
    "\n",
    "    hasilDalfaS = list(np.zeros(data_train.shape[0]))\n",
    "    hasilDalfa = list(np.zeros(data_train.shape[0]))\n",
    "\n",
    "    UpdateAlfaS = list(np.zeros(data_train.shape[0]))\n",
    "    UpdateAlfa = list(np.zeros(data_train.shape[0]))\n",
    "\n",
    "    baris = matrix_hessian.shape[0]\n",
    "    kolom = matrix_hessian.shape[1]\n",
    "\n",
    "    while z < maxIter:\n",
    "        \n",
    "        #Menghitung Nilai Error\n",
    "        nilaiE = np.zeros(baris)\n",
    "        for i in range(baris):\n",
    "            total_error = 0\n",
    "            for j in range(kolom):\n",
    "                error = (a_star_init[j] - a_init[j]) * matrix_hessian[i][j]\n",
    "                total_error += error\n",
    "            nilaiE[i] = datay_train[i] - total_error\n",
    "\n",
    "        #Menghitung Nilai Delta a* Delta a\n",
    "        maxR = max(matrix_hessian.diagonal())\n",
    "        gamma = cLR/maxR\n",
    "        \n",
    "        for i in range(baris):\n",
    "            hasilDalfaS[i] = min(max(gamma*(nilaiE[i]-epsilon), -a_star_init[i]), C - a_star_init[i])\n",
    "            hasilDalfa[i] = min(max(gamma*(-nilaiE[i]-epsilon), -a_init[i]), C - a_init[i])\n",
    "\n",
    "        #Menghitung Nilai a* dan a\n",
    "        for i in range(baris):\n",
    "            UpdateAlfaS[i] = a_star_init[i] + hasilDalfaS[i]\n",
    "            UpdateAlfa[i] = a_init[i] + hasilDalfa[i]\n",
    "        \n",
    "        a_star_init = UpdateAlfaS\n",
    "        a_init = UpdateAlfa\n",
    "        z+=1\n",
    "        \n",
    "        #Do Something with Trigger\n",
    "        if max(abs(np.asarray(hasilDalfaS))) < epsilon and max(abs(np.asarray(hasilDalfa))) < epsilon:\n",
    "            break\n",
    "\n",
    "    return a_star_init, a_init\n",
    "\n",
    "a_bintang, a_biasa = sequentialLearning(X_train_scaled, y_train_scaled, hessian, epsilon, C, cLR)\n",
    "print(\"ini a bintang length\\n\", len(a_bintang))\n",
    "print(\"ini a biasa length\\n\", len(a_biasa))"
   ]
  },
  {
   "cell_type": "code",
   "execution_count": 8,
   "metadata": {},
   "outputs": [
    {
     "name": "stdout",
     "output_type": "stream",
     "text": [
      "Hessian test shape (77, 228)\n"
     ]
    }
   ],
   "source": [
    "hessian_test = matrixHessian(X_train_scaled, X_test_scaled, lamda, d)\n",
    "\n",
    "print(\"Hessian test shape\", hessian_test.shape)"
   ]
  },
  {
   "cell_type": "code",
   "execution_count": 9,
   "metadata": {},
   "outputs": [
    {
     "data": {
      "text/plain": [
       "77"
      ]
     },
     "execution_count": 9,
     "metadata": {},
     "output_type": "execute_result"
    }
   ],
   "source": [
    "#Hitung hasil regresi\n",
    "def fungsiRegresi(data, matrix_hessian, a_star, a):\n",
    "    # print(matrix_hessian)\n",
    "    baris = data.shape[0]\n",
    "    sum_fx = list()\n",
    "    \n",
    "    for i in range(baris):\n",
    "        sum_fx.append(sum([(a_star[j] - a[j])*matrix_hessian[i][j] for j in range(baris)]))\n",
    "    # print(sum_fx)\n",
    "    return sum_fx\n",
    "\n",
    "result = fungsiRegresi(X_test_scaled, hessian_test, a_bintang, a_biasa)\n",
    "len(result)"
   ]
  },
  {
   "cell_type": "code",
   "execution_count": 10,
   "metadata": {},
   "outputs": [],
   "source": [
    "result_inverted = YTrain_scaler.inverse_transform(np.array(result).reshape(-1,1))"
   ]
  },
  {
   "cell_type": "code",
   "execution_count": 11,
   "metadata": {},
   "outputs": [
    {
     "data": {
      "image/png": "[encoded data removed]",
      "text/plain": [
       "<Figure size 432x288 with 1 Axes>"
      ]
     },
     "metadata": {
      "needs_background": "light"
     },
     "output_type": "display_data"
    },
    {
     "name": "stdout",
     "output_type": "stream",
     "text": [
      "mape = 3.31 %\n"
     ]
    }
   ],
   "source": [
    "mape = mean_absolute_percentage_error(y_test,result_inverted)\n",
    "\n",
    "#Plotting\n",
    "def plot(y_test, y_pred):\n",
    "    plt.plot(np.arange(len(y_test)),y_test)\n",
    "    plt.plot(np.arange(len(y_pred)),y_pred)\n",
    "    plt.legend(['y_test','y_pred'])\n",
    "    plt.show()\n",
    "\n",
    "plot(y_test,result_inverted)\n",
    "\n",
    "print(\"mape = %.2f\" % (mape),\"%\")"
   ]
  },
  {
   "cell_type": "code",
   "execution_count": 12,
   "metadata": {},
   "outputs": [],
   "source": [
    "#loading data prediksi baru\n",
    "data_baru = pd.read_excel('PREDIKSI-BARU.xlsx')\n",
    "data_baru = data_baru.tail(77)"
   ]
  },
  {
   "cell_type": "code",
   "execution_count": 13,
   "metadata": {},
   "outputs": [
    {
     "name": "stdout",
     "output_type": "stream",
     "text": [
      "mape = 0.08 %\n"
     ]
    }
   ],
   "source": [
    "data_baru['Prediksi Selisih'] = result_inverted\n",
    "data_baru['Prediksi Baru'] = data_baru['Prediksi Selisih']+data_baru['Data Aktual']\n",
    "\n",
    "new_mape = mean_absolute_percentage_error(data_baru['Data Aktual'], data_baru['Prediksi Baru'])\n",
    "print(\"mape = %.2f\" % (new_mape),\"%\")"
   ]
  },
  {
   "cell_type": "code",
   "execution_count": 14,
   "metadata": {},
   "outputs": [
    {
     "data": {
      "image/png": "[encoded data removed]",
      "text/plain": [
       "<Figure size 432x288 with 1 Axes>"
      ]
     },
     "metadata": {
      "needs_background": "light"
     },
     "output_type": "display_data"
    }
   ],
   "source": [
    "plot(data_baru['Data Aktual'], data_baru['Prediksi Baru'])"
   ]
  },
  {
   "cell_type": "code",
   "execution_count": 15,
   "metadata": {},
   "outputs": [],
   "source": [
    "#predict new data\n",
    "\n",
    "# Parameter SVR \n",
    "lamda   = 0.01\n",
    "epsilon = 0.000001\n",
    "cLR     = 0.0001\n",
    "C       = 0.1\n",
    "d       = 3\n",
    "sigma   = 0.9\n",
    "\n",
    "\n",
    "X_test_new = pd.read_excel('Xtrain-New.xlsx')\n",
    "X_test_new = X_test_new.iloc[:,2:8]\n",
    "X_test_new_scaled  = XTrain_scaler.transform(X_test_new)"
   ]
  },
  {
   "cell_type": "code",
   "execution_count": 17,
   "metadata": {},
   "outputs": [],
   "source": [
    "hessian_new = matrixHessian(X_train_scaled, X_test_new_scaled, lamda, d)\n",
    "hasil_new = fungsiRegresi(X_test_new_scaled, hessian_new, a_bintang, a_biasa)\n",
    "hasil_new_unscaled = YTrain_scaler.inverse_transform(np.array(hasil_new).reshape(-1,1))"
   ]
  },
  {
   "cell_type": "code",
   "execution_count": 18,
   "metadata": {},
   "outputs": [
    {
     "data": {
      "text/html": [
       "<div>\n",
       "<style scoped>\n",
       "    .dataframe tbody tr th:only-of-type {\n",
       "        vertical-align: middle;\n",
       "    }\n",
       "\n",
       "    .dataframe tbody tr th {\n",
       "        vertical-align: top;\n",
       "    }\n",
       "\n",
       "    .dataframe thead th {\n",
       "        text-align: right;\n",
       "    }\n",
       "</style>\n",
       "<table border=\"1\" class=\"dataframe\">\n",
       "  <thead>\n",
       "    <tr style=\"text-align: right;\">\n",
       "      <th></th>\n",
       "      <th>0</th>\n",
       "    </tr>\n",
       "  </thead>\n",
       "  <tbody>\n",
       "    <tr>\n",
       "      <th>0</th>\n",
       "      <td>-3.318810e+06</td>\n",
       "    </tr>\n",
       "    <tr>\n",
       "      <th>1</th>\n",
       "      <td>-3.318572e+06</td>\n",
       "    </tr>\n",
       "    <tr>\n",
       "      <th>2</th>\n",
       "      <td>-3.317575e+06</td>\n",
       "    </tr>\n",
       "    <tr>\n",
       "      <th>3</th>\n",
       "      <td>-3.315374e+06</td>\n",
       "    </tr>\n",
       "    <tr>\n",
       "      <th>4</th>\n",
       "      <td>-3.313694e+06</td>\n",
       "    </tr>\n",
       "  </tbody>\n",
       "</table>\n",
       "</div>"
      ],
      "text/plain": [
       "              0\n",
       "0 -3.318810e+06\n",
       "1 -3.318572e+06\n",
       "2 -3.317575e+06\n",
       "3 -3.315374e+06\n",
       "4 -3.313694e+06"
      ]
     },
     "execution_count": 18,
     "metadata": {},
     "output_type": "execute_result"
    }
   ],
   "source": [
    "pd.DataFrame(hasil_new_unscaled)"
   ]
  }
 ],
 "metadata": {
  "interpreter": {
   "hash": "62462b336cc45a08a09365a2a3ab907ceca0b5e4aa9a51bb3d44f3b3da7c8e99"
  },
  "kernelspec": {
   "display_name": "Python 3.8.5 64-bit",
   "language": "python",
   "name": "python3"
  },
  "language_info": {
   "codemirror_mode": {
    "name": "ipython",
    "version": 3
   },
   "file_extension": ".py",
   "mimetype": "text/x-python",
   "name": "python",
   "nbconvert_exporter": "python",
   "pygments_lexer": "ipython3",
   "version": "3.8.5"
  },
  "orig_nbformat": 4
 },
 "nbformat": 4,
 "nbformat_minor": 2
}
