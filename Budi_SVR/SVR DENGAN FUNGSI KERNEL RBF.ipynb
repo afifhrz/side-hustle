{
 "cells": [
  {
   "cell_type": "code",
   "execution_count": null,
   "id": "8da7a031",
   "metadata": {},
   "outputs": [],
   "source": [
    "# Hapus saja Library Yang Tidak Dipakai\n",
    "\n",
    "import numpy as np\n",
    "import pandas as pd\n",
    "import matplotlib.pyplot as plt\n",
    "import math\n",
    "from sklearn.preprocessing import MinMaxScaler\n",
    "import pandas as pd\n",
    "from sklearn.linear_model import LinearRegression\n",
    "from sklearn.metrics import r2_score\n",
    "from sklearn.model_selection import train_test_split\n",
    "from sklearn.metrics import mean_squared_error\n",
    "\n",
    "import pandas as pd\n",
    "import numpy as np\n",
    "from math import sqrt\n",
    "from numpy import log\n",
    "from pandas import Series\n",
    "from sympy import symbols, hessian, Function, N\n",
    "\n",
    "import statsmodels as sm\n",
    "\n",
    "# matplotlib and seaborn are used for plotting graphs\n",
    "import matplotlib.pyplot as plt\n",
    "from matplotlib.dates import date2num\n",
    "import seaborn as sns\n",
    "from datetime import datetime\n",
    "import subprocess"
   ]
  },
  {
   "cell_type": "code",
   "execution_count": null,
   "id": "9ac529f1",
   "metadata": {},
   "outputs": [],
   "source": [
    "data1 = pd.read_excel('DATA-SVR.xlsx')\n",
    "data1 = data1.dropna(axis=1, how='all')\n",
    "data1.head()"
   ]
  },
  {
   "cell_type": "code",
   "execution_count": null,
   "id": "5c49bde9",
   "metadata": {},
   "outputs": [],
   "source": [
    "# Ini nanti digunakan buat menghitung jarak antar data latih di fungsi kernel RBF\n",
    "X_jarak =data1.iloc[:,1:7]\n",
    "X_jarak"
   ]
  },
  {
   "cell_type": "markdown",
   "id": "eaf05e8d",
   "metadata": {},
   "source": [
    "# Split Dataset¶"
   ]
  },
  {
   "cell_type": "code",
   "execution_count": null,
   "id": "38e0b2d5",
   "metadata": {},
   "outputs": [],
   "source": [
    "# Split dataset\n",
    "X = data1.iloc[:,2:8]\n",
    "Y = data1['Selisih']\n",
    "X"
   ]
  },
  {
   "cell_type": "code",
   "execution_count": null,
   "id": "369edc81",
   "metadata": {},
   "outputs": [],
   "source": [
    "X_train, X_test, y_train, y_test = train_test_split(X, Y, test_size=0.25, shuffle=False)\n",
    "X_train.shape[0]"
   ]
  },
  {
   "cell_type": "markdown",
   "id": "fd0b55d0",
   "metadata": {},
   "source": [
    "# Matriks Hessian RBF dan Sequential Learning"
   ]
  },
  {
   "cell_type": "code",
   "execution_count": null,
   "id": "c9ef9375",
   "metadata": {},
   "outputs": [],
   "source": [
    "# Optimasi Pakai Grid Search\n",
    "# Parameter SVR dan Parameter Fungsi Kernel RBF (Sigma)\n",
    "\n",
    "sigma   = 0.3     # Parameter RBF\n",
    "lamda   = 0.3\n",
    "epsilon = 0.00001\n",
    "cLR     = 0.005\n",
    "C       = 0.5     #0.1-10jt"
   ]
  },
  {
   "cell_type": "markdown",
   "id": "0ec0c5c4",
   "metadata": {},
   "source": [
    "# Bentuk Matriks Hessian"
   ]
  },
  {
   "cell_type": "code",
   "execution_count": null,
   "id": "fbe9e173",
   "metadata": {},
   "outputs": [],
   "source": [
    "# Problem nya disini menghitung jarak antar data latih dengan rumus |xi-xj|**2\n",
    "# Jarak antar data latih\n",
    "\n",
    "row = X_train.shape[0]  ###305\n",
    "col = X_train.shape[1]  ### 7\n",
    "x_matrix = []*row\n",
    "for i in range(row):\n",
    "  for j in range(row):\n",
    "    for k in range(col):\n",
    "      x_matrix[i,j] = sum((matrix[i,k]-matrix[j,k])**2 # Jarak antar data latih ini di pake difungsi RBF \n",
    "    # if i == j :\n",
    "    #   dist = sqrt((X_train[i][j]-X_train[i][j]) **2)\n",
    "    #   x_matrix.append(dist)\n",
    "    # else :\n",
    "    #   dist1 = sqrt((X_train[i][j]-X_train[i][j+1]) **2)\n",
    "    #   x_matrix.append(dist1)\n",
    "    #x_matrix[i,j]"
   ]
  },
  {
   "cell_type": "code",
   "execution_count": null,
   "id": "09c21a80",
   "metadata": {},
   "outputs": [],
   "source": [
    "def matrixHessianRBF(X_train,x_matrix,sigma) :\n",
    "    baris = X_train.shape[0]\n",
    "    matrix3 = np.zeros((baris,baris))\n",
    "    for i,j in zip(range(baris),range(matrix3.shape[0])):\n",
    "            # Rumus Sesuai Fungsi Kernel RBF (Pers 3.12)\n",
    "            matrix3[i][j] = math.exp(-1 * (abs(x_matrix[i]-x_matrix[j])) **2 / (2 * (sigma**2))) \n",
    "    return matrix3\n",
    "\n",
    "hessian_rbf = matrixHessianRBF(X_train,x_matrix,sigma)\n",
    "hessian_rbf.shape"
   ]
  },
  {
   "cell_type": "markdown",
   "id": "8fe3d707",
   "metadata": {},
   "source": [
    "# Sequential Learning"
   ]
  },
  {
   "cell_type": "code",
   "execution_count": null,
   "id": "f84e86c7",
   "metadata": {},
   "outputs": [],
   "source": [
    "## Sequential Learning RBF\n",
    "## Tujuan dari Seq.Learning untuk memperoleh nilai a_star dan a\n",
    "\n",
    "maxR = max(hessian_rbf.diagonal())\n",
    "lr = cLR/maxR\n",
    "lr\n",
    "\n",
    "def nilaiError(hessian_rbf,a_star,a,y_train):\n",
    "  a_star = list(np.zeros(X_train.shape[0]))\n",
    "  a = list(np.zeros(X_train.shape[0]))\n",
    "  kolom = hessian_rbf.shape[0]\n",
    "  nilaiE = np.zeros((kolom,kolom))\n",
    "  total_error = []\n",
    "  for i in range(kolom):\n",
    "      sum_a_star = 0\n",
    "      for j in range(kolom):\n",
    "          sum_a_star = (a_star[j] - a[j]) * hessian_rbf[i][j]\n",
    "      nilaiE = y_train[i] - sum_a_star\n",
    "      total_error.append(nilaiE)\n",
    "  #print(len(total_error))\n",
    "      return total_error\n",
    "\n",
    "max_iteration = 100\n",
    "a_star = list(np.zeros(X_train.shape[0]))\n",
    "a_star_float = np.asarray(a_star)\n",
    "a = list(np.zeros(X_train.shape[0]))\n",
    "a_float = np.asarray(a)\n",
    "nilaiEr = []\n",
    "delta_a_star = []\n",
    "nilaiErArray = []\n",
    "fmax = 0\n",
    "\n",
    "for i in range(max_iteration):\n",
    "    \n",
    "  nilaiEr.append(nilaiError(hessian_rbf, a_star[i], a, y_train))\n",
    "\n",
    "nilaiErArray = (np.array(nilaiEr))\n",
    "print(nilaiErArray)\n",
    "delta_a_star = []\n",
    "a_star = []\n",
    "a_star_final = []\n",
    "fmax = []\n",
    "for i in range(max_iteration):\n",
    "  fmax.append(max(((lr*nilaiErArray[i]) - epsilon),-a_star_float[i]))\n",
    "for i in range(max_iteration):\n",
    "  delta_a_star.append(min(fmax[i],(C - a_star_float[i])))\n",
    "a_maks = []\n",
    "for i in range(max_iteration) :\n",
    "    a_maks.append(max(lr*(-nilaiErArray[i]-epsilon),-a_float[i]))\n",
    "for i in range(max_iteration):\n",
    "    a_star.append(min(a_maks[i],C - a_float[i]))\n",
    "    a_star_final.append(a_star[i] + delta_a_star[i])\n",
    "a_star_final       \n",
    "      # if max([abs(x) for x in delta_a_star]) < epsilon and max([abs(x) for x in delta_a]) <epsilon\n",
    "      #  break\n",
    "    #Nilai error terlalu besar"
   ]
  },
  {
   "cell_type": "code",
   "execution_count": null,
   "id": "aa89fba2",
   "metadata": {},
   "outputs": [],
   "source": [
    "## FUNGSI REGRESI ADA DI (PERS 3.8)"
   ]
  },
  {
   "cell_type": "markdown",
   "id": "9a374ade",
   "metadata": {},
   "source": [
    "# Forecast"
   ]
  },
  {
   "cell_type": "code",
   "execution_count": null,
   "id": "a282df60",
   "metadata": {},
   "outputs": [],
   "source": [
    "#Fungsi Regresi\n",
    "#Fungsi Regresi diguakan untuk forecast"
   ]
  },
  {
   "cell_type": "code",
   "execution_count": null,
   "id": "c2873ab7",
   "metadata": {},
   "outputs": [],
   "source": [
    "#Evaluasi Model (MAPE)"
   ]
  }
 ],
 "metadata": {
  "kernelspec": {
   "display_name": "Python 3",
   "language": "python",
   "name": "python3"
  },
  "language_info": {
   "codemirror_mode": {
    "name": "ipython",
    "version": 3
   },
   "file_extension": ".py",
   "mimetype": "text/x-python",
   "name": "python",
   "nbconvert_exporter": "python",
   "pygments_lexer": "ipython3",
   "version": "3.8.8"
  }
 },
 "nbformat": 4,
 "nbformat_minor": 5
}
