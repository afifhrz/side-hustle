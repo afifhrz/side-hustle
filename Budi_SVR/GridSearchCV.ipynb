{
 "cells": [
  {
   "cell_type": "code",
   "execution_count": 1,
   "id": "3468e845",
   "metadata": {
    "id": "3468e845"
   },
   "outputs": [],
   "source": [
    "import pandas as pd\n",
    "from sklearn.linear_model import LinearRegression\n",
    "from sklearn.metrics import r2_score\n",
    "from sklearn.model_selection import train_test_split\n",
    "from sklearn.metrics import mean_squared_error\n",
    "\n",
    "import pandas as pd\n",
    "import numpy as np\n",
    "from math import sqrt\n",
    "from numpy import log\n",
    "from pandas import Series\n",
    "\n",
    "\n",
    "import statsmodels as sm\n",
    "\n",
    "# matplotlib and seaborn are used for plotting graphs\n",
    "import matplotlib.pyplot as plt\n",
    "from matplotlib.dates import date2num\n",
    "import seaborn as sns\n",
    "from datetime import datetime\n",
    "import subprocess"
   ]
  },
  {
   "cell_type": "code",
   "execution_count": 2,
   "id": "b23e1f6b",
   "metadata": {
    "id": "b23e1f6b"
   },
   "outputs": [],
   "source": [
    "data = pd.read_excel(\"INPUT-SVR-FIX.xlsx\") \n",
    "data.to_csv('INPUT_SVR-FIX-GRID.csv', index = None, header=True)"
   ]
  },
  {
   "cell_type": "code",
   "execution_count": 3,
   "id": "tO7FCS5YV8Hu",
   "metadata": {
    "id": "tO7FCS5YV8Hu"
   },
   "outputs": [],
   "source": [
    "data = pd.read_csv('INPUT_SVR-FIX-GRID.csv')"
   ]
  },
  {
   "cell_type": "markdown",
   "id": "FK285cCXV5iw",
   "metadata": {
    "id": "FK285cCXV5iw"
   },
   "source": [
    "Menghilangkan semua nilai nan yang ada pada data"
   ]
  },
  {
   "cell_type": "code",
   "execution_count": 4,
   "id": "O88DpEmhV2Y3",
   "metadata": {
    "colab": {
     "base_uri": "https://localhost:8080/",
     "height": 424
    },
    "id": "O88DpEmhV2Y3",
    "outputId": "fe939f5c-303f-4640-c197-cfa12f718439"
   },
   "outputs": [
    {
     "data": {
      "text/html": [
       "<div>\n",
       "<style scoped>\n",
       "    .dataframe tbody tr th:only-of-type {\n",
       "        vertical-align: middle;\n",
       "    }\n",
       "\n",
       "    .dataframe tbody tr th {\n",
       "        vertical-align: top;\n",
       "    }\n",
       "\n",
       "    .dataframe thead th {\n",
       "        text-align: right;\n",
       "    }\n",
       "</style>\n",
       "<table border=\"1\" class=\"dataframe\">\n",
       "  <thead>\n",
       "    <tr style=\"text-align: right;\">\n",
       "      <th></th>\n",
       "      <th>Actual</th>\n",
       "      <th>Crude Oil</th>\n",
       "      <th>S&amp;P 500 Index</th>\n",
       "      <th>Exchange Rate</th>\n",
       "      <th>Dollar Index</th>\n",
       "      <th>Federal Fund Rate</th>\n",
       "      <th>Consumer Price Index</th>\n",
       "    </tr>\n",
       "  </thead>\n",
       "  <tbody>\n",
       "    <tr>\n",
       "      <th>0</th>\n",
       "      <td>21176005.26</td>\n",
       "      <td>56.040000</td>\n",
       "      <td>3066.910000</td>\n",
       "      <td>14123.500000</td>\n",
       "      <td>97.239998</td>\n",
       "      <td>1.570000</td>\n",
       "      <td>12.507399</td>\n",
       "    </tr>\n",
       "    <tr>\n",
       "      <th>1</th>\n",
       "      <td>21154941.07</td>\n",
       "      <td>56.330000</td>\n",
       "      <td>3078.270000</td>\n",
       "      <td>14014.000000</td>\n",
       "      <td>97.510002</td>\n",
       "      <td>1.560000</td>\n",
       "      <td>12.507399</td>\n",
       "    </tr>\n",
       "    <tr>\n",
       "      <th>2</th>\n",
       "      <td>20796908.44</td>\n",
       "      <td>57.040000</td>\n",
       "      <td>3074.620000</td>\n",
       "      <td>14058.000000</td>\n",
       "      <td>97.980003</td>\n",
       "      <td>1.560000</td>\n",
       "      <td>12.507399</td>\n",
       "    </tr>\n",
       "    <tr>\n",
       "      <th>3</th>\n",
       "      <td>20826988.01</td>\n",
       "      <td>56.150000</td>\n",
       "      <td>3076.780000</td>\n",
       "      <td>14028.500000</td>\n",
       "      <td>97.949997</td>\n",
       "      <td>1.550000</td>\n",
       "      <td>12.507399</td>\n",
       "    </tr>\n",
       "    <tr>\n",
       "      <th>4</th>\n",
       "      <td>20771336.63</td>\n",
       "      <td>56.910000</td>\n",
       "      <td>3085.180000</td>\n",
       "      <td>14008.000000</td>\n",
       "      <td>98.139999</td>\n",
       "      <td>1.550000</td>\n",
       "      <td>12.507399</td>\n",
       "    </tr>\n",
       "    <tr>\n",
       "      <th>...</th>\n",
       "      <td>...</td>\n",
       "      <td>...</td>\n",
       "      <td>...</td>\n",
       "      <td>...</td>\n",
       "      <td>...</td>\n",
       "      <td>...</td>\n",
       "      <td>...</td>\n",
       "    </tr>\n",
       "    <tr>\n",
       "      <th>300</th>\n",
       "      <td>26625000.00</td>\n",
       "      <td>51.051261</td>\n",
       "      <td>2684.793145</td>\n",
       "      <td>14148.643555</td>\n",
       "      <td>96.051226</td>\n",
       "      <td>1.149769</td>\n",
       "      <td>12.507399</td>\n",
       "    </tr>\n",
       "    <tr>\n",
       "      <th>301</th>\n",
       "      <td>26540625.00</td>\n",
       "      <td>47.500000</td>\n",
       "      <td>3735.360000</td>\n",
       "      <td>13911.143555</td>\n",
       "      <td>90.339996</td>\n",
       "      <td>0.090000</td>\n",
       "      <td>12.507399</td>\n",
       "    </tr>\n",
       "    <tr>\n",
       "      <th>302</th>\n",
       "      <td>26483859.69</td>\n",
       "      <td>47.850000</td>\n",
       "      <td>3727.040000</td>\n",
       "      <td>14126.120117</td>\n",
       "      <td>90.010002</td>\n",
       "      <td>0.090000</td>\n",
       "      <td>12.507399</td>\n",
       "    </tr>\n",
       "    <tr>\n",
       "      <th>303</th>\n",
       "      <td>26520781.37</td>\n",
       "      <td>48.240000</td>\n",
       "      <td>3732.040000</td>\n",
       "      <td>14069.909180</td>\n",
       "      <td>89.629997</td>\n",
       "      <td>0.090000</td>\n",
       "      <td>12.507399</td>\n",
       "    </tr>\n",
       "    <tr>\n",
       "      <th>304</th>\n",
       "      <td>26520781.37</td>\n",
       "      <td>48.350000</td>\n",
       "      <td>3756.070000</td>\n",
       "      <td>13832.559570</td>\n",
       "      <td>89.940000</td>\n",
       "      <td>0.090000</td>\n",
       "      <td>12.507399</td>\n",
       "    </tr>\n",
       "  </tbody>\n",
       "</table>\n",
       "<p>305 rows × 7 columns</p>\n",
       "</div>"
      ],
      "text/plain": [
       "         Actual   Crude Oil  S&P 500 Index  Exchange Rate  Dollar Index  \\\n",
       "0    21176005.26  56.040000    3066.910000   14123.500000     97.239998   \n",
       "1    21154941.07  56.330000    3078.270000   14014.000000     97.510002   \n",
       "2    20796908.44  57.040000    3074.620000   14058.000000     97.980003   \n",
       "3    20826988.01  56.150000    3076.780000   14028.500000     97.949997   \n",
       "4    20771336.63  56.910000    3085.180000   14008.000000     98.139999   \n",
       "..           ...        ...            ...            ...           ...   \n",
       "300  26625000.00  51.051261    2684.793145   14148.643555     96.051226   \n",
       "301  26540625.00  47.500000    3735.360000   13911.143555     90.339996   \n",
       "302  26483859.69  47.850000    3727.040000   14126.120117     90.010002   \n",
       "303  26520781.37  48.240000    3732.040000   14069.909180     89.629997   \n",
       "304  26520781.37  48.350000    3756.070000   13832.559570     89.940000   \n",
       "\n",
       "     Federal Fund Rate  Consumer Price Index  \n",
       "0             1.570000             12.507399  \n",
       "1             1.560000             12.507399  \n",
       "2             1.560000             12.507399  \n",
       "3             1.550000             12.507399  \n",
       "4             1.550000             12.507399  \n",
       "..                 ...                   ...  \n",
       "300           1.149769             12.507399  \n",
       "301           0.090000             12.507399  \n",
       "302           0.090000             12.507399  \n",
       "303           0.090000             12.507399  \n",
       "304           0.090000             12.507399  \n",
       "\n",
       "[305 rows x 7 columns]"
      ]
     },
     "execution_count": 4,
     "metadata": {},
     "output_type": "execute_result"
    }
   ],
   "source": [
    "#data tanpa nilai NaN\n",
    "data = data.dropna(axis=1, how='all')\n",
    "data = data.drop(data.columns[[0,1,2,4]],axis=1)\n",
    "data"
   ]
  },
  {
   "cell_type": "code",
   "execution_count": 5,
   "id": "Z32glUC_OO62",
   "metadata": {
    "id": "Z32glUC_OO62"
   },
   "outputs": [],
   "source": [
    "X = data.iloc[:,1:7]\n",
    "Y = data['Actual ']"
   ]
  },
  {
   "cell_type": "code",
   "execution_count": 6,
   "id": "65jD5_0zQU__",
   "metadata": {
    "colab": {
     "base_uri": "https://localhost:8080/"
    },
    "id": "65jD5_0zQU__",
    "outputId": "368a5417-a09d-4b5c-b3e4-ccef8d5add98"
   },
   "outputs": [
    {
     "data": {
      "text/plain": [
       "228"
      ]
     },
     "execution_count": 6,
     "metadata": {},
     "output_type": "execute_result"
    }
   ],
   "source": [
    "X_train, X_test, y_train, y_test = train_test_split(X, Y, test_size=0.25, shuffle=False)\n",
    "X_train.shape[0]"
   ]
  },
  {
   "cell_type": "code",
   "execution_count": 7,
   "id": "4eZD6NF5Nhjr",
   "metadata": {
    "colab": {
     "base_uri": "https://localhost:8080/"
    },
    "id": "4eZD6NF5Nhjr",
    "outputId": "7f0b99e1-dd4c-46e8-9f64-79a83cb2385b"
   },
   "outputs": [],
   "source": [
    "#from google.colab import drive\n",
    "#drive.mount('/content/drive')"
   ]
  },
  {
   "cell_type": "markdown",
   "id": "Gr7UeORJrkco",
   "metadata": {
    "id": "Gr7UeORJrkco"
   },
   "source": [
    "##data selesai, split train test selesai"
   ]
  },
  {
   "cell_type": "markdown",
   "id": "b0a7fe11",
   "metadata": {
    "id": "b0a7fe11"
   },
   "source": [
    "# Import GridSearchCV, svm and SVR."
   ]
  },
  {
   "cell_type": "code",
   "execution_count": 8,
   "id": "842e594d",
   "metadata": {
    "id": "842e594d"
   },
   "outputs": [],
   "source": [
    "from sklearn.model_selection import GridSearchCV\n",
    "from sklearn import svm\n",
    "from sklearn.svm import SVR"
   ]
  },
  {
   "cell_type": "markdown",
   "id": "579b6eb1",
   "metadata": {
    "id": "579b6eb1"
   },
   "source": [
    "# Set estimator parameters."
   ]
  },
  {
   "cell_type": "code",
   "execution_count": 9,
   "id": "09e0c1a4",
   "metadata": {
    "id": "09e0c1a4"
   },
   "outputs": [],
   "source": [
    "estimator=SVR(kernel='rbf')"
   ]
  },
  {
   "cell_type": "markdown",
   "id": "da310bf5",
   "metadata": {
    "id": "da310bf5"
   },
   "source": [
    "# Specify hyperparameters and range of values."
   ]
  },
  {
   "cell_type": "code",
   "execution_count": 10,
   "id": "b81fcbcc",
   "metadata": {
    "id": "b81fcbcc"
   },
   "outputs": [],
   "source": [
    "##not important\n",
    "param_grid={\n",
    "            'C': [1.1, 5.4, 170, 1001],\n",
    "            'epsilon': [0.0003, 0.007, 0.0109, 0.019, 0.14, 0.05, 8, 0.2, 3, 2, 7],\n",
    "            'gamma': [0.7001, 0.008, 0.001, 3.1, 1, 1.3, 5]\n",
    "        }"
   ]
  },
  {
   "cell_type": "code",
   "execution_count": 11,
   "id": "47b9aa64",
   "metadata": {
    "id": "47b9aa64"
   },
   "outputs": [],
   "source": [
    "grid = GridSearchCV(\n",
    "\n",
    "estimator=SVR(kernel='rbf'),\n",
    "        param_grid={\n",
    "            'C': [1.1, 5.4, 170, 1001],\n",
    "            'epsilon': [0.0003, 0.007, 0.0109, 0.019, 0.14, 0.05, 8, 0.2, 3, 2, 7],\n",
    "            'gamma': [0.7001, 0.008, 0.001, 3.1, 1, 1.3, 5]\n",
    "        },\n",
    "        cv=5, scoring='neg_mean_squared_error', verbose=0, n_jobs=-1)"
   ]
  },
  {
   "cell_type": "code",
   "execution_count": 12,
   "id": "7fc0a664",
   "metadata": {
    "colab": {
     "base_uri": "https://localhost:8080/"
    },
    "id": "7fc0a664",
    "outputId": "ec69a324-500e-4199-b43e-03111b66ff11"
   },
   "outputs": [
    {
     "data": {
      "text/plain": [
       "GridSearchCV(cv=5, estimator=SVR(), n_jobs=-1,\n",
       "             param_grid={'C': [1.1, 5.4, 170, 1001],\n",
       "                         'epsilon': [0.0003, 0.007, 0.0109, 0.019, 0.14, 0.05,\n",
       "                                     8, 0.2, 3, 2, 7],\n",
       "                         'gamma': [0.7001, 0.008, 0.001, 3.1, 1, 1.3, 5]},\n",
       "             scoring='neg_mean_squared_error')"
      ]
     },
     "execution_count": 12,
     "metadata": {},
     "output_type": "execute_result"
    }
   ],
   "source": [
    "grid.fit(X_train,y_train)"
   ]
  },
  {
   "cell_type": "code",
   "execution_count": 13,
   "id": "f70d0a54",
   "metadata": {
    "colab": {
     "base_uri": "https://localhost:8080/"
    },
    "id": "f70d0a54",
    "outputId": "bae0019b-0027-437a-e67f-e8f90c0f0d25"
   },
   "outputs": [
    {
     "name": "stdout",
     "output_type": "stream",
     "text": [
      "best parameters are:  {'C': 1001, 'epsilon': 0.0003, 'gamma': 0.001}\n"
     ]
    }
   ],
   "source": [
    "#print the best parameters from all possible combinations\n",
    "##hasil grid search rbf\n",
    "print(\"best parameters are: \", grid.best_params_)"
   ]
  },
  {
   "cell_type": "markdown",
   "id": "S97EM9vMtoSN",
   "metadata": {
    "id": "S97EM9vMtoSN"
   },
   "source": [
    "##Models RBF"
   ]
  },
  {
   "cell_type": "code",
   "execution_count": null,
   "id": "VZVme6tQxWgs",
   "metadata": {
    "id": "VZVme6tQxWgs"
   },
   "outputs": [],
   "source": []
  }
 ],
 "metadata": {
  "colab": {
   "collapsed_sections": [],
   "name": "GridSearchCV [ Fix ].ipynb",
   "provenance": []
  },
  "kernelspec": {
   "display_name": "Python 3",
   "language": "python",
   "name": "python3"
  },
  "language_info": {
   "codemirror_mode": {
    "name": "ipython",
    "version": 3
   },
   "file_extension": ".py",
   "mimetype": "text/x-python",
   "name": "python",
   "nbconvert_exporter": "python",
   "pygments_lexer": "ipython3",
   "version": "3.8.8"
  }
 },
 "nbformat": 4,
 "nbformat_minor": 5
}
