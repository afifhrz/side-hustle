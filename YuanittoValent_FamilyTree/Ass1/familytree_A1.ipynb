{
 "cells": [
  {
   "cell_type": "markdown",
   "metadata": {},
   "source": [
    "Task 1"
   ]
  },
  {
   "cell_type": "code",
   "execution_count": 3,
   "metadata": {},
   "outputs": [],
   "source": [
    "def read_family(filename):\n",
    "    read_file = open(filename, \"r\")\n",
    "    loop_file = read_file.read()\n",
    "    result_line = []\n",
    "    final_result = []\n",
    "    char = \"\"\n",
    "\n",
    "    for huruf in loop_file:\n",
    "        if huruf != \",\" and huruf != \"\\n\":\n",
    "            char += huruf\n",
    "        else:\n",
    "            if char == \"\":\n",
    "                result_line.append(None)\n",
    "            else:\n",
    "                if char[0] == \" \":\n",
    "                    get_char = char[1:]\n",
    "                    result_line.append(get_char)\n",
    "                else:\n",
    "                    result_line.append(char)\n",
    "            char=\"\"\n",
    "\n",
    "        if huruf == \"\\n\":\n",
    "            final_result.append(result_line)\n",
    "            result_line = []\n",
    "    \n",
    "    return final_result"
   ]
  },
  {
   "cell_type": "code",
   "execution_count": 4,
   "metadata": {},
   "outputs": [],
   "source": [
    "hobbits = read_family('hobbit-family.txt')"
   ]
  },
  {
   "cell_type": "code",
   "execution_count": 64,
   "metadata": {},
   "outputs": [
    {
     "data": {
      "text/plain": [
       "119"
      ]
     },
     "execution_count": 64,
     "metadata": {},
     "output_type": "execute_result"
    }
   ],
   "source": [
    "len(hobbits)"
   ]
  },
  {
   "cell_type": "code",
   "execution_count": 65,
   "metadata": {},
   "outputs": [
    {
     "data": {
      "text/plain": [
       "['Sancho Proudfoot', 'Olo Proudfoot', None]"
      ]
     },
     "execution_count": 65,
     "metadata": {},
     "output_type": "execute_result"
    }
   ],
   "source": [
    "hobbits[118]"
   ]
  },
  {
   "cell_type": "code",
   "execution_count": 12,
   "metadata": {},
   "outputs": [],
   "source": [
    "def person_index(person, family):\n",
    "    index = 0\n",
    "    for name in family:\n",
    "        if name[0] == person:\n",
    "            return index\n",
    "        index += 1"
   ]
  },
  {
   "cell_type": "code",
   "execution_count": 18,
   "metadata": {},
   "outputs": [
    {
     "data": {
      "text/plain": [
       "0"
      ]
     },
     "execution_count": 18,
     "metadata": {},
     "output_type": "execute_result"
    }
   ],
   "source": [
    "person_index('Buffo Boffin', hobbits)"
   ]
  },
  {
   "cell_type": "code",
   "execution_count": null,
   "metadata": {},
   "outputs": [],
   "source": []
  }
 ],
 "metadata": {
  "interpreter": {
   "hash": "62462b336cc45a08a09365a2a3ab907ceca0b5e4aa9a51bb3d44f3b3da7c8e99"
  },
  "kernelspec": {
   "display_name": "Python 3.8.5 64-bit",
   "language": "python",
   "name": "python3"
  },
  "language_info": {
   "codemirror_mode": {
    "name": "ipython",
    "version": 3
   },
   "file_extension": ".py",
   "mimetype": "text/x-python",
   "name": "python",
   "nbconvert_exporter": "python",
   "pygments_lexer": "ipython3",
   "version": "3.8.5"
  },
  "orig_nbformat": 4
 },
 "nbformat": 4,
 "nbformat_minor": 2
}
