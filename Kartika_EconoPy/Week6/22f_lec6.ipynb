{
 "cells": [
  {
   "cell_type": "code",
   "execution_count": 2,
   "id": "e0609478",
   "metadata": {},
   "outputs": [],
   "source": [
    "import statsmodels.formula.api as smf\n",
    "import wooldridge as woo\n",
    "import numpy as np \n",
    "import pandas as pd\n",
    "import seaborn as sns\n",
    "import matplotlib.pyplot as plt\n",
    "from matplotlib.ticker import ScalarFormatter\n",
    "import statsmodels.api as sm\n",
    "import scipy.stats as stats\n",
    "import patsy as pt\n"
   ]
  },
  {
   "cell_type": "markdown",
   "id": "386eea7a",
   "metadata": {},
   "source": [
    "# Lecture 6"
   ]
  },
  {
   "cell_type": "markdown",
   "id": "05fb5d7f",
   "metadata": {},
   "source": [
    "## Nathan Kunz"
   ]
  },
  {
   "cell_type": "code",
   "execution_count": 3,
   "id": "cd1938b1",
   "metadata": {},
   "outputs": [],
   "source": [
    "data = woo.data(\"gpa3\")"
   ]
  },
  {
   "cell_type": "markdown",
   "id": "f0d4c8ee",
   "metadata": {},
   "source": [
    "### AIC"
   ]
  },
  {
   "cell_type": "markdown",
   "id": "bcc49e8c",
   "metadata": {},
   "source": [
    "$$ AIC = ln(\\frac{SSE}{N})+\\frac{2K}{N}$$"
   ]
  },
  {
   "cell_type": "code",
   "execution_count": 4,
   "id": "ecc8934a",
   "metadata": {},
   "outputs": [],
   "source": [
    "# Fit the model\n",
    "model = smf.ols('cumgpa ~ sat +hsperc +tothrs +female +black + white', data)\n",
    "results = model.fit()"
   ]
  },
  {
   "cell_type": "code",
   "execution_count": 5,
   "id": "c0b522f6",
   "metadata": {},
   "outputs": [
    {
     "data": {
      "text/html": [
       "<table class=\"simpletable\">\n",
       "<caption>OLS Regression Results</caption>\n",
       "<tr>\n",
       "  <th>Dep. Variable:</th>         <td>cumgpa</td>      <th>  R-squared:         </th> <td>   0.241</td>\n",
       "</tr>\n",
       "<tr>\n",
       "  <th>Model:</th>                   <td>OLS</td>       <th>  Adj. R-squared:    </th> <td>   0.234</td>\n",
       "</tr>\n",
       "<tr>\n",
       "  <th>Method:</th>             <td>Least Squares</td>  <th>  F-statistic:       </th> <td>   38.31</td>\n",
       "</tr>\n",
       "<tr>\n",
       "  <th>Date:</th>             <td>Fri, 04 Nov 2022</td> <th>  Prob (F-statistic):</th> <td>1.73e-40</td>\n",
       "</tr>\n",
       "<tr>\n",
       "  <th>Time:</th>                 <td>16:00:13</td>     <th>  Log-Likelihood:    </th> <td> -929.74</td>\n",
       "</tr>\n",
       "<tr>\n",
       "  <th>No. Observations:</th>      <td>   732</td>      <th>  AIC:               </th> <td>   1873.</td>\n",
       "</tr>\n",
       "<tr>\n",
       "  <th>Df Residuals:</th>          <td>   725</td>      <th>  BIC:               </th> <td>   1906.</td>\n",
       "</tr>\n",
       "<tr>\n",
       "  <th>Df Model:</th>              <td>     6</td>      <th>                     </th>     <td> </td>   \n",
       "</tr>\n",
       "<tr>\n",
       "  <th>Covariance Type:</th>      <td>nonrobust</td>    <th>                     </th>     <td> </td>   \n",
       "</tr>\n",
       "</table>\n",
       "<table class=\"simpletable\">\n",
       "<tr>\n",
       "      <td></td>         <th>coef</th>     <th>std err</th>      <th>t</th>      <th>P>|t|</th>  <th>[0.025</th>    <th>0.975]</th>  \n",
       "</tr>\n",
       "<tr>\n",
       "  <th>Intercept</th> <td>    0.8791</td> <td>    0.298</td> <td>    2.952</td> <td> 0.003</td> <td>    0.294</td> <td>    1.464</td>\n",
       "</tr>\n",
       "<tr>\n",
       "  <th>sat</th>       <td>    0.0009</td> <td>    0.000</td> <td>    3.743</td> <td> 0.000</td> <td>    0.000</td> <td>    0.001</td>\n",
       "</tr>\n",
       "<tr>\n",
       "  <th>hsperc</th>    <td>   -0.0056</td> <td>    0.002</td> <td>   -3.463</td> <td> 0.001</td> <td>   -0.009</td> <td>   -0.002</td>\n",
       "</tr>\n",
       "<tr>\n",
       "  <th>tothrs</th>    <td>    0.0121</td> <td>    0.001</td> <td>   12.941</td> <td> 0.000</td> <td>    0.010</td> <td>    0.014</td>\n",
       "</tr>\n",
       "<tr>\n",
       "  <th>female</th>    <td>    0.1667</td> <td>    0.077</td> <td>    2.164</td> <td> 0.031</td> <td>    0.015</td> <td>    0.318</td>\n",
       "</tr>\n",
       "<tr>\n",
       "  <th>black</th>     <td>   -0.0261</td> <td>    0.192</td> <td>   -0.136</td> <td> 0.892</td> <td>   -0.403</td> <td>    0.351</td>\n",
       "</tr>\n",
       "<tr>\n",
       "  <th>white</th>     <td>    0.0143</td> <td>    0.184</td> <td>    0.078</td> <td> 0.938</td> <td>   -0.347</td> <td>    0.375</td>\n",
       "</tr>\n",
       "</table>\n",
       "<table class=\"simpletable\">\n",
       "<tr>\n",
       "  <th>Omnibus:</th>       <td>15.717</td> <th>  Durbin-Watson:     </th> <td>   2.007</td>\n",
       "</tr>\n",
       "<tr>\n",
       "  <th>Prob(Omnibus):</th> <td> 0.000</td> <th>  Jarque-Bera (JB):  </th> <td>  28.426</td>\n",
       "</tr>\n",
       "<tr>\n",
       "  <th>Skew:</th>          <td> 0.088</td> <th>  Prob(JB):          </th> <td>6.72e-07</td>\n",
       "</tr>\n",
       "<tr>\n",
       "  <th>Kurtosis:</th>      <td> 3.949</td> <th>  Cond. No.          </th> <td>1.01e+04</td>\n",
       "</tr>\n",
       "</table><br/><br/>Notes:<br/>[1] Standard Errors assume that the covariance matrix of the errors is correctly specified.<br/>[2] The condition number is large, 1.01e+04. This might indicate that there are<br/>strong multicollinearity or other numerical problems."
      ],
      "text/plain": [
       "<class 'statsmodels.iolib.summary.Summary'>\n",
       "\"\"\"\n",
       "                            OLS Regression Results                            \n",
       "==============================================================================\n",
       "Dep. Variable:                 cumgpa   R-squared:                       0.241\n",
       "Model:                            OLS   Adj. R-squared:                  0.234\n",
       "Method:                 Least Squares   F-statistic:                     38.31\n",
       "Date:                Fri, 04 Nov 2022   Prob (F-statistic):           1.73e-40\n",
       "Time:                        16:00:13   Log-Likelihood:                -929.74\n",
       "No. Observations:                 732   AIC:                             1873.\n",
       "Df Residuals:                     725   BIC:                             1906.\n",
       "Df Model:                           6                                         \n",
       "Covariance Type:            nonrobust                                         \n",
       "==============================================================================\n",
       "                 coef    std err          t      P>|t|      [0.025      0.975]\n",
       "------------------------------------------------------------------------------\n",
       "Intercept      0.8791      0.298      2.952      0.003       0.294       1.464\n",
       "sat            0.0009      0.000      3.743      0.000       0.000       0.001\n",
       "hsperc        -0.0056      0.002     -3.463      0.001      -0.009      -0.002\n",
       "tothrs         0.0121      0.001     12.941      0.000       0.010       0.014\n",
       "female         0.1667      0.077      2.164      0.031       0.015       0.318\n",
       "black         -0.0261      0.192     -0.136      0.892      -0.403       0.351\n",
       "white          0.0143      0.184      0.078      0.938      -0.347       0.375\n",
       "==============================================================================\n",
       "Omnibus:                       15.717   Durbin-Watson:                   2.007\n",
       "Prob(Omnibus):                  0.000   Jarque-Bera (JB):               28.426\n",
       "Skew:                           0.088   Prob(JB):                     6.72e-07\n",
       "Kurtosis:                       3.949   Cond. No.                     1.01e+04\n",
       "==============================================================================\n",
       "\n",
       "Notes:\n",
       "[1] Standard Errors assume that the covariance matrix of the errors is correctly specified.\n",
       "[2] The condition number is large, 1.01e+04. This might indicate that there are\n",
       "strong multicollinearity or other numerical problems.\n",
       "\"\"\""
      ]
     },
     "execution_count": 5,
     "metadata": {},
     "output_type": "execute_result"
    }
   ],
   "source": [
    "results.summary()"
   ]
  },
  {
   "cell_type": "code",
   "execution_count": 6,
   "id": "85b3a03a",
   "metadata": {},
   "outputs": [
    {
     "data": {
      "text/plain": [
       "-0.2784906693074793"
      ]
     },
     "execution_count": 6,
     "metadata": {},
     "output_type": "execute_result"
    }
   ],
   "source": [
    "# manual AIC using the formula\n",
    "def AIC(model, y):\n",
    "    \n",
    "    # get SSE\n",
    "    SSE = ((model.resid)**2).sum()\n",
    "    \n",
    "    # Get K and N\n",
    "    k = len(results.params)\n",
    "    N = len(results.fittedvalues)\n",
    "    \n",
    "    # Calculate and return AIC\n",
    "    return np.log(SSE/N) + ((2*k)/N)\n",
    "\n",
    "AIC(results, data.cumgpa)"
   ]
  },
  {
   "cell_type": "code",
   "execution_count": 7,
   "id": "96bb40fe",
   "metadata": {},
   "outputs": [
    {
     "data": {
      "text/plain": [
       "1873.470842678566"
      ]
     },
     "execution_count": 7,
     "metadata": {},
     "output_type": "execute_result"
    }
   ],
   "source": [
    "results.aic"
   ]
  },
  {
   "cell_type": "code",
   "execution_count": 8,
   "id": "922901d1",
   "metadata": {},
   "outputs": [
    {
     "data": {
      "text/plain": [
       "1873.470842678566"
      ]
     },
     "execution_count": 8,
     "metadata": {},
     "output_type": "execute_result"
    }
   ],
   "source": [
    "# -2*llf+2(df_model + 1)\n",
    "-2*results.llf+2*len(results.params)"
   ]
  },
  {
   "cell_type": "code",
   "execution_count": 9,
   "id": "a84c77a2",
   "metadata": {},
   "outputs": [
    {
     "data": {
      "text/plain": [
       "1873.470842678566"
      ]
     },
     "execution_count": 9,
     "metadata": {},
     "output_type": "execute_result"
    }
   ],
   "source": [
    "-2*results.llf+14"
   ]
  },
  {
   "cell_type": "markdown",
   "id": "4f18d75f",
   "metadata": {},
   "source": [
    "### BIC"
   ]
  },
  {
   "cell_type": "markdown",
   "id": "a3c056ce",
   "metadata": {},
   "source": [
    "Prefers smaller models than AIC"
   ]
  },
  {
   "cell_type": "markdown",
   "id": "32b48846",
   "metadata": {},
   "source": [
    "$$ AIC = \\ln(\\frac{SSE}{N})+\\frac{K\\ln(N)}{N}$$"
   ]
  },
  {
   "cell_type": "code",
   "execution_count": 10,
   "id": "a69e4eef",
   "metadata": {},
   "outputs": [
    {
     "data": {
      "text/plain": [
       "-0.2345419485455542"
      ]
     },
     "execution_count": 10,
     "metadata": {},
     "output_type": "execute_result"
    }
   ],
   "source": [
    "def BIC(model, y):\n",
    "    \n",
    "    # get SSE\n",
    "    SSE = ((model.resid)**2).sum()\n",
    "    \n",
    "    # Get K and N\n",
    "    k = len(results.params)\n",
    "    N = len(results.fittedvalues)\n",
    "    \n",
    "    # Calculate and return AIC\n",
    "    return np.log(SSE/N) + ((k*np.log(N))/N)\n",
    "\n",
    "BIC(results, data.cumgpa)"
   ]
  },
  {
   "cell_type": "code",
   "execution_count": 11,
   "id": "24accf46",
   "metadata": {},
   "outputs": [
    {
     "data": {
      "text/plain": [
       "1905.6413062762952"
      ]
     },
     "execution_count": 11,
     "metadata": {},
     "output_type": "execute_result"
    }
   ],
   "source": [
    "results.bic"
   ]
  },
  {
   "cell_type": "code",
   "execution_count": 12,
   "id": "c6e83339",
   "metadata": {},
   "outputs": [
    {
     "data": {
      "text/plain": [
       "1905.6413062762952"
      ]
     },
     "execution_count": 12,
     "metadata": {},
     "output_type": "execute_result"
    }
   ],
   "source": [
    "# -2*llf+ln(n)*(df_model + 1)\n",
    "-2*results.llf+np.log(len(results.fittedvalues))*len(results.params)"
   ]
  },
  {
   "cell_type": "markdown",
   "id": "7c3ff4b5",
   "metadata": {},
   "source": [
    "We prefer models with the smallest AIC and BIC. We are not concerned about the absolute value."
   ]
  },
  {
   "cell_type": "markdown",
   "id": "b2f81d46",
   "metadata": {},
   "source": [
    "## Heteroscedasticity"
   ]
  },
  {
   "cell_type": "markdown",
   "id": "2f047be7",
   "metadata": {},
   "source": [
    "### Spread-Level Plots"
   ]
  },
  {
   "cell_type": "code",
   "execution_count": 13,
   "id": "d2ae43e1",
   "metadata": {},
   "outputs": [],
   "source": [
    "def spread_level(model, data):\n",
    "    df_copy = data.copy()\n",
    "    \n",
    "    # Get the studentized residuals\n",
    "    df_copy[\"Absolute_Studentized_Residuals\"] = (np.abs(model.get_influence().resid_studentized))\n",
    "    df_copy[\"Fitted_Values\"] = (model.fittedvalues)\n",
    "    \n",
    "    # run regression to get slope of fitted vs resid, rlm is a robust linear model used by R\n",
    "    slreg = smf.rlm(\"np.log(Absolute_Studentized_Residuals) ~ np.log(Fitted_Values)\", df_copy).fit()\n",
    "    slope = slreg.params[1]\n",
    "    \n",
    "    # plot values\n",
    "    fig, ax = plt.subplots(figsize = (10, 6))\n",
    "    ax.set_title(\"Fitted Values vs Studentized Residuals\")\n",
    "    sns.regplot(x = \"Fitted_Values\", y = \"Absolute_Studentized_Residuals\", data = df_copy, lowess = True, ax = ax)\n",
    "    ax.plot(df_copy.Fitted_Values.values, np.exp(slreg.fittedvalues).values)\n",
    "    \n",
    "    # Set to the logarithmic scale\n",
    "    ax.set_yscale('log')\n",
    "    ax.set_xscale('log')\n",
    "    \n",
    "    # convert froms scientific notation to scalar notation\n",
    "    ax.yaxis.set_major_formatter(ScalarFormatter())\n",
    "    ax.xaxis.set_major_formatter(ScalarFormatter())\n",
    "    \n",
    "    # Resolve overlapping label bug\n",
    "    ax.minorticks_off()\n",
    "    \n",
    "    # Set tick labels automatically\n",
    "    ax.set_xticks(np.linspace(df_copy[\"Fitted_Values\"].min(),df_copy[\"Fitted_Values\"].max(), 6))\n",
    "    ax.set_yticks(np.linspace(df_copy[\"Absolute_Studentized_Residuals\"].min(),\n",
    "                              df_copy[\"Absolute_Studentized_Residuals\"].max(), 6))\n",
    "    \n",
    "    ax.grid()\n",
    "    \n",
    "    # return a suggested power transform of your y-variable that may correct heteroscedastcity\n",
    "    # The transform is just one minus the slope of the reegression line of your fitted values vs residuals\n",
    "    print(\"Suggested Power Transformation:\", 1-slope)"
   ]
  },
  {
   "cell_type": "code",
   "execution_count": 14,
   "id": "0bc17693",
   "metadata": {},
   "outputs": [
    {
     "ename": "FileNotFoundError",
     "evalue": "[Errno 2] No such file or directory: 'food.csv'",
     "output_type": "error",
     "traceback": [
      "\u001b[1;31m---------------------------------------------------------------------------\u001b[0m",
      "\u001b[1;31mFileNotFoundError\u001b[0m                         Traceback (most recent call last)",
      "Input \u001b[1;32mIn [14]\u001b[0m, in \u001b[0;36m<cell line: 1>\u001b[1;34m()\u001b[0m\n\u001b[1;32m----> 1\u001b[0m foodata \u001b[38;5;241m=\u001b[39m \u001b[43mpd\u001b[49m\u001b[38;5;241;43m.\u001b[39;49m\u001b[43mread_csv\u001b[49m\u001b[43m(\u001b[49m\u001b[38;5;124;43m\"\u001b[39;49m\u001b[38;5;124;43mfood.csv\u001b[39;49m\u001b[38;5;124;43m\"\u001b[39;49m\u001b[43m)\u001b[49m\n",
      "File \u001b[1;32m~\\anaconda3\\lib\\site-packages\\pandas\\util\\_decorators.py:311\u001b[0m, in \u001b[0;36mdeprecate_nonkeyword_arguments.<locals>.decorate.<locals>.wrapper\u001b[1;34m(*args, **kwargs)\u001b[0m\n\u001b[0;32m    305\u001b[0m \u001b[38;5;28;01mif\u001b[39;00m \u001b[38;5;28mlen\u001b[39m(args) \u001b[38;5;241m>\u001b[39m num_allow_args:\n\u001b[0;32m    306\u001b[0m     warnings\u001b[38;5;241m.\u001b[39mwarn(\n\u001b[0;32m    307\u001b[0m         msg\u001b[38;5;241m.\u001b[39mformat(arguments\u001b[38;5;241m=\u001b[39marguments),\n\u001b[0;32m    308\u001b[0m         \u001b[38;5;167;01mFutureWarning\u001b[39;00m,\n\u001b[0;32m    309\u001b[0m         stacklevel\u001b[38;5;241m=\u001b[39mstacklevel,\n\u001b[0;32m    310\u001b[0m     )\n\u001b[1;32m--> 311\u001b[0m \u001b[38;5;28;01mreturn\u001b[39;00m func(\u001b[38;5;241m*\u001b[39margs, \u001b[38;5;241m*\u001b[39m\u001b[38;5;241m*\u001b[39mkwargs)\n",
      "File \u001b[1;32m~\\anaconda3\\lib\\site-packages\\pandas\\io\\parsers\\readers.py:680\u001b[0m, in \u001b[0;36mread_csv\u001b[1;34m(filepath_or_buffer, sep, delimiter, header, names, index_col, usecols, squeeze, prefix, mangle_dupe_cols, dtype, engine, converters, true_values, false_values, skipinitialspace, skiprows, skipfooter, nrows, na_values, keep_default_na, na_filter, verbose, skip_blank_lines, parse_dates, infer_datetime_format, keep_date_col, date_parser, dayfirst, cache_dates, iterator, chunksize, compression, thousands, decimal, lineterminator, quotechar, quoting, doublequote, escapechar, comment, encoding, encoding_errors, dialect, error_bad_lines, warn_bad_lines, on_bad_lines, delim_whitespace, low_memory, memory_map, float_precision, storage_options)\u001b[0m\n\u001b[0;32m    665\u001b[0m kwds_defaults \u001b[38;5;241m=\u001b[39m _refine_defaults_read(\n\u001b[0;32m    666\u001b[0m     dialect,\n\u001b[0;32m    667\u001b[0m     delimiter,\n\u001b[1;32m   (...)\u001b[0m\n\u001b[0;32m    676\u001b[0m     defaults\u001b[38;5;241m=\u001b[39m{\u001b[38;5;124m\"\u001b[39m\u001b[38;5;124mdelimiter\u001b[39m\u001b[38;5;124m\"\u001b[39m: \u001b[38;5;124m\"\u001b[39m\u001b[38;5;124m,\u001b[39m\u001b[38;5;124m\"\u001b[39m},\n\u001b[0;32m    677\u001b[0m )\n\u001b[0;32m    678\u001b[0m kwds\u001b[38;5;241m.\u001b[39mupdate(kwds_defaults)\n\u001b[1;32m--> 680\u001b[0m \u001b[38;5;28;01mreturn\u001b[39;00m \u001b[43m_read\u001b[49m\u001b[43m(\u001b[49m\u001b[43mfilepath_or_buffer\u001b[49m\u001b[43m,\u001b[49m\u001b[43m \u001b[49m\u001b[43mkwds\u001b[49m\u001b[43m)\u001b[49m\n",
      "File \u001b[1;32m~\\anaconda3\\lib\\site-packages\\pandas\\io\\parsers\\readers.py:575\u001b[0m, in \u001b[0;36m_read\u001b[1;34m(filepath_or_buffer, kwds)\u001b[0m\n\u001b[0;32m    572\u001b[0m _validate_names(kwds\u001b[38;5;241m.\u001b[39mget(\u001b[38;5;124m\"\u001b[39m\u001b[38;5;124mnames\u001b[39m\u001b[38;5;124m\"\u001b[39m, \u001b[38;5;28;01mNone\u001b[39;00m))\n\u001b[0;32m    574\u001b[0m \u001b[38;5;66;03m# Create the parser.\u001b[39;00m\n\u001b[1;32m--> 575\u001b[0m parser \u001b[38;5;241m=\u001b[39m TextFileReader(filepath_or_buffer, \u001b[38;5;241m*\u001b[39m\u001b[38;5;241m*\u001b[39mkwds)\n\u001b[0;32m    577\u001b[0m \u001b[38;5;28;01mif\u001b[39;00m chunksize \u001b[38;5;129;01mor\u001b[39;00m iterator:\n\u001b[0;32m    578\u001b[0m     \u001b[38;5;28;01mreturn\u001b[39;00m parser\n",
      "File \u001b[1;32m~\\anaconda3\\lib\\site-packages\\pandas\\io\\parsers\\readers.py:933\u001b[0m, in \u001b[0;36mTextFileReader.__init__\u001b[1;34m(self, f, engine, **kwds)\u001b[0m\n\u001b[0;32m    930\u001b[0m     \u001b[38;5;28mself\u001b[39m\u001b[38;5;241m.\u001b[39moptions[\u001b[38;5;124m\"\u001b[39m\u001b[38;5;124mhas_index_names\u001b[39m\u001b[38;5;124m\"\u001b[39m] \u001b[38;5;241m=\u001b[39m kwds[\u001b[38;5;124m\"\u001b[39m\u001b[38;5;124mhas_index_names\u001b[39m\u001b[38;5;124m\"\u001b[39m]\n\u001b[0;32m    932\u001b[0m \u001b[38;5;28mself\u001b[39m\u001b[38;5;241m.\u001b[39mhandles: IOHandles \u001b[38;5;241m|\u001b[39m \u001b[38;5;28;01mNone\u001b[39;00m \u001b[38;5;241m=\u001b[39m \u001b[38;5;28;01mNone\u001b[39;00m\n\u001b[1;32m--> 933\u001b[0m \u001b[38;5;28mself\u001b[39m\u001b[38;5;241m.\u001b[39m_engine \u001b[38;5;241m=\u001b[39m \u001b[38;5;28;43mself\u001b[39;49m\u001b[38;5;241;43m.\u001b[39;49m\u001b[43m_make_engine\u001b[49m\u001b[43m(\u001b[49m\u001b[43mf\u001b[49m\u001b[43m,\u001b[49m\u001b[43m \u001b[49m\u001b[38;5;28;43mself\u001b[39;49m\u001b[38;5;241;43m.\u001b[39;49m\u001b[43mengine\u001b[49m\u001b[43m)\u001b[49m\n",
      "File \u001b[1;32m~\\anaconda3\\lib\\site-packages\\pandas\\io\\parsers\\readers.py:1217\u001b[0m, in \u001b[0;36mTextFileReader._make_engine\u001b[1;34m(self, f, engine)\u001b[0m\n\u001b[0;32m   1213\u001b[0m     mode \u001b[38;5;241m=\u001b[39m \u001b[38;5;124m\"\u001b[39m\u001b[38;5;124mrb\u001b[39m\u001b[38;5;124m\"\u001b[39m\n\u001b[0;32m   1214\u001b[0m \u001b[38;5;66;03m# error: No overload variant of \"get_handle\" matches argument types\u001b[39;00m\n\u001b[0;32m   1215\u001b[0m \u001b[38;5;66;03m# \"Union[str, PathLike[str], ReadCsvBuffer[bytes], ReadCsvBuffer[str]]\"\u001b[39;00m\n\u001b[0;32m   1216\u001b[0m \u001b[38;5;66;03m# , \"str\", \"bool\", \"Any\", \"Any\", \"Any\", \"Any\", \"Any\"\u001b[39;00m\n\u001b[1;32m-> 1217\u001b[0m \u001b[38;5;28mself\u001b[39m\u001b[38;5;241m.\u001b[39mhandles \u001b[38;5;241m=\u001b[39m \u001b[43mget_handle\u001b[49m\u001b[43m(\u001b[49m\u001b[43m  \u001b[49m\u001b[38;5;66;43;03m# type: ignore[call-overload]\u001b[39;49;00m\n\u001b[0;32m   1218\u001b[0m \u001b[43m    \u001b[49m\u001b[43mf\u001b[49m\u001b[43m,\u001b[49m\n\u001b[0;32m   1219\u001b[0m \u001b[43m    \u001b[49m\u001b[43mmode\u001b[49m\u001b[43m,\u001b[49m\n\u001b[0;32m   1220\u001b[0m \u001b[43m    \u001b[49m\u001b[43mencoding\u001b[49m\u001b[38;5;241;43m=\u001b[39;49m\u001b[38;5;28;43mself\u001b[39;49m\u001b[38;5;241;43m.\u001b[39;49m\u001b[43moptions\u001b[49m\u001b[38;5;241;43m.\u001b[39;49m\u001b[43mget\u001b[49m\u001b[43m(\u001b[49m\u001b[38;5;124;43m\"\u001b[39;49m\u001b[38;5;124;43mencoding\u001b[39;49m\u001b[38;5;124;43m\"\u001b[39;49m\u001b[43m,\u001b[49m\u001b[43m \u001b[49m\u001b[38;5;28;43;01mNone\u001b[39;49;00m\u001b[43m)\u001b[49m\u001b[43m,\u001b[49m\n\u001b[0;32m   1221\u001b[0m \u001b[43m    \u001b[49m\u001b[43mcompression\u001b[49m\u001b[38;5;241;43m=\u001b[39;49m\u001b[38;5;28;43mself\u001b[39;49m\u001b[38;5;241;43m.\u001b[39;49m\u001b[43moptions\u001b[49m\u001b[38;5;241;43m.\u001b[39;49m\u001b[43mget\u001b[49m\u001b[43m(\u001b[49m\u001b[38;5;124;43m\"\u001b[39;49m\u001b[38;5;124;43mcompression\u001b[39;49m\u001b[38;5;124;43m\"\u001b[39;49m\u001b[43m,\u001b[49m\u001b[43m \u001b[49m\u001b[38;5;28;43;01mNone\u001b[39;49;00m\u001b[43m)\u001b[49m\u001b[43m,\u001b[49m\n\u001b[0;32m   1222\u001b[0m \u001b[43m    \u001b[49m\u001b[43mmemory_map\u001b[49m\u001b[38;5;241;43m=\u001b[39;49m\u001b[38;5;28;43mself\u001b[39;49m\u001b[38;5;241;43m.\u001b[39;49m\u001b[43moptions\u001b[49m\u001b[38;5;241;43m.\u001b[39;49m\u001b[43mget\u001b[49m\u001b[43m(\u001b[49m\u001b[38;5;124;43m\"\u001b[39;49m\u001b[38;5;124;43mmemory_map\u001b[39;49m\u001b[38;5;124;43m\"\u001b[39;49m\u001b[43m,\u001b[49m\u001b[43m \u001b[49m\u001b[38;5;28;43;01mFalse\u001b[39;49;00m\u001b[43m)\u001b[49m\u001b[43m,\u001b[49m\n\u001b[0;32m   1223\u001b[0m \u001b[43m    \u001b[49m\u001b[43mis_text\u001b[49m\u001b[38;5;241;43m=\u001b[39;49m\u001b[43mis_text\u001b[49m\u001b[43m,\u001b[49m\n\u001b[0;32m   1224\u001b[0m \u001b[43m    \u001b[49m\u001b[43merrors\u001b[49m\u001b[38;5;241;43m=\u001b[39;49m\u001b[38;5;28;43mself\u001b[39;49m\u001b[38;5;241;43m.\u001b[39;49m\u001b[43moptions\u001b[49m\u001b[38;5;241;43m.\u001b[39;49m\u001b[43mget\u001b[49m\u001b[43m(\u001b[49m\u001b[38;5;124;43m\"\u001b[39;49m\u001b[38;5;124;43mencoding_errors\u001b[39;49m\u001b[38;5;124;43m\"\u001b[39;49m\u001b[43m,\u001b[49m\u001b[43m \u001b[49m\u001b[38;5;124;43m\"\u001b[39;49m\u001b[38;5;124;43mstrict\u001b[39;49m\u001b[38;5;124;43m\"\u001b[39;49m\u001b[43m)\u001b[49m\u001b[43m,\u001b[49m\n\u001b[0;32m   1225\u001b[0m \u001b[43m    \u001b[49m\u001b[43mstorage_options\u001b[49m\u001b[38;5;241;43m=\u001b[39;49m\u001b[38;5;28;43mself\u001b[39;49m\u001b[38;5;241;43m.\u001b[39;49m\u001b[43moptions\u001b[49m\u001b[38;5;241;43m.\u001b[39;49m\u001b[43mget\u001b[49m\u001b[43m(\u001b[49m\u001b[38;5;124;43m\"\u001b[39;49m\u001b[38;5;124;43mstorage_options\u001b[39;49m\u001b[38;5;124;43m\"\u001b[39;49m\u001b[43m,\u001b[49m\u001b[43m \u001b[49m\u001b[38;5;28;43;01mNone\u001b[39;49;00m\u001b[43m)\u001b[49m\u001b[43m,\u001b[49m\n\u001b[0;32m   1226\u001b[0m \u001b[43m\u001b[49m\u001b[43m)\u001b[49m\n\u001b[0;32m   1227\u001b[0m \u001b[38;5;28;01massert\u001b[39;00m \u001b[38;5;28mself\u001b[39m\u001b[38;5;241m.\u001b[39mhandles \u001b[38;5;129;01mis\u001b[39;00m \u001b[38;5;129;01mnot\u001b[39;00m \u001b[38;5;28;01mNone\u001b[39;00m\n\u001b[0;32m   1228\u001b[0m f \u001b[38;5;241m=\u001b[39m \u001b[38;5;28mself\u001b[39m\u001b[38;5;241m.\u001b[39mhandles\u001b[38;5;241m.\u001b[39mhandle\n",
      "File \u001b[1;32m~\\anaconda3\\lib\\site-packages\\pandas\\io\\common.py:789\u001b[0m, in \u001b[0;36mget_handle\u001b[1;34m(path_or_buf, mode, encoding, compression, memory_map, is_text, errors, storage_options)\u001b[0m\n\u001b[0;32m    784\u001b[0m \u001b[38;5;28;01melif\u001b[39;00m \u001b[38;5;28misinstance\u001b[39m(handle, \u001b[38;5;28mstr\u001b[39m):\n\u001b[0;32m    785\u001b[0m     \u001b[38;5;66;03m# Check whether the filename is to be opened in binary mode.\u001b[39;00m\n\u001b[0;32m    786\u001b[0m     \u001b[38;5;66;03m# Binary mode does not support 'encoding' and 'newline'.\u001b[39;00m\n\u001b[0;32m    787\u001b[0m     \u001b[38;5;28;01mif\u001b[39;00m ioargs\u001b[38;5;241m.\u001b[39mencoding \u001b[38;5;129;01mand\u001b[39;00m \u001b[38;5;124m\"\u001b[39m\u001b[38;5;124mb\u001b[39m\u001b[38;5;124m\"\u001b[39m \u001b[38;5;129;01mnot\u001b[39;00m \u001b[38;5;129;01min\u001b[39;00m ioargs\u001b[38;5;241m.\u001b[39mmode:\n\u001b[0;32m    788\u001b[0m         \u001b[38;5;66;03m# Encoding\u001b[39;00m\n\u001b[1;32m--> 789\u001b[0m         handle \u001b[38;5;241m=\u001b[39m \u001b[38;5;28;43mopen\u001b[39;49m\u001b[43m(\u001b[49m\n\u001b[0;32m    790\u001b[0m \u001b[43m            \u001b[49m\u001b[43mhandle\u001b[49m\u001b[43m,\u001b[49m\n\u001b[0;32m    791\u001b[0m \u001b[43m            \u001b[49m\u001b[43mioargs\u001b[49m\u001b[38;5;241;43m.\u001b[39;49m\u001b[43mmode\u001b[49m\u001b[43m,\u001b[49m\n\u001b[0;32m    792\u001b[0m \u001b[43m            \u001b[49m\u001b[43mencoding\u001b[49m\u001b[38;5;241;43m=\u001b[39;49m\u001b[43mioargs\u001b[49m\u001b[38;5;241;43m.\u001b[39;49m\u001b[43mencoding\u001b[49m\u001b[43m,\u001b[49m\n\u001b[0;32m    793\u001b[0m \u001b[43m            \u001b[49m\u001b[43merrors\u001b[49m\u001b[38;5;241;43m=\u001b[39;49m\u001b[43merrors\u001b[49m\u001b[43m,\u001b[49m\n\u001b[0;32m    794\u001b[0m \u001b[43m            \u001b[49m\u001b[43mnewline\u001b[49m\u001b[38;5;241;43m=\u001b[39;49m\u001b[38;5;124;43m\"\u001b[39;49m\u001b[38;5;124;43m\"\u001b[39;49m\u001b[43m,\u001b[49m\n\u001b[0;32m    795\u001b[0m \u001b[43m        \u001b[49m\u001b[43m)\u001b[49m\n\u001b[0;32m    796\u001b[0m     \u001b[38;5;28;01melse\u001b[39;00m:\n\u001b[0;32m    797\u001b[0m         \u001b[38;5;66;03m# Binary mode\u001b[39;00m\n\u001b[0;32m    798\u001b[0m         handle \u001b[38;5;241m=\u001b[39m \u001b[38;5;28mopen\u001b[39m(handle, ioargs\u001b[38;5;241m.\u001b[39mmode)\n",
      "\u001b[1;31mFileNotFoundError\u001b[0m: [Errno 2] No such file or directory: 'food.csv'"
     ]
    }
   ],
   "source": [
    "foodata = pd.read_csv(\"food.csv\")"
   ]
  },
  {
   "cell_type": "code",
   "execution_count": null,
   "id": "0df02ef8",
   "metadata": {},
   "outputs": [],
   "source": [
    "results2 = smf.ols('food_exp~income', foodata).fit()\n",
    "results2.summary()"
   ]
  },
  {
   "cell_type": "code",
   "execution_count": null,
   "id": "9bf8581d",
   "metadata": {},
   "outputs": [],
   "source": [
    "results2 = smf.ols('food_exp~income', foodata).fit()\n",
    "spread_level(results2, foodata)"
   ]
  },
  {
   "cell_type": "code",
   "execution_count": null,
   "id": "3872b186",
   "metadata": {},
   "outputs": [],
   "source": [
    "# Fit the model\n",
    "model = smf.ols('cumgpa ~ sat +hsperc +tothrs +female +black + white', data)\n",
    "results = model.fit()\n",
    "spread_level(results, data)"
   ]
  },
  {
   "cell_type": "code",
   "execution_count": null,
   "id": "65b13bb3",
   "metadata": {
    "scrolled": true
   },
   "outputs": [],
   "source": [
    "baseball = pd.read_csv('baseball.csv').dropna()\n",
    "results3 = smf.ols('sal87 ~ years + hits + runs + homeruns', baseball).fit()"
   ]
  },
  {
   "cell_type": "code",
   "execution_count": null,
   "id": "f7d1528e",
   "metadata": {},
   "outputs": [],
   "source": [
    "spread_level(results3, baseball)"
   ]
  },
  {
   "cell_type": "markdown",
   "id": "b4ee8e15",
   "metadata": {},
   "source": [
    "### Tests for Nonconstant Error Variance"
   ]
  },
  {
   "cell_type": "markdown",
   "id": "f908b4f1",
   "metadata": {},
   "source": [
    "### Bruesch-Pagan Test"
   ]
  },
  {
   "cell_type": "code",
   "execution_count": null,
   "id": "b06ca591",
   "metadata": {},
   "outputs": [],
   "source": [
    "# pull out squared residuals\n",
    "data[\"res2\"] = results.resid**2\n",
    "\n",
    "# try to predict the squared residuals using a linear combination of our variables\n",
    "aux_reg = smf.ols('res2 ~ sat +hsperc +tothrs +female +black + white', data).fit()\n",
    "\n",
    "# Get the regression f-statistic (f-test version)\n",
    "f = aux_reg.fvalue\n",
    "fp = aux_reg.f_pvalue\n",
    "\n",
    "print(\"The F-Statistic for the Auxiliary Regression is: \"+ str(f) +\" and the P-Value is: \"+ str(fp))"
   ]
  },
  {
   "cell_type": "markdown",
   "id": "214a793c",
   "metadata": {},
   "source": [
    "Therefore we reject the null hypothesis that $\\delta_1 =\\delta_2=...= \\delta_k = 0$ and conclude heteroscedasticity is present in the sample. "
   ]
  },
  {
   "cell_type": "code",
   "execution_count": null,
   "id": "ab02ec29",
   "metadata": {},
   "outputs": [],
   "source": [
    "y, X = pt.dmatrices('cumgpa ~ sat +hsperc +tothrs +female +black + white', data,\n",
    "                   return_type = 'dataframe')\n",
    "\n",
    "# Takes in the residuals and our design matrix as arguments\n",
    "# Order is Lm Test statistic, LM P-value, F-stat, F-Pvalue\n",
    "sm.stats.diagnostic.het_breuschpagan(results.resid, X)"
   ]
  },
  {
   "cell_type": "code",
   "execution_count": null,
   "id": "e19c863e",
   "metadata": {
    "scrolled": true
   },
   "outputs": [],
   "source": [
    "# LM test statsitic is just n*R2 from the aux regression\n",
    "LM = len(data)*aux_reg.rsquared\n",
    "\n",
    "k = results.df_model"
   ]
  },
  {
   "cell_type": "code",
   "execution_count": null,
   "id": "1cc03452",
   "metadata": {},
   "outputs": [],
   "source": [
    "# sf is just 1- cdf (called the survival function)\n",
    "stats.chi2(k).sf(LM)"
   ]
  },
  {
   "cell_type": "markdown",
   "id": "7deb5af5",
   "metadata": {},
   "source": [
    "### White Test"
   ]
  },
  {
   "cell_type": "markdown",
   "id": "16539e3d",
   "metadata": {},
   "source": [
    "The white test procedure is equivalent to the BP test, except that 2nd order terms and interactions are added to teh auxiliary regression. Note that this will eat up degrees of freedom for this implementation of the test. "
   ]
  },
  {
   "cell_type": "code",
   "execution_count": null,
   "id": "76399bee",
   "metadata": {},
   "outputs": [],
   "source": [
    "# Order is Lm Test statistic, LM P-value, F-stat, F-Pvalue\n",
    "sm.stats.diagnostic.het_white(results.resid, X)"
   ]
  },
  {
   "cell_type": "markdown",
   "id": "2e986df4",
   "metadata": {},
   "source": [
    "### Goldfeld-Quandt Test"
   ]
  },
  {
   "cell_type": "code",
   "execution_count": null,
   "id": "9faa8ade",
   "metadata": {},
   "outputs": [],
   "source": [
    "# I need to provide a split point to the software\n",
    "# Sprt values in ascending order and reset the index to number from 1 to len(data)\n",
    "sortedv = data.sort_values(by = \"black\").copy().reset_index()\n",
    "\n",
    "# This returns the first index that contains a one\n",
    "splt = sortedv.black.argmax()\n",
    "\n",
    "# run regression\n",
    "gq_reg = smf.ols('cumgpa ~ sat +hsperc +tothrs +female +black + white', sortedv).fit()"
   ]
  },
  {
   "cell_type": "code",
   "execution_count": null,
   "id": "743a38e4",
   "metadata": {},
   "outputs": [],
   "source": [
    "# get the data for dependent and independent variables\n",
    "# these are numpy arrays instead of dataframes\n",
    "y = gq_reg.model.endog\n",
    "X = gq_reg.model.exog\n",
    "\n",
    "# Order is f-stat, pvalue, hypothesis\n",
    "sm.stats.diagnostic.het_goldfeldquandt(y, X, idx = 5, alternative = 'increasing', split= splt)"
   ]
  },
  {
   "cell_type": "code",
   "execution_count": null,
   "id": "923629a3",
   "metadata": {},
   "outputs": [],
   "source": [
    "# get the data for dependent and independent\n",
    "y = gq_reg.model.endog\n",
    "X = gq_reg.model.exog\n",
    "\n",
    "# Order is f-stat, pvalue, hypothesis\n",
    "sm.stats.diagnostic.het_goldfeldquandt(y, X, idx = 5, alternative = 'two-sided', split= splt)"
   ]
  },
  {
   "cell_type": "code",
   "execution_count": null,
   "id": "e371125c",
   "metadata": {},
   "outputs": [],
   "source": [
    "# manual implementation\n",
    "data1 = data[data.black == 1]\n",
    "data0 = data[data.black == 0]\n",
    "\n",
    "# run regs on different groups\n",
    "reg1 = smf.ols('cumgpa ~ sat +hsperc +tothrs +female +black + white', data1).fit()\n",
    "reg0 = smf.ols('cumgpa ~ sat +hsperc +tothrs +female +black + white', data0).fit()\n",
    "\n",
    "# pull out the residuals of each regression\n",
    "df1 = reg1.df_resid\n",
    "df0 = reg0.df_resid\n",
    "\n",
    "# Get the variance of each regression\n",
    "sig1squared = reg1.scale\n",
    "sig0squared = reg0.scale\n",
    "\n",
    "fstat = sig1squared/sig0squared\n",
    "\n",
    "# calculate critical calue for right side test\n",
    "stats.f.ppf(.95, df1, df0)"
   ]
  },
  {
   "cell_type": "code",
   "execution_count": null,
   "id": "55d816ff",
   "metadata": {},
   "outputs": [],
   "source": [
    "fstat"
   ]
  },
  {
   "cell_type": "markdown",
   "id": "ce51f89c",
   "metadata": {},
   "source": [
    "$F = \\frac{\\hat{\\sigma}_1^2}{\\hat{\\sigma}_0^2}$, where $H_0: \\hat{\\sigma}_1^2 \\leq \\hat{\\sigma}_0^2$ and $H_a: \\hat{\\sigma}_1^2 > \\hat{\\sigma}_0^2$"
   ]
  },
  {
   "cell_type": "code",
   "execution_count": null,
   "id": "a0da2f25",
   "metadata": {},
   "outputs": [],
   "source": [
    "y, X = pt.dmatrices('cumgpa ~ sat +hsperc +tothrs +female +black + white', sortedv,\n",
    "                   return_type = 'dataframe')"
   ]
  },
  {
   "cell_type": "code",
   "execution_count": null,
   "id": "c477cafe",
   "metadata": {},
   "outputs": [],
   "source": [
    "X.iloc[:,5]"
   ]
  },
  {
   "cell_type": "markdown",
   "id": "dcbaaaa2",
   "metadata": {},
   "source": [
    "We fail to reject the null hypothesis"
   ]
  },
  {
   "cell_type": "markdown",
   "id": "67c2f646",
   "metadata": {},
   "source": [
    "### Robust Standard Errors"
   ]
  },
  {
   "cell_type": "code",
   "execution_count": null,
   "id": "5f347dd3",
   "metadata": {},
   "outputs": [],
   "source": [
    "robust_reg = smf.ols('cumgpa ~ sat +hsperc +tothrs +female +black + white', data).fit(cov_type = 'HC0')\n",
    "robust_reg.summary()"
   ]
  },
  {
   "cell_type": "code",
   "execution_count": null,
   "id": "7b0099de",
   "metadata": {},
   "outputs": [],
   "source": [
    "results.summary()"
   ]
  },
  {
   "cell_type": "code",
   "execution_count": null,
   "id": "088cf51b",
   "metadata": {},
   "outputs": [],
   "source": [
    "# pull out squared residuals\n",
    "data[\"res2\"] = robust_reg.resid**2\n",
    "\n",
    "# try to predict the squared residuals using a linear combination of our variables\n",
    "aux_reg = smf.ols('res2 ~ sat +hsperc +tothrs +female +black + white', data).fit()\n",
    "\n",
    "# Get the regression f-statistic (f-test version)\n",
    "f = aux_reg.fvalue\n",
    "fp = aux_reg.f_pvalue\n",
    "\n",
    "print(\"The F-Statistic for the Auxiliary Regression is: \"+ str(f) +\" and the P-Value is: \"+ str(fp))"
   ]
  },
  {
   "cell_type": "markdown",
   "id": "432b22e2",
   "metadata": {},
   "source": [
    "### Weighted Least Squares"
   ]
  },
  {
   "cell_type": "markdown",
   "id": "6a74d82d",
   "metadata": {},
   "source": [
    "Right now we have a regression model where the errors are asumed to be heteroscedastic:"
   ]
  },
  {
   "cell_type": "markdown",
   "id": "a3a66fdd",
   "metadata": {},
   "source": [
    "$$cumgpa_i = \\beta_0+ \\beta_1 sat +\\beta_2 hsperc +\\beta_3 tothrs +\\beta_4 female +\\beta_5 lack + \\beta_6 white + e_i$$, $$var(e_i) = \\sigma^2_i$$"
   ]
  },
  {
   "cell_type": "markdown",
   "id": "57abbebb",
   "metadata": {},
   "source": [
    "We would like to know the variance for each pbservation/quantile. This isn't possible so instead we can make an assumption about how the variance of our errors depends on one or several of the regressors. Making this assumption gives us the generalized least square (GLS) estimator. This involves a linear relationship between variance and regressor $x_i$. An example of such a relationship would be:\n",
    "$$var(e_i)=\\sigma^2_i = \\sigma^2x_i$$"
   ]
  },
  {
   "cell_type": "markdown",
   "id": "167cbf82",
   "metadata": {},
   "source": [
    "where the varaince for observation i is a function of some consatnt and the current value of x (so variance would tend to increase as x increases). Then if we can correctly guess the structure of the error term, we, for example, divide our model by $\\sqrt(x_i)$ to yieldf a BLUE estimator"
   ]
  },
  {
   "cell_type": "code",
   "execution_count": null,
   "id": "5ec6e982",
   "metadata": {},
   "outputs": [],
   "source": [
    "# maybe I believe the heteroscedastic relationship is due to sat\n",
    "w = 1/data.sat\n",
    "\n",
    "# run a weighted regression and provide weights\n",
    "# note we can use WLS and robust standrad errors\n",
    "wls_known = smf.wls('cumgpa ~ sat +hsperc +tothrs +female +black + white', weights = w, data = data).fit()\n",
    "wls_known.summary()"
   ]
  },
  {
   "cell_type": "markdown",
   "id": "961247cc",
   "metadata": {},
   "source": [
    "### Feasible GLS"
   ]
  },
  {
   "cell_type": "markdown",
   "id": "ca56f700",
   "metadata": {},
   "source": [
    "Often times we have no diea what the appropriate weights for a model might be. FGLS is a proceudre for estimatinng the proper weights to be included in wls. Here we assume that the variance of the error terms is a function of some variables. "
   ]
  },
  {
   "cell_type": "code",
   "execution_count": null,
   "id": "dba077ae",
   "metadata": {
    "scrolled": false
   },
   "outputs": [],
   "source": [
    "results2.summary()"
   ]
  },
  {
   "cell_type": "code",
   "execution_count": null,
   "id": "ff27956b",
   "metadata": {},
   "outputs": [],
   "source": [
    "foodata[\"ehatsq\"] = results2.resid**2\n",
    "\n",
    "# estimate weights\n",
    "w_est = smf.ols('np.log(ehatsq) ~ income', data = foodata).fit()\n",
    "\n",
    "vari = np.exp(w_est.fittedvalues) #estimated variances\n",
    "w = 1/vari**2\n",
    "\n",
    "fgls =smf.wls('food_exp ~ income', foodata, weights = w).fit()\n",
    "\n",
    "fgls.summary()"
   ]
  },
  {
   "cell_type": "markdown",
   "id": "245899a3",
   "metadata": {},
   "source": [
    "## Missing Observations"
   ]
  },
  {
   "cell_type": "code",
   "execution_count": null,
   "id": "2ff72128",
   "metadata": {},
   "outputs": [],
   "source": [
    "housing = pd.read_csv('bh.csv')\n",
    "housing.isna().sum()"
   ]
  },
  {
   "cell_type": "markdown",
   "id": "792edef7",
   "metadata": {},
   "source": [
    "### Removal (Variable or Observation)"
   ]
  },
  {
   "cell_type": "code",
   "execution_count": null,
   "id": "b82982bf",
   "metadata": {},
   "outputs": [],
   "source": [
    "housing.shape"
   ]
  },
  {
   "cell_type": "code",
   "execution_count": null,
   "id": "2a6e3a0b",
   "metadata": {},
   "outputs": [],
   "source": [
    "# Generate some random indices to craete NAs\n",
    "NA_indices1 = np.random.choice(range(0,len(housing)), 100, replace = False)\n",
    "NA_indices2 = np.random.choice(range(0,len(housing)), 100, replace = False)\n",
    "# Add NAS to a few columns\n",
    "housing.loc[NA_indices1,\"crim\"] = np.NaN\n",
    "# Add NAS to a few columns\n",
    "housing.loc[NA_indices2,\"tax\"] = np.NaN"
   ]
  },
  {
   "cell_type": "code",
   "execution_count": null,
   "id": "1f70ddeb",
   "metadata": {},
   "outputs": [],
   "source": [
    "housing.isna().sum()"
   ]
  },
  {
   "cell_type": "markdown",
   "id": "d61cc479",
   "metadata": {},
   "source": [
    "### Mean, Median, or Mode Imputation"
   ]
  },
  {
   "cell_type": "code",
   "execution_count": null,
   "id": "cf80fb27",
   "metadata": {},
   "outputs": [],
   "source": [
    "stat_copy = housing.copy()\n",
    "\n",
    "# just fill in with your favored statistic\n",
    "stat_copy[\"crim\"] = housing.crim.fillna(housing.crim.median())\n",
    "housing.crim.median()"
   ]
  },
  {
   "cell_type": "code",
   "execution_count": null,
   "id": "d97e73d3",
   "metadata": {},
   "outputs": [],
   "source": [
    "stat_copy.isna().sum()"
   ]
  },
  {
   "cell_type": "code",
   "execution_count": null,
   "id": "cdd5f715",
   "metadata": {},
   "outputs": [],
   "source": [
    "stat_copy.head(10)"
   ]
  },
  {
   "cell_type": "markdown",
   "id": "eaf1b3f0",
   "metadata": {},
   "source": [
    "### Prediction"
   ]
  },
  {
   "cell_type": "markdown",
   "id": "9c3aa353",
   "metadata": {},
   "source": [
    "#### KNN"
   ]
  },
  {
   "cell_type": "markdown",
   "id": "fc87c1e2",
   "metadata": {},
   "source": [
    "https://scikit-learn.org/stable/modules/generated/sklearn.impute.KNNImputer.html"
   ]
  },
  {
   "cell_type": "code",
   "execution_count": null,
   "id": "6692d886",
   "metadata": {},
   "outputs": [],
   "source": [
    "from sklearn.impute import KNNImputer\n",
    "\n",
    "# knn imputer uses 5 as a default\n",
    "imputer = KNNImputer(n_neighbors=5)\n",
    "\n",
    "knn_df = pd.DataFrame(imputer.fit_transform(housing), columns = housing.columns)\n",
    "knn_df.head(10)"
   ]
  },
  {
   "cell_type": "code",
   "execution_count": null,
   "id": "bd2101fc",
   "metadata": {},
   "outputs": [],
   "source": [
    "knn_df.isna().sum()"
   ]
  },
  {
   "cell_type": "code",
   "execution_count": null,
   "id": "b02d07d5",
   "metadata": {},
   "outputs": [],
   "source": []
  },
  {
   "cell_type": "markdown",
   "id": "8fc47f2f",
   "metadata": {},
   "source": [
    "#### Recursive Partitioning"
   ]
  },
  {
   "cell_type": "code",
   "execution_count": 19,
   "id": "b31c2c2b",
   "metadata": {},
   "outputs": [
    {
     "data": {
      "text/html": [
       "<div>\n",
       "<style scoped>\n",
       "    .dataframe tbody tr th:only-of-type {\n",
       "        vertical-align: middle;\n",
       "    }\n",
       "\n",
       "    .dataframe tbody tr th {\n",
       "        vertical-align: top;\n",
       "    }\n",
       "\n",
       "    .dataframe thead th {\n",
       "        text-align: right;\n",
       "    }\n",
       "</style>\n",
       "<table border=\"1\" class=\"dataframe\">\n",
       "  <thead>\n",
       "    <tr style=\"text-align: right;\">\n",
       "      <th></th>\n",
       "      <th>price</th>\n",
       "      <th>assess</th>\n",
       "      <th>bdrms</th>\n",
       "      <th>lotsize</th>\n",
       "      <th>sqrft</th>\n",
       "      <th>colonial</th>\n",
       "      <th>lprice</th>\n",
       "      <th>lassess</th>\n",
       "      <th>llotsize</th>\n",
       "      <th>lsqrft</th>\n",
       "    </tr>\n",
       "  </thead>\n",
       "  <tbody>\n",
       "    <tr>\n",
       "      <th>0</th>\n",
       "      <td>300.0</td>\n",
       "      <td>349.100006</td>\n",
       "      <td>4</td>\n",
       "      <td>6126.0</td>\n",
       "      <td>2438</td>\n",
       "      <td>1</td>\n",
       "      <td>5.703783</td>\n",
       "      <td>5.855359</td>\n",
       "      <td>8.720297</td>\n",
       "      <td>7.798934</td>\n",
       "    </tr>\n",
       "    <tr>\n",
       "      <th>1</th>\n",
       "      <td>370.0</td>\n",
       "      <td>351.500000</td>\n",
       "      <td>3</td>\n",
       "      <td>9903.0</td>\n",
       "      <td>2076</td>\n",
       "      <td>1</td>\n",
       "      <td>5.913503</td>\n",
       "      <td>5.862210</td>\n",
       "      <td>9.200593</td>\n",
       "      <td>7.638198</td>\n",
       "    </tr>\n",
       "    <tr>\n",
       "      <th>2</th>\n",
       "      <td>191.0</td>\n",
       "      <td>217.699997</td>\n",
       "      <td>3</td>\n",
       "      <td>5200.0</td>\n",
       "      <td>1374</td>\n",
       "      <td>0</td>\n",
       "      <td>5.252274</td>\n",
       "      <td>5.383118</td>\n",
       "      <td>8.556414</td>\n",
       "      <td>7.225482</td>\n",
       "    </tr>\n",
       "    <tr>\n",
       "      <th>3</th>\n",
       "      <td>195.0</td>\n",
       "      <td>231.800003</td>\n",
       "      <td>3</td>\n",
       "      <td>4600.0</td>\n",
       "      <td>1448</td>\n",
       "      <td>1</td>\n",
       "      <td>5.273000</td>\n",
       "      <td>5.445875</td>\n",
       "      <td>8.433811</td>\n",
       "      <td>7.277938</td>\n",
       "    </tr>\n",
       "    <tr>\n",
       "      <th>4</th>\n",
       "      <td>373.0</td>\n",
       "      <td>319.100006</td>\n",
       "      <td>4</td>\n",
       "      <td>6095.0</td>\n",
       "      <td>2514</td>\n",
       "      <td>1</td>\n",
       "      <td>5.921578</td>\n",
       "      <td>5.765504</td>\n",
       "      <td>8.715224</td>\n",
       "      <td>7.829630</td>\n",
       "    </tr>\n",
       "    <tr>\n",
       "      <th>...</th>\n",
       "      <td>...</td>\n",
       "      <td>...</td>\n",
       "      <td>...</td>\n",
       "      <td>...</td>\n",
       "      <td>...</td>\n",
       "      <td>...</td>\n",
       "      <td>...</td>\n",
       "      <td>...</td>\n",
       "      <td>...</td>\n",
       "      <td>...</td>\n",
       "    </tr>\n",
       "    <tr>\n",
       "      <th>83</th>\n",
       "      <td>295.0</td>\n",
       "      <td>318.299988</td>\n",
       "      <td>3</td>\n",
       "      <td>6056.0</td>\n",
       "      <td>1837</td>\n",
       "      <td>1</td>\n",
       "      <td>5.686975</td>\n",
       "      <td>5.762994</td>\n",
       "      <td>8.708805</td>\n",
       "      <td>7.515889</td>\n",
       "    </tr>\n",
       "    <tr>\n",
       "      <th>84</th>\n",
       "      <td>236.0</td>\n",
       "      <td>259.399994</td>\n",
       "      <td>3</td>\n",
       "      <td>5828.0</td>\n",
       "      <td>1715</td>\n",
       "      <td>0</td>\n",
       "      <td>5.463832</td>\n",
       "      <td>5.558371</td>\n",
       "      <td>8.670429</td>\n",
       "      <td>7.447168</td>\n",
       "    </tr>\n",
       "    <tr>\n",
       "      <th>85</th>\n",
       "      <td>202.5</td>\n",
       "      <td>258.100006</td>\n",
       "      <td>3</td>\n",
       "      <td>6341.0</td>\n",
       "      <td>1574</td>\n",
       "      <td>0</td>\n",
       "      <td>5.310740</td>\n",
       "      <td>5.553347</td>\n",
       "      <td>8.754792</td>\n",
       "      <td>7.361375</td>\n",
       "    </tr>\n",
       "    <tr>\n",
       "      <th>86</th>\n",
       "      <td>219.0</td>\n",
       "      <td>232.000000</td>\n",
       "      <td>2</td>\n",
       "      <td>6362.0</td>\n",
       "      <td>1185</td>\n",
       "      <td>0</td>\n",
       "      <td>5.389072</td>\n",
       "      <td>5.446737</td>\n",
       "      <td>8.758098</td>\n",
       "      <td>7.077498</td>\n",
       "    </tr>\n",
       "    <tr>\n",
       "      <th>87</th>\n",
       "      <td>242.0</td>\n",
       "      <td>252.000000</td>\n",
       "      <td>4</td>\n",
       "      <td>4950.0</td>\n",
       "      <td>1774</td>\n",
       "      <td>1</td>\n",
       "      <td>5.488938</td>\n",
       "      <td>5.529429</td>\n",
       "      <td>8.507143</td>\n",
       "      <td>7.480992</td>\n",
       "    </tr>\n",
       "  </tbody>\n",
       "</table>\n",
       "<p>88 rows × 10 columns</p>\n",
       "</div>"
      ],
      "text/plain": [
       "    price      assess  bdrms  lotsize  sqrft  colonial    lprice   lassess  \\\n",
       "0   300.0  349.100006      4   6126.0   2438         1  5.703783  5.855359   \n",
       "1   370.0  351.500000      3   9903.0   2076         1  5.913503  5.862210   \n",
       "2   191.0  217.699997      3   5200.0   1374         0  5.252274  5.383118   \n",
       "3   195.0  231.800003      3   4600.0   1448         1  5.273000  5.445875   \n",
       "4   373.0  319.100006      4   6095.0   2514         1  5.921578  5.765504   \n",
       "..    ...         ...    ...      ...    ...       ...       ...       ...   \n",
       "83  295.0  318.299988      3   6056.0   1837         1  5.686975  5.762994   \n",
       "84  236.0  259.399994      3   5828.0   1715         0  5.463832  5.558371   \n",
       "85  202.5  258.100006      3   6341.0   1574         0  5.310740  5.553347   \n",
       "86  219.0  232.000000      2   6362.0   1185         0  5.389072  5.446737   \n",
       "87  242.0  252.000000      4   4950.0   1774         1  5.488938  5.529429   \n",
       "\n",
       "    llotsize    lsqrft  \n",
       "0   8.720297  7.798934  \n",
       "1   9.200593  7.638198  \n",
       "2   8.556414  7.225482  \n",
       "3   8.433811  7.277938  \n",
       "4   8.715224  7.829630  \n",
       "..       ...       ...  \n",
       "83  8.708805  7.515889  \n",
       "84  8.670429  7.447168  \n",
       "85  8.754792  7.361375  \n",
       "86  8.758098  7.077498  \n",
       "87  8.507143  7.480992  \n",
       "\n",
       "[88 rows x 10 columns]"
      ]
     },
     "execution_count": 19,
     "metadata": {},
     "output_type": "execute_result"
    }
   ],
   "source": [
    "data2 = woo.data(\"hprice1\")\n",
    "data2"
   ]
  },
  {
   "cell_type": "code",
   "execution_count": 21,
   "id": "2f7cc9d0",
   "metadata": {},
   "outputs": [],
   "source": [
    "model = smf.ols('price ~ lotsize + sqrft + bdrms ', data2)\n",
    "results2 = model.fit()"
   ]
  },
  {
   "cell_type": "code",
   "execution_count": 22,
   "id": "d6815a4d",
   "metadata": {},
   "outputs": [
    {
     "data": {
      "text/html": [
       "<table class=\"simpletable\">\n",
       "<caption>OLS Regression Results</caption>\n",
       "<tr>\n",
       "  <th>Dep. Variable:</th>          <td>price</td>      <th>  R-squared:         </th> <td>   0.672</td>\n",
       "</tr>\n",
       "<tr>\n",
       "  <th>Model:</th>                   <td>OLS</td>       <th>  Adj. R-squared:    </th> <td>   0.661</td>\n",
       "</tr>\n",
       "<tr>\n",
       "  <th>Method:</th>             <td>Least Squares</td>  <th>  F-statistic:       </th> <td>   57.46</td>\n",
       "</tr>\n",
       "<tr>\n",
       "  <th>Date:</th>             <td>Fri, 04 Nov 2022</td> <th>  Prob (F-statistic):</th> <td>2.70e-20</td>\n",
       "</tr>\n",
       "<tr>\n",
       "  <th>Time:</th>                 <td>16:05:22</td>     <th>  Log-Likelihood:    </th> <td> -482.88</td>\n",
       "</tr>\n",
       "<tr>\n",
       "  <th>No. Observations:</th>      <td>    88</td>      <th>  AIC:               </th> <td>   973.8</td>\n",
       "</tr>\n",
       "<tr>\n",
       "  <th>Df Residuals:</th>          <td>    84</td>      <th>  BIC:               </th> <td>   983.7</td>\n",
       "</tr>\n",
       "<tr>\n",
       "  <th>Df Model:</th>              <td>     3</td>      <th>                     </th>     <td> </td>   \n",
       "</tr>\n",
       "<tr>\n",
       "  <th>Covariance Type:</th>      <td>nonrobust</td>    <th>                     </th>     <td> </td>   \n",
       "</tr>\n",
       "</table>\n",
       "<table class=\"simpletable\">\n",
       "<tr>\n",
       "      <td></td>         <th>coef</th>     <th>std err</th>      <th>t</th>      <th>P>|t|</th>  <th>[0.025</th>    <th>0.975]</th>  \n",
       "</tr>\n",
       "<tr>\n",
       "  <th>Intercept</th> <td>  -21.7703</td> <td>   29.475</td> <td>   -0.739</td> <td> 0.462</td> <td>  -80.385</td> <td>   36.844</td>\n",
       "</tr>\n",
       "<tr>\n",
       "  <th>lotsize</th>   <td>    0.0021</td> <td>    0.001</td> <td>    3.220</td> <td> 0.002</td> <td>    0.001</td> <td>    0.003</td>\n",
       "</tr>\n",
       "<tr>\n",
       "  <th>sqrft</th>     <td>    0.1228</td> <td>    0.013</td> <td>    9.275</td> <td> 0.000</td> <td>    0.096</td> <td>    0.149</td>\n",
       "</tr>\n",
       "<tr>\n",
       "  <th>bdrms</th>     <td>   13.8525</td> <td>    9.010</td> <td>    1.537</td> <td> 0.128</td> <td>   -4.065</td> <td>   31.770</td>\n",
       "</tr>\n",
       "</table>\n",
       "<table class=\"simpletable\">\n",
       "<tr>\n",
       "  <th>Omnibus:</th>       <td>20.398</td> <th>  Durbin-Watson:     </th> <td>   2.110</td>\n",
       "</tr>\n",
       "<tr>\n",
       "  <th>Prob(Omnibus):</th> <td> 0.000</td> <th>  Jarque-Bera (JB):  </th> <td>  32.278</td>\n",
       "</tr>\n",
       "<tr>\n",
       "  <th>Skew:</th>          <td> 0.961</td> <th>  Prob(JB):          </th> <td>9.79e-08</td>\n",
       "</tr>\n",
       "<tr>\n",
       "  <th>Kurtosis:</th>      <td> 5.261</td> <th>  Cond. No.          </th> <td>6.41e+04</td>\n",
       "</tr>\n",
       "</table><br/><br/>Notes:<br/>[1] Standard Errors assume that the covariance matrix of the errors is correctly specified.<br/>[2] The condition number is large, 6.41e+04. This might indicate that there are<br/>strong multicollinearity or other numerical problems."
      ],
      "text/plain": [
       "<class 'statsmodels.iolib.summary.Summary'>\n",
       "\"\"\"\n",
       "                            OLS Regression Results                            \n",
       "==============================================================================\n",
       "Dep. Variable:                  price   R-squared:                       0.672\n",
       "Model:                            OLS   Adj. R-squared:                  0.661\n",
       "Method:                 Least Squares   F-statistic:                     57.46\n",
       "Date:                Fri, 04 Nov 2022   Prob (F-statistic):           2.70e-20\n",
       "Time:                        16:05:22   Log-Likelihood:                -482.88\n",
       "No. Observations:                  88   AIC:                             973.8\n",
       "Df Residuals:                      84   BIC:                             983.7\n",
       "Df Model:                           3                                         \n",
       "Covariance Type:            nonrobust                                         \n",
       "==============================================================================\n",
       "                 coef    std err          t      P>|t|      [0.025      0.975]\n",
       "------------------------------------------------------------------------------\n",
       "Intercept    -21.7703     29.475     -0.739      0.462     -80.385      36.844\n",
       "lotsize        0.0021      0.001      3.220      0.002       0.001       0.003\n",
       "sqrft          0.1228      0.013      9.275      0.000       0.096       0.149\n",
       "bdrms         13.8525      9.010      1.537      0.128      -4.065      31.770\n",
       "==============================================================================\n",
       "Omnibus:                       20.398   Durbin-Watson:                   2.110\n",
       "Prob(Omnibus):                  0.000   Jarque-Bera (JB):               32.278\n",
       "Skew:                           0.961   Prob(JB):                     9.79e-08\n",
       "Kurtosis:                       5.261   Cond. No.                     6.41e+04\n",
       "==============================================================================\n",
       "\n",
       "Notes:\n",
       "[1] Standard Errors assume that the covariance matrix of the errors is correctly specified.\n",
       "[2] The condition number is large, 6.41e+04. This might indicate that there are\n",
       "strong multicollinearity or other numerical problems.\n",
       "\"\"\""
      ]
     },
     "execution_count": 22,
     "metadata": {},
     "output_type": "execute_result"
    }
   ],
   "source": [
    "results2.summary()"
   ]
  },
  {
   "cell_type": "code",
   "execution_count": 24,
   "id": "e1996bd2",
   "metadata": {},
   "outputs": [
    {
     "data": {
      "text/html": [
       "<table class=\"simpletable\">\n",
       "<caption>OLS Regression Results</caption>\n",
       "<tr>\n",
       "  <th>Dep. Variable:</th>          <td>price</td>      <th>  R-squared:         </th> <td>   0.672</td>\n",
       "</tr>\n",
       "<tr>\n",
       "  <th>Model:</th>                   <td>OLS</td>       <th>  Adj. R-squared:    </th> <td>   0.661</td>\n",
       "</tr>\n",
       "<tr>\n",
       "  <th>Method:</th>             <td>Least Squares</td>  <th>  F-statistic:       </th> <td>   24.85</td>\n",
       "</tr>\n",
       "<tr>\n",
       "  <th>Date:</th>             <td>Fri, 04 Nov 2022</td> <th>  Prob (F-statistic):</th> <td>1.33e-11</td>\n",
       "</tr>\n",
       "<tr>\n",
       "  <th>Time:</th>                 <td>16:28:04</td>     <th>  Log-Likelihood:    </th> <td> -482.88</td>\n",
       "</tr>\n",
       "<tr>\n",
       "  <th>No. Observations:</th>      <td>    88</td>      <th>  AIC:               </th> <td>   973.8</td>\n",
       "</tr>\n",
       "<tr>\n",
       "  <th>Df Residuals:</th>          <td>    84</td>      <th>  BIC:               </th> <td>   983.7</td>\n",
       "</tr>\n",
       "<tr>\n",
       "  <th>Df Model:</th>              <td>     3</td>      <th>                     </th>     <td> </td>   \n",
       "</tr>\n",
       "<tr>\n",
       "  <th>Covariance Type:</th>         <td>HC0</td>       <th>                     </th>     <td> </td>   \n",
       "</tr>\n",
       "</table>\n",
       "<table class=\"simpletable\">\n",
       "<tr>\n",
       "      <td></td>         <th>coef</th>     <th>std err</th>      <th>z</th>      <th>P>|z|</th>  <th>[0.025</th>    <th>0.975]</th>  \n",
       "</tr>\n",
       "<tr>\n",
       "  <th>Intercept</th> <td>  -21.7703</td> <td>   36.284</td> <td>   -0.600</td> <td> 0.549</td> <td>  -92.886</td> <td>   49.346</td>\n",
       "</tr>\n",
       "<tr>\n",
       "  <th>lotsize</th>   <td>    0.0021</td> <td>    0.001</td> <td>    1.691</td> <td> 0.091</td> <td>   -0.000</td> <td>    0.004</td>\n",
       "</tr>\n",
       "<tr>\n",
       "  <th>sqrft</th>     <td>    0.1228</td> <td>    0.017</td> <td>    7.090</td> <td> 0.000</td> <td>    0.089</td> <td>    0.157</td>\n",
       "</tr>\n",
       "<tr>\n",
       "  <th>bdrms</th>     <td>   13.8525</td> <td>    8.284</td> <td>    1.672</td> <td> 0.094</td> <td>   -2.383</td> <td>   30.088</td>\n",
       "</tr>\n",
       "</table>\n",
       "<table class=\"simpletable\">\n",
       "<tr>\n",
       "  <th>Omnibus:</th>       <td>20.398</td> <th>  Durbin-Watson:     </th> <td>   2.110</td>\n",
       "</tr>\n",
       "<tr>\n",
       "  <th>Prob(Omnibus):</th> <td> 0.000</td> <th>  Jarque-Bera (JB):  </th> <td>  32.278</td>\n",
       "</tr>\n",
       "<tr>\n",
       "  <th>Skew:</th>          <td> 0.961</td> <th>  Prob(JB):          </th> <td>9.79e-08</td>\n",
       "</tr>\n",
       "<tr>\n",
       "  <th>Kurtosis:</th>      <td> 5.261</td> <th>  Cond. No.          </th> <td>6.41e+04</td>\n",
       "</tr>\n",
       "</table><br/><br/>Notes:<br/>[1] Standard Errors are heteroscedasticity robust (HC0)<br/>[2] The condition number is large, 6.41e+04. This might indicate that there are<br/>strong multicollinearity or other numerical problems."
      ],
      "text/plain": [
       "<class 'statsmodels.iolib.summary.Summary'>\n",
       "\"\"\"\n",
       "                            OLS Regression Results                            \n",
       "==============================================================================\n",
       "Dep. Variable:                  price   R-squared:                       0.672\n",
       "Model:                            OLS   Adj. R-squared:                  0.661\n",
       "Method:                 Least Squares   F-statistic:                     24.85\n",
       "Date:                Fri, 04 Nov 2022   Prob (F-statistic):           1.33e-11\n",
       "Time:                        16:28:04   Log-Likelihood:                -482.88\n",
       "No. Observations:                  88   AIC:                             973.8\n",
       "Df Residuals:                      84   BIC:                             983.7\n",
       "Df Model:                           3                                         \n",
       "Covariance Type:                  HC0                                         \n",
       "==============================================================================\n",
       "                 coef    std err          z      P>|z|      [0.025      0.975]\n",
       "------------------------------------------------------------------------------\n",
       "Intercept    -21.7703     36.284     -0.600      0.549     -92.886      49.346\n",
       "lotsize        0.0021      0.001      1.691      0.091      -0.000       0.004\n",
       "sqrft          0.1228      0.017      7.090      0.000       0.089       0.157\n",
       "bdrms         13.8525      8.284      1.672      0.094      -2.383      30.088\n",
       "==============================================================================\n",
       "Omnibus:                       20.398   Durbin-Watson:                   2.110\n",
       "Prob(Omnibus):                  0.000   Jarque-Bera (JB):               32.278\n",
       "Skew:                           0.961   Prob(JB):                     9.79e-08\n",
       "Kurtosis:                       5.261   Cond. No.                     6.41e+04\n",
       "==============================================================================\n",
       "\n",
       "Notes:\n",
       "[1] Standard Errors are heteroscedasticity robust (HC0)\n",
       "[2] The condition number is large, 6.41e+04. This might indicate that there are\n",
       "strong multicollinearity or other numerical problems.\n",
       "\"\"\""
      ]
     },
     "execution_count": 24,
     "metadata": {},
     "output_type": "execute_result"
    }
   ],
   "source": [
    "robust_reg = smf.ols('price ~ lotsize + sqrft + bdrms ', data2).fit(cov_type = 'HC0')\n",
    "robust_reg.summary()"
   ]
  },
  {
   "cell_type": "code",
   "execution_count": 27,
   "id": "d06dad00",
   "metadata": {},
   "outputs": [
    {
     "name": "stdout",
     "output_type": "stream",
     "text": [
      "The F-Statistic for the Auxiliary Regression is: 57.46023202598372 and the P-Value is: 2.695972654702694e-20\n"
     ]
    }
   ],
   "source": [
    "# pull out squared residuals\n",
    "data[\"res2\"] = results.resid**2\n",
    "\n",
    "# try to predict the squared residuals using a linear combination of our variables\n",
    "aux_reg = smf.ols('price ~ lotsize + sqrft + bdrms ', data2).fit()\n",
    "\n",
    "# Get the regression f-statistic (f-test version)\n",
    "f = aux_reg.fvalue\n",
    "fp = aux_reg.f_pvalue\n",
    "\n",
    "print(\"The F-Statistic for the Auxiliary Regression is: \"+ str(f) +\" and the P-Value is: \"+ str(fp))"
   ]
  },
  {
   "cell_type": "code",
   "execution_count": 28,
   "id": "dd969d21",
   "metadata": {},
   "outputs": [
    {
     "name": "stderr",
     "output_type": "stream",
     "text": [
      "C:\\Users\\HP Pavilion 13\\anaconda3\\lib\\site-packages\\statsmodels\\regression\\linear_model.py:776: RuntimeWarning: divide by zero encountered in log\n",
      "  llf += 0.5 * np.sum(np.log(self.weights))\n"
     ]
    },
    {
     "data": {
      "text/html": [
       "<table class=\"simpletable\">\n",
       "<caption>WLS Regression Results</caption>\n",
       "<tr>\n",
       "  <th>Dep. Variable:</th>          <td>price</td>      <th>  R-squared:         </th> <td>   1.000</td> \n",
       "</tr>\n",
       "<tr>\n",
       "  <th>Model:</th>                   <td>WLS</td>       <th>  Adj. R-squared:    </th> <td>   1.000</td> \n",
       "</tr>\n",
       "<tr>\n",
       "  <th>Method:</th>             <td>Least Squares</td>  <th>  F-statistic:       </th> <td>5.295e+20</td>\n",
       "</tr>\n",
       "<tr>\n",
       "  <th>Date:</th>             <td>Fri, 04 Nov 2022</td> <th>  Prob (F-statistic):</th>  <td>  0.00</td>  \n",
       "</tr>\n",
       "<tr>\n",
       "  <th>Time:</th>                 <td>16:31:27</td>     <th>  Log-Likelihood:    </th> <td>    -inf</td> \n",
       "</tr>\n",
       "<tr>\n",
       "  <th>No. Observations:</th>      <td>    88</td>      <th>  AIC:               </th> <td>     inf</td> \n",
       "</tr>\n",
       "<tr>\n",
       "  <th>Df Residuals:</th>          <td>    86</td>      <th>  BIC:               </th> <td>     inf</td> \n",
       "</tr>\n",
       "<tr>\n",
       "  <th>Df Model:</th>              <td>     1</td>      <th>                     </th>     <td> </td>    \n",
       "</tr>\n",
       "<tr>\n",
       "  <th>Covariance Type:</th>      <td>nonrobust</td>    <th>                     </th>     <td> </td>    \n",
       "</tr>\n",
       "</table>\n",
       "<table class=\"simpletable\">\n",
       "<tr>\n",
       "      <td></td>         <th>coef</th>     <th>std err</th>      <th>t</th>      <th>P>|t|</th>  <th>[0.025</th>    <th>0.975]</th>  \n",
       "</tr>\n",
       "<tr>\n",
       "  <th>Intercept</th> <td>    0.0002</td> <td> 2.38e-15</td> <td>  9.9e+10</td> <td> 0.000</td> <td>    0.000</td> <td>    0.000</td>\n",
       "</tr>\n",
       "<tr>\n",
       "  <th>lotsize</th>   <td>   -0.0138</td> <td> 4.87e-13</td> <td>-2.84e+10</td> <td> 0.000</td> <td>   -0.014</td> <td>   -0.014</td>\n",
       "</tr>\n",
       "<tr>\n",
       "  <th>sqrft</th>     <td>    0.2591</td> <td> 2.61e-12</td> <td> 9.91e+10</td> <td> 0.000</td> <td>    0.259</td> <td>    0.259</td>\n",
       "</tr>\n",
       "<tr>\n",
       "  <th>bdrms</th>     <td>    0.0019</td> <td> 1.95e-14</td> <td> 9.73e+10</td> <td> 0.000</td> <td>    0.002</td> <td>    0.002</td>\n",
       "</tr>\n",
       "</table>\n",
       "<table class=\"simpletable\">\n",
       "<tr>\n",
       "  <th>Omnibus:</th>       <td>   nan</td> <th>  Durbin-Watson:     </th> <td>   2.000</td>\n",
       "</tr>\n",
       "<tr>\n",
       "  <th>Prob(Omnibus):</th> <td>   nan</td> <th>  Jarque-Bera (JB):  </th> <td>     nan</td>\n",
       "</tr>\n",
       "<tr>\n",
       "  <th>Skew:</th>          <td>-7.466</td> <th>  Prob(JB):          </th> <td>     nan</td>\n",
       "</tr>\n",
       "<tr>\n",
       "  <th>Kurtosis:</th>      <td>   nan</td> <th>  Cond. No.          </th> <td>2.08e+19</td>\n",
       "</tr>\n",
       "</table><br/><br/>Notes:<br/>[1] Standard Errors assume that the covariance matrix of the errors is correctly specified.<br/>[2] The smallest eigenvalue is 1.08e-174. This might indicate that there are<br/>strong multicollinearity problems or that the design matrix is singular."
      ],
      "text/plain": [
       "<class 'statsmodels.iolib.summary.Summary'>\n",
       "\"\"\"\n",
       "                            WLS Regression Results                            \n",
       "==============================================================================\n",
       "Dep. Variable:                  price   R-squared:                       1.000\n",
       "Model:                            WLS   Adj. R-squared:                  1.000\n",
       "Method:                 Least Squares   F-statistic:                 5.295e+20\n",
       "Date:                Fri, 04 Nov 2022   Prob (F-statistic):               0.00\n",
       "Time:                        16:31:27   Log-Likelihood:                   -inf\n",
       "No. Observations:                  88   AIC:                               inf\n",
       "Df Residuals:                      86   BIC:                               inf\n",
       "Df Model:                           1                                         \n",
       "Covariance Type:            nonrobust                                         \n",
       "==============================================================================\n",
       "                 coef    std err          t      P>|t|      [0.025      0.975]\n",
       "------------------------------------------------------------------------------\n",
       "Intercept      0.0002   2.38e-15    9.9e+10      0.000       0.000       0.000\n",
       "lotsize       -0.0138   4.87e-13  -2.84e+10      0.000      -0.014      -0.014\n",
       "sqrft          0.2591   2.61e-12   9.91e+10      0.000       0.259       0.259\n",
       "bdrms          0.0019   1.95e-14   9.73e+10      0.000       0.002       0.002\n",
       "==============================================================================\n",
       "Omnibus:                          nan   Durbin-Watson:                   2.000\n",
       "Prob(Omnibus):                    nan   Jarque-Bera (JB):                  nan\n",
       "Skew:                          -7.466   Prob(JB):                          nan\n",
       "Kurtosis:                         nan   Cond. No.                     2.08e+19\n",
       "==============================================================================\n",
       "\n",
       "Notes:\n",
       "[1] Standard Errors assume that the covariance matrix of the errors is correctly specified.\n",
       "[2] The smallest eigenvalue is 1.08e-174. This might indicate that there are\n",
       "strong multicollinearity problems or that the design matrix is singular.\n",
       "\"\"\""
      ]
     },
     "execution_count": 28,
     "metadata": {},
     "output_type": "execute_result"
    }
   ],
   "source": [
    "data[\"res2\"] = results.resid**2\n",
    "\n",
    "# estimate weights\n",
    "w_est = smf.ols('price ~ lotsize + sqrft + bdrms ', data2 ).fit()\n",
    "\n",
    "vari = np.exp(w_est.fittedvalues) #estimated variances\n",
    "w = 1/vari**2\n",
    "\n",
    "fgls =smf.wls('price ~ lotsize + sqrft + bdrms ', data2, weights = w).fit()\n",
    "\n",
    "fgls.summary()"
   ]
  },
  {
   "cell_type": "code",
   "execution_count": null,
   "id": "761dd01f",
   "metadata": {},
   "outputs": [],
   "source": []
  }
 ],
 "metadata": {
  "kernelspec": {
   "display_name": "Python 3 (ipykernel)",
   "language": "python",
   "name": "python3"
  },
  "language_info": {
   "codemirror_mode": {
    "name": "ipython",
    "version": 3
   },
   "file_extension": ".py",
   "mimetype": "text/x-python",
   "name": "python",
   "nbconvert_exporter": "python",
   "pygments_lexer": "ipython3",
   "version": "3.9.12"
  }
 },
 "nbformat": 4,
 "nbformat_minor": 5
}
