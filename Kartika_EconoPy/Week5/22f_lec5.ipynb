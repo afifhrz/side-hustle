{
 "cells": [
  {
   "cell_type": "code",
   "execution_count": 1,
   "id": "87af44b1",
   "metadata": {},
   "outputs": [],
   "source": [
    "import statsmodels.formula.api as smf\n",
    "import wooldridge as woo\n",
    "import numpy as np \n",
    "import pandas as pd\n",
    "import seaborn as sns\n",
    "import matplotlib.pyplot as plt\n",
    "import statsmodels.api as sm"
   ]
  },
  {
   "cell_type": "markdown",
   "id": "ba8bded1",
   "metadata": {},
   "source": [
    "# Lecture 5"
   ]
  },
  {
   "cell_type": "markdown",
   "id": "4faf4eda",
   "metadata": {},
   "source": [
    "## Nathan Kunz"
   ]
  },
  {
   "cell_type": "code",
   "execution_count": 2,
   "id": "2d0d5a2d",
   "metadata": {},
   "outputs": [
    {
     "data": {
      "text/html": [
       "<div>\n",
       "<style scoped>\n",
       "    .dataframe tbody tr th:only-of-type {\n",
       "        vertical-align: middle;\n",
       "    }\n",
       "\n",
       "    .dataframe tbody tr th {\n",
       "        vertical-align: top;\n",
       "    }\n",
       "\n",
       "    .dataframe thead th {\n",
       "        text-align: right;\n",
       "    }\n",
       "</style>\n",
       "<table border=\"1\" class=\"dataframe\">\n",
       "  <thead>\n",
       "    <tr style=\"text-align: right;\">\n",
       "      <th></th>\n",
       "      <th>salary</th>\n",
       "      <th>pcsalary</th>\n",
       "      <th>sales</th>\n",
       "      <th>roe</th>\n",
       "      <th>pcroe</th>\n",
       "      <th>ros</th>\n",
       "      <th>indus</th>\n",
       "      <th>finance</th>\n",
       "      <th>consprod</th>\n",
       "      <th>utility</th>\n",
       "      <th>lsalary</th>\n",
       "      <th>lsales</th>\n",
       "    </tr>\n",
       "  </thead>\n",
       "  <tbody>\n",
       "    <tr>\n",
       "      <th>0</th>\n",
       "      <td>1095</td>\n",
       "      <td>20</td>\n",
       "      <td>27595.000000</td>\n",
       "      <td>14.1</td>\n",
       "      <td>106.400002</td>\n",
       "      <td>191</td>\n",
       "      <td>1</td>\n",
       "      <td>0</td>\n",
       "      <td>0</td>\n",
       "      <td>0</td>\n",
       "      <td>6.998509</td>\n",
       "      <td>10.225389</td>\n",
       "    </tr>\n",
       "    <tr>\n",
       "      <th>1</th>\n",
       "      <td>1001</td>\n",
       "      <td>32</td>\n",
       "      <td>9958.000000</td>\n",
       "      <td>10.9</td>\n",
       "      <td>-30.600000</td>\n",
       "      <td>13</td>\n",
       "      <td>1</td>\n",
       "      <td>0</td>\n",
       "      <td>0</td>\n",
       "      <td>0</td>\n",
       "      <td>6.908755</td>\n",
       "      <td>9.206132</td>\n",
       "    </tr>\n",
       "    <tr>\n",
       "      <th>2</th>\n",
       "      <td>1122</td>\n",
       "      <td>9</td>\n",
       "      <td>6125.899902</td>\n",
       "      <td>23.5</td>\n",
       "      <td>-16.299999</td>\n",
       "      <td>14</td>\n",
       "      <td>1</td>\n",
       "      <td>0</td>\n",
       "      <td>0</td>\n",
       "      <td>0</td>\n",
       "      <td>7.022868</td>\n",
       "      <td>8.720281</td>\n",
       "    </tr>\n",
       "    <tr>\n",
       "      <th>3</th>\n",
       "      <td>578</td>\n",
       "      <td>-9</td>\n",
       "      <td>16246.000000</td>\n",
       "      <td>5.9</td>\n",
       "      <td>-25.700001</td>\n",
       "      <td>-21</td>\n",
       "      <td>1</td>\n",
       "      <td>0</td>\n",
       "      <td>0</td>\n",
       "      <td>0</td>\n",
       "      <td>6.359574</td>\n",
       "      <td>9.695602</td>\n",
       "    </tr>\n",
       "    <tr>\n",
       "      <th>4</th>\n",
       "      <td>1368</td>\n",
       "      <td>7</td>\n",
       "      <td>21783.199219</td>\n",
       "      <td>13.8</td>\n",
       "      <td>-3.000000</td>\n",
       "      <td>56</td>\n",
       "      <td>1</td>\n",
       "      <td>0</td>\n",
       "      <td>0</td>\n",
       "      <td>0</td>\n",
       "      <td>7.221105</td>\n",
       "      <td>9.988894</td>\n",
       "    </tr>\n",
       "    <tr>\n",
       "      <th>...</th>\n",
       "      <td>...</td>\n",
       "      <td>...</td>\n",
       "      <td>...</td>\n",
       "      <td>...</td>\n",
       "      <td>...</td>\n",
       "      <td>...</td>\n",
       "      <td>...</td>\n",
       "      <td>...</td>\n",
       "      <td>...</td>\n",
       "      <td>...</td>\n",
       "      <td>...</td>\n",
       "      <td>...</td>\n",
       "    </tr>\n",
       "    <tr>\n",
       "      <th>204</th>\n",
       "      <td>930</td>\n",
       "      <td>10</td>\n",
       "      <td>1509.099976</td>\n",
       "      <td>9.0</td>\n",
       "      <td>20.500000</td>\n",
       "      <td>131</td>\n",
       "      <td>0</td>\n",
       "      <td>0</td>\n",
       "      <td>0</td>\n",
       "      <td>1</td>\n",
       "      <td>6.835185</td>\n",
       "      <td>7.319269</td>\n",
       "    </tr>\n",
       "    <tr>\n",
       "      <th>205</th>\n",
       "      <td>525</td>\n",
       "      <td>3</td>\n",
       "      <td>1097.099976</td>\n",
       "      <td>15.5</td>\n",
       "      <td>20.100000</td>\n",
       "      <td>72</td>\n",
       "      <td>0</td>\n",
       "      <td>0</td>\n",
       "      <td>0</td>\n",
       "      <td>1</td>\n",
       "      <td>6.263398</td>\n",
       "      <td>7.000426</td>\n",
       "    </tr>\n",
       "    <tr>\n",
       "      <th>206</th>\n",
       "      <td>658</td>\n",
       "      <td>32</td>\n",
       "      <td>4542.600098</td>\n",
       "      <td>12.1</td>\n",
       "      <td>-7.800000</td>\n",
       "      <td>68</td>\n",
       "      <td>0</td>\n",
       "      <td>0</td>\n",
       "      <td>0</td>\n",
       "      <td>1</td>\n",
       "      <td>6.489205</td>\n",
       "      <td>8.421255</td>\n",
       "    </tr>\n",
       "    <tr>\n",
       "      <th>207</th>\n",
       "      <td>555</td>\n",
       "      <td>6</td>\n",
       "      <td>2023.000000</td>\n",
       "      <td>13.7</td>\n",
       "      <td>-14.600000</td>\n",
       "      <td>60</td>\n",
       "      <td>0</td>\n",
       "      <td>0</td>\n",
       "      <td>0</td>\n",
       "      <td>1</td>\n",
       "      <td>6.318968</td>\n",
       "      <td>7.612337</td>\n",
       "    </tr>\n",
       "    <tr>\n",
       "      <th>208</th>\n",
       "      <td>626</td>\n",
       "      <td>0</td>\n",
       "      <td>1442.500000</td>\n",
       "      <td>14.4</td>\n",
       "      <td>-10.200000</td>\n",
       "      <td>62</td>\n",
       "      <td>0</td>\n",
       "      <td>0</td>\n",
       "      <td>0</td>\n",
       "      <td>1</td>\n",
       "      <td>6.439351</td>\n",
       "      <td>7.274133</td>\n",
       "    </tr>\n",
       "  </tbody>\n",
       "</table>\n",
       "<p>209 rows × 12 columns</p>\n",
       "</div>"
      ],
      "text/plain": [
       "     salary  pcsalary         sales   roe       pcroe  ros  indus  finance  \\\n",
       "0      1095        20  27595.000000  14.1  106.400002  191      1        0   \n",
       "1      1001        32   9958.000000  10.9  -30.600000   13      1        0   \n",
       "2      1122         9   6125.899902  23.5  -16.299999   14      1        0   \n",
       "3       578        -9  16246.000000   5.9  -25.700001  -21      1        0   \n",
       "4      1368         7  21783.199219  13.8   -3.000000   56      1        0   \n",
       "..      ...       ...           ...   ...         ...  ...    ...      ...   \n",
       "204     930        10   1509.099976   9.0   20.500000  131      0        0   \n",
       "205     525         3   1097.099976  15.5   20.100000   72      0        0   \n",
       "206     658        32   4542.600098  12.1   -7.800000   68      0        0   \n",
       "207     555         6   2023.000000  13.7  -14.600000   60      0        0   \n",
       "208     626         0   1442.500000  14.4  -10.200000   62      0        0   \n",
       "\n",
       "     consprod  utility   lsalary     lsales  \n",
       "0           0        0  6.998509  10.225389  \n",
       "1           0        0  6.908755   9.206132  \n",
       "2           0        0  7.022868   8.720281  \n",
       "3           0        0  6.359574   9.695602  \n",
       "4           0        0  7.221105   9.988894  \n",
       "..        ...      ...       ...        ...  \n",
       "204         0        1  6.835185   7.319269  \n",
       "205         0        1  6.263398   7.000426  \n",
       "206         0        1  6.489205   8.421255  \n",
       "207         0        1  6.318968   7.612337  \n",
       "208         0        1  6.439351   7.274133  \n",
       "\n",
       "[209 rows x 12 columns]"
      ]
     },
     "execution_count": 2,
     "metadata": {},
     "output_type": "execute_result"
    }
   ],
   "source": [
    "ceo = woo.data('ceosal1')\n",
    "ceo"
   ]
  },
  {
   "cell_type": "markdown",
   "id": "38b8a845",
   "metadata": {},
   "source": [
    "## Perfect Multicollinearity"
   ]
  },
  {
   "cell_type": "code",
   "execution_count": 340,
   "id": "398346e9",
   "metadata": {},
   "outputs": [],
   "source": [
    "ceo_perf = ceo.copy()\n",
    "\n",
    "# The original sales number is in millions, so here I make this the actual number\n",
    "ceo_perf[\"Sales_Actual\"] = ceo_perf[\"sales\"]*1000000"
   ]
  },
  {
   "cell_type": "code",
   "execution_count": 343,
   "id": "2c2e9458",
   "metadata": {},
   "outputs": [
    {
     "data": {
      "text/html": [
       "<table class=\"simpletable\">\n",
       "<caption>OLS Regression Results</caption>\n",
       "<tr>\n",
       "  <th>Dep. Variable:</th>     <td>np.log(salary)</td>  <th>  R-squared:         </th> <td>   0.079</td>\n",
       "</tr>\n",
       "<tr>\n",
       "  <th>Model:</th>                   <td>OLS</td>       <th>  Adj. R-squared:    </th> <td>   0.075</td>\n",
       "</tr>\n",
       "<tr>\n",
       "  <th>Method:</th>             <td>Least Squares</td>  <th>  F-statistic:       </th> <td>   17.79</td>\n",
       "</tr>\n",
       "<tr>\n",
       "  <th>Date:</th>             <td>Thu, 27 Oct 2022</td> <th>  Prob (F-statistic):</th> <td>3.70e-05</td>\n",
       "</tr>\n",
       "<tr>\n",
       "  <th>Time:</th>                 <td>20:48:17</td>     <th>  Log-Likelihood:    </th> <td> -168.63</td>\n",
       "</tr>\n",
       "<tr>\n",
       "  <th>No. Observations:</th>      <td>   209</td>      <th>  AIC:               </th> <td>   341.3</td>\n",
       "</tr>\n",
       "<tr>\n",
       "  <th>Df Residuals:</th>          <td>   207</td>      <th>  BIC:               </th> <td>   347.9</td>\n",
       "</tr>\n",
       "<tr>\n",
       "  <th>Df Model:</th>              <td>     1</td>      <th>                     </th>     <td> </td>   \n",
       "</tr>\n",
       "<tr>\n",
       "  <th>Covariance Type:</th>      <td>nonrobust</td>    <th>                     </th>     <td> </td>   \n",
       "</tr>\n",
       "</table>\n",
       "<table class=\"simpletable\">\n",
       "<tr>\n",
       "        <td></td>          <th>coef</th>     <th>std err</th>      <th>t</th>      <th>P>|t|</th>  <th>[0.025</th>    <th>0.975]</th>  \n",
       "</tr>\n",
       "<tr>\n",
       "  <th>Intercept</th>    <td>    6.8467</td> <td>    0.045</td> <td>  152.138</td> <td> 0.000</td> <td>    6.758</td> <td>    6.935</td>\n",
       "</tr>\n",
       "<tr>\n",
       "  <th>sales</th>        <td> 1.498e-17</td> <td> 3.55e-18</td> <td>    4.217</td> <td> 0.000</td> <td> 7.98e-18</td> <td>  2.2e-17</td>\n",
       "</tr>\n",
       "<tr>\n",
       "  <th>Sales_Actual</th> <td> 1.498e-11</td> <td> 3.55e-12</td> <td>    4.217</td> <td> 0.000</td> <td> 7.98e-12</td> <td>  2.2e-11</td>\n",
       "</tr>\n",
       "</table>\n",
       "<table class=\"simpletable\">\n",
       "<tr>\n",
       "  <th>Omnibus:</th>       <td>57.347</td> <th>  Durbin-Watson:     </th> <td>   1.893</td>\n",
       "</tr>\n",
       "<tr>\n",
       "  <th>Prob(Omnibus):</th> <td> 0.000</td> <th>  Jarque-Bera (JB):  </th> <td> 205.912</td>\n",
       "</tr>\n",
       "<tr>\n",
       "  <th>Skew:</th>          <td> 1.063</td> <th>  Prob(JB):          </th> <td>1.94e-45</td>\n",
       "</tr>\n",
       "<tr>\n",
       "  <th>Kurtosis:</th>      <td> 7.373</td> <th>  Cond. No.          </th> <td>7.08e+21</td>\n",
       "</tr>\n",
       "</table><br/><br/>Notes:<br/>[1] Standard Errors assume that the covariance matrix of the errors is correctly specified.<br/>[2] The smallest eigenvalue is 6.69e-22. This might indicate that there are<br/>strong multicollinearity problems or that the design matrix is singular."
      ],
      "text/plain": [
       "<class 'statsmodels.iolib.summary.Summary'>\n",
       "\"\"\"\n",
       "                            OLS Regression Results                            \n",
       "==============================================================================\n",
       "Dep. Variable:         np.log(salary)   R-squared:                       0.079\n",
       "Model:                            OLS   Adj. R-squared:                  0.075\n",
       "Method:                 Least Squares   F-statistic:                     17.79\n",
       "Date:                Thu, 27 Oct 2022   Prob (F-statistic):           3.70e-05\n",
       "Time:                        20:48:17   Log-Likelihood:                -168.63\n",
       "No. Observations:                 209   AIC:                             341.3\n",
       "Df Residuals:                     207   BIC:                             347.9\n",
       "Df Model:                           1                                         \n",
       "Covariance Type:            nonrobust                                         \n",
       "================================================================================\n",
       "                   coef    std err          t      P>|t|      [0.025      0.975]\n",
       "--------------------------------------------------------------------------------\n",
       "Intercept        6.8467      0.045    152.138      0.000       6.758       6.935\n",
       "sales         1.498e-17   3.55e-18      4.217      0.000    7.98e-18     2.2e-17\n",
       "Sales_Actual  1.498e-11   3.55e-12      4.217      0.000    7.98e-12     2.2e-11\n",
       "==============================================================================\n",
       "Omnibus:                       57.347   Durbin-Watson:                   1.893\n",
       "Prob(Omnibus):                  0.000   Jarque-Bera (JB):              205.912\n",
       "Skew:                           1.063   Prob(JB):                     1.94e-45\n",
       "Kurtosis:                       7.373   Cond. No.                     7.08e+21\n",
       "==============================================================================\n",
       "\n",
       "Notes:\n",
       "[1] Standard Errors assume that the covariance matrix of the errors is correctly specified.\n",
       "[2] The smallest eigenvalue is 6.69e-22. This might indicate that there are\n",
       "strong multicollinearity problems or that the design matrix is singular.\n",
       "\"\"\""
      ]
     },
     "execution_count": 343,
     "metadata": {},
     "output_type": "execute_result"
    }
   ],
   "source": [
    "badols = smf.ols('np.log(salary) ~sales + Sales_Actual', ceo_perf).fit()\n",
    "badols.summary()"
   ]
  },
  {
   "cell_type": "markdown",
   "id": "d1e01c4c",
   "metadata": {},
   "source": [
    "## Imperfect Multicollinearity"
   ]
  },
  {
   "cell_type": "code",
   "execution_count": 3,
   "id": "89ffc0d5",
   "metadata": {},
   "outputs": [],
   "source": [
    "cors = []\n",
    "for i in range(10000):\n",
    "    X = np.random.normal(0, 1, 40)\n",
    "    sample2 = np.random.normal(0, 1, 40)\n",
    "    Y = .95*X + np.sqrt(1-.95**2)*sample2\n",
    "    cors.append(np.corrcoef(X,Y)[0][1])\n"
   ]
  },
  {
   "cell_type": "code",
   "execution_count": 4,
   "id": "df2f2cc5",
   "metadata": {},
   "outputs": [
    {
     "data": {
      "text/plain": [
       "(array([   4.,    5.,   26.,   62.,  244.,  660., 1792., 3501., 3141.,\n",
       "         565.]),\n",
       " array([0.83889237, 0.85354228, 0.86819219, 0.8828421 , 0.897492  ,\n",
       "        0.91214191, 0.92679182, 0.94144173, 0.95609164, 0.97074155,\n",
       "        0.98539145]),\n",
       " <BarContainer object of 10 artists>)"
      ]
     },
     "execution_count": 4,
     "metadata": {},
     "output_type": "execute_result"
    },
    {
     "data": {
      "image/png": "[encoded data removed]",
      "text/plain": [
       "<Figure size 432x288 with 1 Axes>"
      ]
     },
     "metadata": {
      "needs_background": "light"
     },
     "output_type": "display_data"
    }
   ],
   "source": [
    "plt.hist(cors)"
   ]
  },
  {
   "cell_type": "code",
   "execution_count": 5,
   "id": "b82f4f0c",
   "metadata": {},
   "outputs": [
    {
     "data": {
      "text/plain": [
       "0.9513619945529976"
      ]
     },
     "execution_count": 5,
     "metadata": {},
     "output_type": "execute_result"
    }
   ],
   "source": [
    "np.median(cors)"
   ]
  },
  {
   "cell_type": "code",
   "execution_count": 6,
   "id": "dcee8bb4",
   "metadata": {},
   "outputs": [
    {
     "data": {
      "text/plain": [
       "array([[1.        , 0.95139425],\n",
       "       [0.95139425, 1.        ]])"
      ]
     },
     "execution_count": 6,
     "metadata": {},
     "output_type": "execute_result"
    }
   ],
   "source": [
    "# creating two normal random variables with a correlation of .95\n",
    "\n",
    "# X has mean 0 and sd of 1\n",
    "X = np.random.normal(0, 1, 40)\n",
    "\n",
    "# create an uincorrelated random variable\n",
    "sample2 = np.random.normal(0, 1, 40)\n",
    "\n",
    "# Use x and sample2 to build a variable (Y) that is correlated with X\n",
    "Y = .95*X + np.sqrt(1-.95**2)*sample2\n",
    "\n",
    "# As N->inf X and Y will tend to have a correlation of rho = .95 \n",
    "np.corrcoef(X,Y)"
   ]
  },
  {
   "cell_type": "code",
   "execution_count": 7,
   "id": "d5ce30e1",
   "metadata": {},
   "outputs": [],
   "source": [
    "# create a new variable Z = 1*x +1*Y + e\n",
    "Z = X + Y + np.random.normal(0, 1, 40)"
   ]
  },
  {
   "cell_type": "code",
   "execution_count": 8,
   "id": "63ce1003",
   "metadata": {},
   "outputs": [
    {
     "data": {
      "text/plain": [
       "<matplotlib.collections.PathCollection at 0x20ba1a41760>"
      ]
     },
     "execution_count": 8,
     "metadata": {},
     "output_type": "execute_result"
    },
    {
     "data": {
      "image/png": "[encoded data removed]",
      "text/plain": [
       "<Figure size 432x288 with 1 Axes>"
      ]
     },
     "metadata": {
      "needs_background": "light"
     },
     "output_type": "display_data"
    }
   ],
   "source": [
    "plt.scatter(Z, X)"
   ]
  },
  {
   "cell_type": "code",
   "execution_count": 9,
   "id": "c8de281c",
   "metadata": {},
   "outputs": [
    {
     "data": {
      "text/html": [
       "<div>\n",
       "<style scoped>\n",
       "    .dataframe tbody tr th:only-of-type {\n",
       "        vertical-align: middle;\n",
       "    }\n",
       "\n",
       "    .dataframe tbody tr th {\n",
       "        vertical-align: top;\n",
       "    }\n",
       "\n",
       "    .dataframe thead th {\n",
       "        text-align: right;\n",
       "    }\n",
       "</style>\n",
       "<table border=\"1\" class=\"dataframe\">\n",
       "  <thead>\n",
       "    <tr style=\"text-align: right;\">\n",
       "      <th></th>\n",
       "      <th>Z</th>\n",
       "      <th>X</th>\n",
       "      <th>Y</th>\n",
       "    </tr>\n",
       "  </thead>\n",
       "  <tbody>\n",
       "    <tr>\n",
       "      <th>0</th>\n",
       "      <td>-1.257177</td>\n",
       "      <td>0.349939</td>\n",
       "      <td>0.316985</td>\n",
       "    </tr>\n",
       "    <tr>\n",
       "      <th>1</th>\n",
       "      <td>-0.448125</td>\n",
       "      <td>-0.724857</td>\n",
       "      <td>-0.680231</td>\n",
       "    </tr>\n",
       "    <tr>\n",
       "      <th>2</th>\n",
       "      <td>0.630467</td>\n",
       "      <td>0.473446</td>\n",
       "      <td>-0.035037</td>\n",
       "    </tr>\n",
       "    <tr>\n",
       "      <th>3</th>\n",
       "      <td>0.354891</td>\n",
       "      <td>1.164088</td>\n",
       "      <td>1.296980</td>\n",
       "    </tr>\n",
       "    <tr>\n",
       "      <th>4</th>\n",
       "      <td>1.982668</td>\n",
       "      <td>0.720593</td>\n",
       "      <td>0.830124</td>\n",
       "    </tr>\n",
       "  </tbody>\n",
       "</table>\n",
       "</div>"
      ],
      "text/plain": [
       "          Z         X         Y\n",
       "0 -1.257177  0.349939  0.316985\n",
       "1 -0.448125 -0.724857 -0.680231\n",
       "2  0.630467  0.473446 -0.035037\n",
       "3  0.354891  1.164088  1.296980\n",
       "4  1.982668  0.720593  0.830124"
      ]
     },
     "execution_count": 9,
     "metadata": {},
     "output_type": "execute_result"
    }
   ],
   "source": [
    "# Pulling the variables into a dataframe\n",
    "synthdata = pd.DataFrame(np.array([Z, X, Y]).T, columns = ['Z', 'X', 'Y'])\n",
    "synthdata.head()"
   ]
  },
  {
   "cell_type": "code",
   "execution_count": 10,
   "id": "22844100",
   "metadata": {
    "scrolled": false
   },
   "outputs": [
    {
     "data": {
      "text/html": [
       "<table class=\"simpletable\">\n",
       "<caption>OLS Regression Results</caption>\n",
       "<tr>\n",
       "  <th>Dep. Variable:</th>            <td>Z</td>        <th>  R-squared:         </th> <td>   0.794</td>\n",
       "</tr>\n",
       "<tr>\n",
       "  <th>Model:</th>                   <td>OLS</td>       <th>  Adj. R-squared:    </th> <td>   0.783</td>\n",
       "</tr>\n",
       "<tr>\n",
       "  <th>Method:</th>             <td>Least Squares</td>  <th>  F-statistic:       </th> <td>   71.25</td>\n",
       "</tr>\n",
       "<tr>\n",
       "  <th>Date:</th>             <td>Wed, 26 Oct 2022</td> <th>  Prob (F-statistic):</th> <td>2.05e-13</td>\n",
       "</tr>\n",
       "<tr>\n",
       "  <th>Time:</th>                 <td>21:14:22</td>     <th>  Log-Likelihood:    </th> <td> -53.088</td>\n",
       "</tr>\n",
       "<tr>\n",
       "  <th>No. Observations:</th>      <td>    40</td>      <th>  AIC:               </th> <td>   112.2</td>\n",
       "</tr>\n",
       "<tr>\n",
       "  <th>Df Residuals:</th>          <td>    37</td>      <th>  BIC:               </th> <td>   117.2</td>\n",
       "</tr>\n",
       "<tr>\n",
       "  <th>Df Model:</th>              <td>     2</td>      <th>                     </th>     <td> </td>   \n",
       "</tr>\n",
       "<tr>\n",
       "  <th>Covariance Type:</th>      <td>nonrobust</td>    <th>                     </th>     <td> </td>   \n",
       "</tr>\n",
       "</table>\n",
       "<table class=\"simpletable\">\n",
       "<tr>\n",
       "      <td></td>         <th>coef</th>     <th>std err</th>      <th>t</th>      <th>P>|t|</th>  <th>[0.025</th>    <th>0.975]</th>  \n",
       "</tr>\n",
       "<tr>\n",
       "  <th>Intercept</th> <td>    0.0766</td> <td>    0.152</td> <td>    0.504</td> <td> 0.617</td> <td>   -0.231</td> <td>    0.385</td>\n",
       "</tr>\n",
       "<tr>\n",
       "  <th>X</th>         <td>    1.5970</td> <td>    0.470</td> <td>    3.400</td> <td> 0.002</td> <td>    0.645</td> <td>    2.549</td>\n",
       "</tr>\n",
       "<tr>\n",
       "  <th>Y</th>         <td>    0.1467</td> <td>    0.507</td> <td>    0.290</td> <td> 0.774</td> <td>   -0.880</td> <td>    1.173</td>\n",
       "</tr>\n",
       "</table>\n",
       "<table class=\"simpletable\">\n",
       "<tr>\n",
       "  <th>Omnibus:</th>       <td> 0.977</td> <th>  Durbin-Watson:     </th> <td>   2.125</td>\n",
       "</tr>\n",
       "<tr>\n",
       "  <th>Prob(Omnibus):</th> <td> 0.613</td> <th>  Jarque-Bera (JB):  </th> <td>   0.929</td>\n",
       "</tr>\n",
       "<tr>\n",
       "  <th>Skew:</th>          <td>-0.342</td> <th>  Prob(JB):          </th> <td>   0.629</td>\n",
       "</tr>\n",
       "<tr>\n",
       "  <th>Kurtosis:</th>      <td> 2.702</td> <th>  Cond. No.          </th> <td>    6.52</td>\n",
       "</tr>\n",
       "</table><br/><br/>Notes:<br/>[1] Standard Errors assume that the covariance matrix of the errors is correctly specified."
      ],
      "text/plain": [
       "<class 'statsmodels.iolib.summary.Summary'>\n",
       "\"\"\"\n",
       "                            OLS Regression Results                            \n",
       "==============================================================================\n",
       "Dep. Variable:                      Z   R-squared:                       0.794\n",
       "Model:                            OLS   Adj. R-squared:                  0.783\n",
       "Method:                 Least Squares   F-statistic:                     71.25\n",
       "Date:                Wed, 26 Oct 2022   Prob (F-statistic):           2.05e-13\n",
       "Time:                        21:14:22   Log-Likelihood:                -53.088\n",
       "No. Observations:                  40   AIC:                             112.2\n",
       "Df Residuals:                      37   BIC:                             117.2\n",
       "Df Model:                           2                                         \n",
       "Covariance Type:            nonrobust                                         \n",
       "==============================================================================\n",
       "                 coef    std err          t      P>|t|      [0.025      0.975]\n",
       "------------------------------------------------------------------------------\n",
       "Intercept      0.0766      0.152      0.504      0.617      -0.231       0.385\n",
       "X              1.5970      0.470      3.400      0.002       0.645       2.549\n",
       "Y              0.1467      0.507      0.290      0.774      -0.880       1.173\n",
       "==============================================================================\n",
       "Omnibus:                        0.977   Durbin-Watson:                   2.125\n",
       "Prob(Omnibus):                  0.613   Jarque-Bera (JB):                0.929\n",
       "Skew:                          -0.342   Prob(JB):                        0.629\n",
       "Kurtosis:                       2.702   Cond. No.                         6.52\n",
       "==============================================================================\n",
       "\n",
       "Notes:\n",
       "[1] Standard Errors assume that the covariance matrix of the errors is correctly specified.\n",
       "\"\"\""
      ]
     },
     "execution_count": 10,
     "metadata": {},
     "output_type": "execute_result"
    }
   ],
   "source": [
    "results = smf.ols('Z ~ X + Y', synthdata).fit()\n",
    "results.summary()"
   ]
  },
  {
   "cell_type": "markdown",
   "id": "fd8faa1e",
   "metadata": {},
   "source": [
    "### Variance Inflation Factor (VIF)"
   ]
  },
  {
   "cell_type": "code",
   "execution_count": 353,
   "id": "10f95929",
   "metadata": {},
   "outputs": [
    {
     "data": {
      "text/plain": [
       "10.543076605855383"
      ]
     },
     "execution_count": 353,
     "metadata": {},
     "output_type": "execute_result"
    }
   ],
   "source": [
    "# manual calculation\n",
    "aux_Y = smf.ols('Y~X', data = synthdata).fit()\n",
    "1/(1-aux_Y.rsquared)"
   ]
  },
  {
   "cell_type": "code",
   "execution_count": 355,
   "id": "f3cbc30d",
   "metadata": {},
   "outputs": [
    {
     "data": {
      "text/html": [
       "<div>\n",
       "<style scoped>\n",
       "    .dataframe tbody tr th:only-of-type {\n",
       "        vertical-align: middle;\n",
       "    }\n",
       "\n",
       "    .dataframe tbody tr th {\n",
       "        vertical-align: top;\n",
       "    }\n",
       "\n",
       "    .dataframe thead th {\n",
       "        text-align: right;\n",
       "    }\n",
       "</style>\n",
       "<table border=\"1\" class=\"dataframe\">\n",
       "  <thead>\n",
       "    <tr style=\"text-align: right;\">\n",
       "      <th></th>\n",
       "      <th>Intercept</th>\n",
       "      <th>X</th>\n",
       "      <th>Y</th>\n",
       "    </tr>\n",
       "  </thead>\n",
       "  <tbody>\n",
       "    <tr>\n",
       "      <th>0</th>\n",
       "      <td>1.0</td>\n",
       "      <td>0.349939</td>\n",
       "      <td>0.316985</td>\n",
       "    </tr>\n",
       "    <tr>\n",
       "      <th>1</th>\n",
       "      <td>1.0</td>\n",
       "      <td>-0.724857</td>\n",
       "      <td>-0.680231</td>\n",
       "    </tr>\n",
       "    <tr>\n",
       "      <th>2</th>\n",
       "      <td>1.0</td>\n",
       "      <td>0.473446</td>\n",
       "      <td>-0.035037</td>\n",
       "    </tr>\n",
       "    <tr>\n",
       "      <th>3</th>\n",
       "      <td>1.0</td>\n",
       "      <td>1.164088</td>\n",
       "      <td>1.296980</td>\n",
       "    </tr>\n",
       "    <tr>\n",
       "      <th>4</th>\n",
       "      <td>1.0</td>\n",
       "      <td>0.720593</td>\n",
       "      <td>0.830124</td>\n",
       "    </tr>\n",
       "  </tbody>\n",
       "</table>\n",
       "</div>"
      ],
      "text/plain": [
       "   Intercept         X         Y\n",
       "0        1.0  0.349939  0.316985\n",
       "1        1.0 -0.724857 -0.680231\n",
       "2        1.0  0.473446 -0.035037\n",
       "3        1.0  1.164088  1.296980\n",
       "4        1.0  0.720593  0.830124"
      ]
     },
     "execution_count": 355,
     "metadata": {},
     "output_type": "execute_result"
    }
   ],
   "source": [
    "import patsy as pt\n",
    "import statsmodels.stats.outliers_influence as smo\n",
    "\n",
    "# Get the design matrix\n",
    "y, X = pt.dmatrices('Z ~ X + Y', data = synthdata,\n",
    "                   return_type = 'dataframe')\n",
    "\n",
    "X.head()"
   ]
  },
  {
   "cell_type": "code",
   "execution_count": 319,
   "id": "9659efc4",
   "metadata": {},
   "outputs": [
    {
     "name": "stdout",
     "output_type": "stream",
     "text": [
      "VIF: [ 1.02676983 10.54307661 10.54307661]\n"
     ]
    }
   ],
   "source": [
    "#  Pull the number of regressors (+ intercept)\n",
    "k = X.shape[1]\n",
    "\n",
    "# create an empty matrix to store results\n",
    "VIF = np.empty(k)\n",
    "\n",
    "# Loop for each regressor (+ intercept)\n",
    "for i in range(k):\n",
    "    \n",
    "    # calculate the VIF for each\n",
    "    VIF[i] = smo.variance_inflation_factor(X.values, i)\n",
    "\n",
    "print('VIF:', VIF)"
   ]
  },
  {
   "cell_type": "markdown",
   "id": "18939b89",
   "metadata": {},
   "source": [
    "### Multicollinearity with Higher Order Variables"
   ]
  },
  {
   "cell_type": "code",
   "execution_count": 46,
   "id": "853ce749",
   "metadata": {},
   "outputs": [],
   "source": [
    "synthdata['Z2'] = X + X**2 +X**3 + np.random.normal(0,5, 40)"
   ]
  },
  {
   "cell_type": "code",
   "execution_count": 362,
   "id": "19f07234",
   "metadata": {},
   "outputs": [
    {
     "data": {
      "text/plain": [
       "array([[1.       , 0.4666816],\n",
       "       [0.4666816, 1.       ]])"
      ]
     },
     "execution_count": 362,
     "metadata": {},
     "output_type": "execute_result"
    }
   ],
   "source": [
    "np.corrcoef(synthdata[\"X\"]**3, synthdata[\"X\"]**2)"
   ]
  },
  {
   "cell_type": "code",
   "execution_count": 47,
   "id": "65844f75",
   "metadata": {
    "scrolled": false
   },
   "outputs": [
    {
     "data": {
      "text/html": [
       "<table class=\"simpletable\">\n",
       "<caption>OLS Regression Results</caption>\n",
       "<tr>\n",
       "  <th>Dep. Variable:</th>           <td>Z2</td>        <th>  R-squared:         </th> <td>   0.496</td>\n",
       "</tr>\n",
       "<tr>\n",
       "  <th>Model:</th>                   <td>OLS</td>       <th>  Adj. R-squared:    </th> <td>   0.454</td>\n",
       "</tr>\n",
       "<tr>\n",
       "  <th>Method:</th>             <td>Least Squares</td>  <th>  F-statistic:       </th> <td>   11.80</td>\n",
       "</tr>\n",
       "<tr>\n",
       "  <th>Date:</th>             <td>Wed, 26 Oct 2022</td> <th>  Prob (F-statistic):</th> <td>1.57e-05</td>\n",
       "</tr>\n",
       "<tr>\n",
       "  <th>Time:</th>                 <td>21:15:55</td>     <th>  Log-Likelihood:    </th> <td> -124.88</td>\n",
       "</tr>\n",
       "<tr>\n",
       "  <th>No. Observations:</th>      <td>    40</td>      <th>  AIC:               </th> <td>   257.8</td>\n",
       "</tr>\n",
       "<tr>\n",
       "  <th>Df Residuals:</th>          <td>    36</td>      <th>  BIC:               </th> <td>   264.5</td>\n",
       "</tr>\n",
       "<tr>\n",
       "  <th>Df Model:</th>              <td>     3</td>      <th>                     </th>     <td> </td>   \n",
       "</tr>\n",
       "<tr>\n",
       "  <th>Covariance Type:</th>      <td>nonrobust</td>    <th>                     </th>     <td> </td>   \n",
       "</tr>\n",
       "</table>\n",
       "<table class=\"simpletable\">\n",
       "<tr>\n",
       "      <td></td>         <th>coef</th>     <th>std err</th>      <th>t</th>      <th>P>|t|</th>  <th>[0.025</th>    <th>0.975]</th>  \n",
       "</tr>\n",
       "<tr>\n",
       "  <th>Intercept</th> <td>   -0.6111</td> <td>    1.207</td> <td>   -0.506</td> <td> 0.616</td> <td>   -3.059</td> <td>    1.837</td>\n",
       "</tr>\n",
       "<tr>\n",
       "  <th>X</th>         <td>    1.6622</td> <td>    1.682</td> <td>    0.988</td> <td> 0.330</td> <td>   -1.749</td> <td>    5.074</td>\n",
       "</tr>\n",
       "<tr>\n",
       "  <th>I(X ** 2)</th> <td>    1.2609</td> <td>    0.760</td> <td>    1.659</td> <td> 0.106</td> <td>   -0.281</td> <td>    2.803</td>\n",
       "</tr>\n",
       "<tr>\n",
       "  <th>I(X ** 3)</th> <td>    0.8160</td> <td>    0.531</td> <td>    1.537</td> <td> 0.133</td> <td>   -0.261</td> <td>    1.893</td>\n",
       "</tr>\n",
       "</table>\n",
       "<table class=\"simpletable\">\n",
       "<tr>\n",
       "  <th>Omnibus:</th>       <td> 7.833</td> <th>  Durbin-Watson:     </th> <td>   2.105</td>\n",
       "</tr>\n",
       "<tr>\n",
       "  <th>Prob(Omnibus):</th> <td> 0.020</td> <th>  Jarque-Bera (JB):  </th> <td>   7.484</td>\n",
       "</tr>\n",
       "<tr>\n",
       "  <th>Skew:</th>          <td>-0.683</td> <th>  Prob(JB):          </th> <td>  0.0237</td>\n",
       "</tr>\n",
       "<tr>\n",
       "  <th>Kurtosis:</th>      <td> 4.621</td> <th>  Cond. No.          </th> <td>    7.60</td>\n",
       "</tr>\n",
       "</table><br/><br/>Notes:<br/>[1] Standard Errors assume that the covariance matrix of the errors is correctly specified."
      ],
      "text/plain": [
       "<class 'statsmodels.iolib.summary.Summary'>\n",
       "\"\"\"\n",
       "                            OLS Regression Results                            \n",
       "==============================================================================\n",
       "Dep. Variable:                     Z2   R-squared:                       0.496\n",
       "Model:                            OLS   Adj. R-squared:                  0.454\n",
       "Method:                 Least Squares   F-statistic:                     11.80\n",
       "Date:                Wed, 26 Oct 2022   Prob (F-statistic):           1.57e-05\n",
       "Time:                        21:15:55   Log-Likelihood:                -124.88\n",
       "No. Observations:                  40   AIC:                             257.8\n",
       "Df Residuals:                      36   BIC:                             264.5\n",
       "Df Model:                           3                                         \n",
       "Covariance Type:            nonrobust                                         \n",
       "==============================================================================\n",
       "                 coef    std err          t      P>|t|      [0.025      0.975]\n",
       "------------------------------------------------------------------------------\n",
       "Intercept     -0.6111      1.207     -0.506      0.616      -3.059       1.837\n",
       "X              1.6622      1.682      0.988      0.330      -1.749       5.074\n",
       "I(X ** 2)      1.2609      0.760      1.659      0.106      -0.281       2.803\n",
       "I(X ** 3)      0.8160      0.531      1.537      0.133      -0.261       1.893\n",
       "==============================================================================\n",
       "Omnibus:                        7.833   Durbin-Watson:                   2.105\n",
       "Prob(Omnibus):                  0.020   Jarque-Bera (JB):                7.484\n",
       "Skew:                          -0.683   Prob(JB):                       0.0237\n",
       "Kurtosis:                       4.621   Cond. No.                         7.60\n",
       "==============================================================================\n",
       "\n",
       "Notes:\n",
       "[1] Standard Errors assume that the covariance matrix of the errors is correctly specified.\n",
       "\"\"\""
      ]
     },
     "execution_count": 47,
     "metadata": {},
     "output_type": "execute_result"
    }
   ],
   "source": [
    "results1 = smf.ols('Z2 ~ X + I(X**2) + I(X**3)', synthdata).fit()\n",
    "results1.summary()"
   ]
  },
  {
   "cell_type": "code",
   "execution_count": 48,
   "id": "75897e19",
   "metadata": {},
   "outputs": [
    {
     "data": {
      "text/html": [
       "<table class=\"simpletable\">\n",
       "<caption>OLS Regression Results</caption>\n",
       "<tr>\n",
       "  <th>Dep. Variable:</th>           <td>Z2</td>        <th>  R-squared:         </th> <td>   0.361</td>\n",
       "</tr>\n",
       "<tr>\n",
       "  <th>Model:</th>                   <td>OLS</td>       <th>  Adj. R-squared:    </th> <td>   0.344</td>\n",
       "</tr>\n",
       "<tr>\n",
       "  <th>Method:</th>             <td>Least Squares</td>  <th>  F-statistic:       </th> <td>   21.44</td>\n",
       "</tr>\n",
       "<tr>\n",
       "  <th>Date:</th>             <td>Wed, 26 Oct 2022</td> <th>  Prob (F-statistic):</th> <td>4.18e-05</td>\n",
       "</tr>\n",
       "<tr>\n",
       "  <th>Time:</th>                 <td>21:16:05</td>     <th>  Log-Likelihood:    </th> <td> -129.62</td>\n",
       "</tr>\n",
       "<tr>\n",
       "  <th>No. Observations:</th>      <td>    40</td>      <th>  AIC:               </th> <td>   263.2</td>\n",
       "</tr>\n",
       "<tr>\n",
       "  <th>Df Residuals:</th>          <td>    38</td>      <th>  BIC:               </th> <td>   266.6</td>\n",
       "</tr>\n",
       "<tr>\n",
       "  <th>Df Model:</th>              <td>     1</td>      <th>                     </th>     <td> </td>   \n",
       "</tr>\n",
       "<tr>\n",
       "  <th>Covariance Type:</th>      <td>nonrobust</td>    <th>                     </th>     <td> </td>   \n",
       "</tr>\n",
       "</table>\n",
       "<table class=\"simpletable\">\n",
       "<tr>\n",
       "      <td></td>         <th>coef</th>     <th>std err</th>      <th>t</th>      <th>P>|t|</th>  <th>[0.025</th>    <th>0.975]</th>  \n",
       "</tr>\n",
       "<tr>\n",
       "  <th>Intercept</th> <td>    0.7717</td> <td>    1.016</td> <td>    0.760</td> <td> 0.452</td> <td>   -1.285</td> <td>    2.828</td>\n",
       "</tr>\n",
       "<tr>\n",
       "  <th>X</th>         <td>    4.4788</td> <td>    0.967</td> <td>    4.631</td> <td> 0.000</td> <td>    2.521</td> <td>    6.437</td>\n",
       "</tr>\n",
       "</table>\n",
       "<table class=\"simpletable\">\n",
       "<tr>\n",
       "  <th>Omnibus:</th>       <td> 5.947</td> <th>  Durbin-Watson:     </th> <td>   2.212</td>\n",
       "</tr>\n",
       "<tr>\n",
       "  <th>Prob(Omnibus):</th> <td> 0.051</td> <th>  Jarque-Bera (JB):  </th> <td>   4.890</td>\n",
       "</tr>\n",
       "<tr>\n",
       "  <th>Skew:</th>          <td>-0.588</td> <th>  Prob(JB):          </th> <td>  0.0867</td>\n",
       "</tr>\n",
       "<tr>\n",
       "  <th>Kurtosis:</th>      <td> 4.245</td> <th>  Cond. No.          </th> <td>    1.18</td>\n",
       "</tr>\n",
       "</table><br/><br/>Notes:<br/>[1] Standard Errors assume that the covariance matrix of the errors is correctly specified."
      ],
      "text/plain": [
       "<class 'statsmodels.iolib.summary.Summary'>\n",
       "\"\"\"\n",
       "                            OLS Regression Results                            \n",
       "==============================================================================\n",
       "Dep. Variable:                     Z2   R-squared:                       0.361\n",
       "Model:                            OLS   Adj. R-squared:                  0.344\n",
       "Method:                 Least Squares   F-statistic:                     21.44\n",
       "Date:                Wed, 26 Oct 2022   Prob (F-statistic):           4.18e-05\n",
       "Time:                        21:16:05   Log-Likelihood:                -129.62\n",
       "No. Observations:                  40   AIC:                             263.2\n",
       "Df Residuals:                      38   BIC:                             266.6\n",
       "Df Model:                           1                                         \n",
       "Covariance Type:            nonrobust                                         \n",
       "==============================================================================\n",
       "                 coef    std err          t      P>|t|      [0.025      0.975]\n",
       "------------------------------------------------------------------------------\n",
       "Intercept      0.7717      1.016      0.760      0.452      -1.285       2.828\n",
       "X              4.4788      0.967      4.631      0.000       2.521       6.437\n",
       "==============================================================================\n",
       "Omnibus:                        5.947   Durbin-Watson:                   2.212\n",
       "Prob(Omnibus):                  0.051   Jarque-Bera (JB):                4.890\n",
       "Skew:                          -0.588   Prob(JB):                       0.0867\n",
       "Kurtosis:                       4.245   Cond. No.                         1.18\n",
       "==============================================================================\n",
       "\n",
       "Notes:\n",
       "[1] Standard Errors assume that the covariance matrix of the errors is correctly specified.\n",
       "\"\"\""
      ]
     },
     "execution_count": 48,
     "metadata": {},
     "output_type": "execute_result"
    }
   ],
   "source": [
    "# this model is misspecified and our estiamte of the coefficient\n",
    "# on X is biased\n",
    "results2 = smf.ols('Z2 ~ X', synthdata).fit()\n",
    "results2.summary()"
   ]
  },
  {
   "cell_type": "code",
   "execution_count": 49,
   "id": "c32531db",
   "metadata": {},
   "outputs": [
    {
     "data": {
      "text/plain": [
       "<matplotlib.collections.PathCollection at 0x20ba3ce59d0>"
      ]
     },
     "execution_count": 49,
     "metadata": {},
     "output_type": "execute_result"
    },
    {
     "data": {
      "image/png": "[encoded data removed]",
      "text/plain": [
       "<Figure size 432x288 with 1 Axes>"
      ]
     },
     "metadata": {
      "needs_background": "light"
     },
     "output_type": "display_data"
    }
   ],
   "source": [
    "plt.scatter(synthdata['Z2'], synthdata['X'])"
   ]
  },
  {
   "cell_type": "markdown",
   "id": "a3d40677",
   "metadata": {},
   "source": [
    "## Running an F-Test"
   ]
  },
  {
   "cell_type": "code",
   "execution_count": 50,
   "id": "f4af722d",
   "metadata": {},
   "outputs": [
    {
     "data": {
      "text/plain": [
       "<class 'statsmodels.stats.contrast.ContrastResults'>\n",
       "<F test: F=11.797252124012763, p=1.5688628957854124e-05, df_denom=36, df_num=3>"
      ]
     },
     "execution_count": 50,
     "metadata": {},
     "output_type": "execute_result"
    }
   ],
   "source": [
    "# write each of your hypotheses in a list\n",
    "hypotheses = ['X = 0', \"I(X ** 2) = 0\", \"I(X ** 3) = 0\"]\n",
    "\n",
    "# use the f-test method included in sm.ols().fit() objects\n",
    "results1.f_test(hypotheses)             "
   ]
  },
  {
   "cell_type": "markdown",
   "id": "a399a978",
   "metadata": {},
   "source": [
    "## Interactions"
   ]
  },
  {
   "cell_type": "code",
   "execution_count": 109,
   "id": "cea79981",
   "metadata": {},
   "outputs": [],
   "source": [
    "# generate an indicator variable\n",
    "I =  np.random.choice([0,1], 40, p =  [.3, .7])"
   ]
  },
  {
   "cell_type": "code",
   "execution_count": 363,
   "id": "a1f0b353",
   "metadata": {},
   "outputs": [
    {
     "data": {
      "text/plain": [
       "array([1, 1, 0, 1, 1, 1, 0, 0, 1, 1, 1, 0, 1, 0, 1, 0, 1, 1, 0, 0, 1, 0,\n",
       "       1, 0, 0, 1, 1, 1, 1, 1, 1, 0, 1, 1, 1, 1, 0, 1, 0, 0])"
      ]
     },
     "execution_count": 363,
     "metadata": {},
     "output_type": "execute_result"
    }
   ],
   "source": [
    "I"
   ]
  },
  {
   "cell_type": "code",
   "execution_count": 129,
   "id": "de8afe23",
   "metadata": {},
   "outputs": [],
   "source": [
    "synthdata[\"IND\"] = I\n",
    "\n",
    "# create a dependent variable\n",
    "synthdata['Z3'] = .6*I + .1*X + .5*I*X + np.random.normal(0,1, 40)"
   ]
  },
  {
   "cell_type": "code",
   "execution_count": 130,
   "id": "a31ed319",
   "metadata": {},
   "outputs": [
    {
     "data": {
      "text/html": [
       "<table class=\"simpletable\">\n",
       "<caption>OLS Regression Results</caption>\n",
       "<tr>\n",
       "  <th>Dep. Variable:</th>           <td>Z3</td>        <th>  R-squared:         </th> <td>   0.211</td>\n",
       "</tr>\n",
       "<tr>\n",
       "  <th>Model:</th>                   <td>OLS</td>       <th>  Adj. R-squared:    </th> <td>   0.145</td>\n",
       "</tr>\n",
       "<tr>\n",
       "  <th>Method:</th>             <td>Least Squares</td>  <th>  F-statistic:       </th> <td>   3.213</td>\n",
       "</tr>\n",
       "<tr>\n",
       "  <th>Date:</th>             <td>Wed, 26 Oct 2022</td> <th>  Prob (F-statistic):</th>  <td>0.0342</td> \n",
       "</tr>\n",
       "<tr>\n",
       "  <th>Time:</th>                 <td>21:28:44</td>     <th>  Log-Likelihood:    </th> <td> -54.743</td>\n",
       "</tr>\n",
       "<tr>\n",
       "  <th>No. Observations:</th>      <td>    40</td>      <th>  AIC:               </th> <td>   117.5</td>\n",
       "</tr>\n",
       "<tr>\n",
       "  <th>Df Residuals:</th>          <td>    36</td>      <th>  BIC:               </th> <td>   124.2</td>\n",
       "</tr>\n",
       "<tr>\n",
       "  <th>Df Model:</th>              <td>     3</td>      <th>                     </th>     <td> </td>   \n",
       "</tr>\n",
       "<tr>\n",
       "  <th>Covariance Type:</th>      <td>nonrobust</td>    <th>                     </th>     <td> </td>   \n",
       "</tr>\n",
       "</table>\n",
       "<table class=\"simpletable\">\n",
       "<tr>\n",
       "      <td></td>         <th>coef</th>     <th>std err</th>      <th>t</th>      <th>P>|t|</th>  <th>[0.025</th>    <th>0.975]</th>  \n",
       "</tr>\n",
       "<tr>\n",
       "  <th>Intercept</th> <td>   -0.1621</td> <td>    0.347</td> <td>   -0.467</td> <td> 0.643</td> <td>   -0.866</td> <td>    0.542</td>\n",
       "</tr>\n",
       "<tr>\n",
       "  <th>IND</th>       <td>    0.7425</td> <td>    0.404</td> <td>    1.838</td> <td> 0.074</td> <td>   -0.077</td> <td>    1.562</td>\n",
       "</tr>\n",
       "<tr>\n",
       "  <th>X</th>         <td>    0.1163</td> <td>    0.281</td> <td>    0.414</td> <td> 0.682</td> <td>   -0.454</td> <td>    0.686</td>\n",
       "</tr>\n",
       "<tr>\n",
       "  <th>IND:X</th>     <td>    0.4777</td> <td>    0.360</td> <td>    1.329</td> <td> 0.192</td> <td>   -0.252</td> <td>    1.207</td>\n",
       "</tr>\n",
       "</table>\n",
       "<table class=\"simpletable\">\n",
       "<tr>\n",
       "  <th>Omnibus:</th>       <td> 2.733</td> <th>  Durbin-Watson:     </th> <td>   1.918</td>\n",
       "</tr>\n",
       "<tr>\n",
       "  <th>Prob(Omnibus):</th> <td> 0.255</td> <th>  Jarque-Bera (JB):  </th> <td>   2.172</td>\n",
       "</tr>\n",
       "<tr>\n",
       "  <th>Skew:</th>          <td> 0.571</td> <th>  Prob(JB):          </th> <td>   0.338</td>\n",
       "</tr>\n",
       "<tr>\n",
       "  <th>Kurtosis:</th>      <td> 2.969</td> <th>  Cond. No.          </th> <td>    4.65</td>\n",
       "</tr>\n",
       "</table><br/><br/>Notes:<br/>[1] Standard Errors assume that the covariance matrix of the errors is correctly specified."
      ],
      "text/plain": [
       "<class 'statsmodels.iolib.summary.Summary'>\n",
       "\"\"\"\n",
       "                            OLS Regression Results                            \n",
       "==============================================================================\n",
       "Dep. Variable:                     Z3   R-squared:                       0.211\n",
       "Model:                            OLS   Adj. R-squared:                  0.145\n",
       "Method:                 Least Squares   F-statistic:                     3.213\n",
       "Date:                Wed, 26 Oct 2022   Prob (F-statistic):             0.0342\n",
       "Time:                        21:28:44   Log-Likelihood:                -54.743\n",
       "No. Observations:                  40   AIC:                             117.5\n",
       "Df Residuals:                      36   BIC:                             124.2\n",
       "Df Model:                           3                                         \n",
       "Covariance Type:            nonrobust                                         \n",
       "==============================================================================\n",
       "                 coef    std err          t      P>|t|      [0.025      0.975]\n",
       "------------------------------------------------------------------------------\n",
       "Intercept     -0.1621      0.347     -0.467      0.643      -0.866       0.542\n",
       "IND            0.7425      0.404      1.838      0.074      -0.077       1.562\n",
       "X              0.1163      0.281      0.414      0.682      -0.454       0.686\n",
       "IND:X          0.4777      0.360      1.329      0.192      -0.252       1.207\n",
       "==============================================================================\n",
       "Omnibus:                        2.733   Durbin-Watson:                   1.918\n",
       "Prob(Omnibus):                  0.255   Jarque-Bera (JB):                2.172\n",
       "Skew:                           0.571   Prob(JB):                        0.338\n",
       "Kurtosis:                       2.969   Cond. No.                         4.65\n",
       "==============================================================================\n",
       "\n",
       "Notes:\n",
       "[1] Standard Errors assume that the covariance matrix of the errors is correctly specified.\n",
       "\"\"\""
      ]
     },
     "execution_count": 130,
     "metadata": {},
     "output_type": "execute_result"
    }
   ],
   "source": [
    "results3 = smf.ols('Z3 ~ IND*X', synthdata).fit()\n",
    "results3.summary()"
   ]
  },
  {
   "cell_type": "code",
   "execution_count": 131,
   "id": "b1795dda",
   "metadata": {},
   "outputs": [
    {
     "data": {
      "text/plain": [
       "<class 'statsmodels.stats.contrast.ContrastResults'>\n",
       "<F test: F=3.592673978535451, p=0.03779108809418408, df_denom=36, df_num=2>"
      ]
     },
     "execution_count": 131,
     "metadata": {},
     "output_type": "execute_result"
    }
   ],
   "source": [
    "hypotheses = ['X = 0', 'IND:X = 0']\n",
    "results3.f_test(hypotheses)          "
   ]
  },
  {
   "cell_type": "markdown",
   "id": "75e6ef20",
   "metadata": {},
   "source": [
    "### Predictor Transformations"
   ]
  },
  {
   "cell_type": "code",
   "execution_count": 139,
   "id": "31dfe2e7",
   "metadata": {},
   "outputs": [
    {
     "data": {
      "text/html": [
       "<table class=\"simpletable\">\n",
       "<caption>OLS Regression Results</caption>\n",
       "<tr>\n",
       "  <th>Dep. Variable:</th>     <td>np.log(salary)</td>  <th>  R-squared:         </th> <td>   0.299</td>\n",
       "</tr>\n",
       "<tr>\n",
       "  <th>Model:</th>                   <td>OLS</td>       <th>  Adj. R-squared:    </th> <td>   0.289</td>\n",
       "</tr>\n",
       "<tr>\n",
       "  <th>Method:</th>             <td>Least Squares</td>  <th>  F-statistic:       </th> <td>   29.18</td>\n",
       "</tr>\n",
       "<tr>\n",
       "  <th>Date:</th>             <td>Thu, 27 Oct 2022</td> <th>  Prob (F-statistic):</th> <td>9.38e-16</td>\n",
       "</tr>\n",
       "<tr>\n",
       "  <th>Time:</th>                 <td>14:03:51</td>     <th>  Log-Likelihood:    </th> <td> -140.08</td>\n",
       "</tr>\n",
       "<tr>\n",
       "  <th>No. Observations:</th>      <td>   209</td>      <th>  AIC:               </th> <td>   288.2</td>\n",
       "</tr>\n",
       "<tr>\n",
       "  <th>Df Residuals:</th>          <td>   205</td>      <th>  BIC:               </th> <td>   301.5</td>\n",
       "</tr>\n",
       "<tr>\n",
       "  <th>Df Model:</th>              <td>     3</td>      <th>                     </th>     <td> </td>   \n",
       "</tr>\n",
       "<tr>\n",
       "  <th>Covariance Type:</th>      <td>nonrobust</td>    <th>                     </th>     <td> </td>   \n",
       "</tr>\n",
       "</table>\n",
       "<table class=\"simpletable\">\n",
       "<tr>\n",
       "        <td></td>           <th>coef</th>     <th>std err</th>      <th>t</th>      <th>P>|t|</th>  <th>[0.025</th>    <th>0.975]</th>  \n",
       "</tr>\n",
       "<tr>\n",
       "  <th>Intercept</th>     <td>    4.3994</td> <td>    0.292</td> <td>   15.092</td> <td> 0.000</td> <td>    3.825</td> <td>    4.974</td>\n",
       "</tr>\n",
       "<tr>\n",
       "  <th>np.log(sales)</th> <td>    0.2726</td> <td>    0.033</td> <td>    8.271</td> <td> 0.000</td> <td>    0.208</td> <td>    0.338</td>\n",
       "</tr>\n",
       "<tr>\n",
       "  <th>roe</th>           <td>    0.0139</td> <td>    0.004</td> <td>    3.243</td> <td> 0.001</td> <td>    0.005</td> <td>    0.022</td>\n",
       "</tr>\n",
       "<tr>\n",
       "  <th>consprod</th>      <td>    0.1799</td> <td>    0.080</td> <td>    2.247</td> <td> 0.026</td> <td>    0.022</td> <td>    0.338</td>\n",
       "</tr>\n",
       "</table>\n",
       "<table class=\"simpletable\">\n",
       "<tr>\n",
       "  <th>Omnibus:</th>       <td>88.344</td> <th>  Durbin-Watson:     </th> <td>   2.054</td>\n",
       "</tr>\n",
       "<tr>\n",
       "  <th>Prob(Omnibus):</th> <td> 0.000</td> <th>  Jarque-Bera (JB):  </th> <td> 449.495</td>\n",
       "</tr>\n",
       "<tr>\n",
       "  <th>Skew:</th>          <td> 1.573</td> <th>  Prob(JB):          </th> <td>2.47e-98</td>\n",
       "</tr>\n",
       "<tr>\n",
       "  <th>Kurtosis:</th>      <td> 9.459</td> <th>  Cond. No.          </th> <td>    183.</td>\n",
       "</tr>\n",
       "</table><br/><br/>Notes:<br/>[1] Standard Errors assume that the covariance matrix of the errors is correctly specified."
      ],
      "text/plain": [
       "<class 'statsmodels.iolib.summary.Summary'>\n",
       "\"\"\"\n",
       "                            OLS Regression Results                            \n",
       "==============================================================================\n",
       "Dep. Variable:         np.log(salary)   R-squared:                       0.299\n",
       "Model:                            OLS   Adj. R-squared:                  0.289\n",
       "Method:                 Least Squares   F-statistic:                     29.18\n",
       "Date:                Thu, 27 Oct 2022   Prob (F-statistic):           9.38e-16\n",
       "Time:                        14:03:51   Log-Likelihood:                -140.08\n",
       "No. Observations:                 209   AIC:                             288.2\n",
       "Df Residuals:                     205   BIC:                             301.5\n",
       "Df Model:                           3                                         \n",
       "Covariance Type:            nonrobust                                         \n",
       "=================================================================================\n",
       "                    coef    std err          t      P>|t|      [0.025      0.975]\n",
       "---------------------------------------------------------------------------------\n",
       "Intercept         4.3994      0.292     15.092      0.000       3.825       4.974\n",
       "np.log(sales)     0.2726      0.033      8.271      0.000       0.208       0.338\n",
       "roe               0.0139      0.004      3.243      0.001       0.005       0.022\n",
       "consprod          0.1799      0.080      2.247      0.026       0.022       0.338\n",
       "==============================================================================\n",
       "Omnibus:                       88.344   Durbin-Watson:                   2.054\n",
       "Prob(Omnibus):                  0.000   Jarque-Bera (JB):              449.495\n",
       "Skew:                           1.573   Prob(JB):                     2.47e-98\n",
       "Kurtosis:                       9.459   Cond. No.                         183.\n",
       "==============================================================================\n",
       "\n",
       "Notes:\n",
       "[1] Standard Errors assume that the covariance matrix of the errors is correctly specified.\n",
       "\"\"\""
      ]
     },
     "execution_count": 139,
     "metadata": {},
     "output_type": "execute_result"
    }
   ],
   "source": [
    "results3 = smf.ols('np.log(salary) ~ np.log(sales) + roe+ consprod', ceo).fit()\n",
    "results3.summary()"
   ]
  },
  {
   "cell_type": "code",
   "execution_count": 145,
   "id": "0fe0e0e8",
   "metadata": {},
   "outputs": [],
   "source": [
    "prestige = pd.read_csv(\"Prestige_miss.csv\")\n",
    "fit2 = smf.ols('prestige ~ income +education + women', prestige).fit()"
   ]
  },
  {
   "cell_type": "code",
   "execution_count": 146,
   "id": "a4dfa70c",
   "metadata": {},
   "outputs": [
    {
     "data": {
      "text/html": [
       "<table class=\"simpletable\">\n",
       "<caption>OLS Regression Results</caption>\n",
       "<tr>\n",
       "  <th>Dep. Variable:</th>        <td>prestige</td>     <th>  R-squared:         </th> <td>   0.814</td>\n",
       "</tr>\n",
       "<tr>\n",
       "  <th>Model:</th>                   <td>OLS</td>       <th>  Adj. R-squared:    </th> <td>   0.807</td>\n",
       "</tr>\n",
       "<tr>\n",
       "  <th>Method:</th>             <td>Least Squares</td>  <th>  F-statistic:       </th> <td>   112.4</td>\n",
       "</tr>\n",
       "<tr>\n",
       "  <th>Date:</th>             <td>Thu, 27 Oct 2022</td> <th>  Prob (F-statistic):</th> <td>4.66e-28</td>\n",
       "</tr>\n",
       "<tr>\n",
       "  <th>Time:</th>                 <td>14:12:13</td>     <th>  Log-Likelihood:    </th> <td> -275.70</td>\n",
       "</tr>\n",
       "<tr>\n",
       "  <th>No. Observations:</th>      <td>    81</td>      <th>  AIC:               </th> <td>   559.4</td>\n",
       "</tr>\n",
       "<tr>\n",
       "  <th>Df Residuals:</th>          <td>    77</td>      <th>  BIC:               </th> <td>   569.0</td>\n",
       "</tr>\n",
       "<tr>\n",
       "  <th>Df Model:</th>              <td>     3</td>      <th>                     </th>     <td> </td>   \n",
       "</tr>\n",
       "<tr>\n",
       "  <th>Covariance Type:</th>      <td>nonrobust</td>    <th>                     </th>     <td> </td>   \n",
       "</tr>\n",
       "</table>\n",
       "<table class=\"simpletable\">\n",
       "<tr>\n",
       "      <td></td>         <th>coef</th>     <th>std err</th>      <th>t</th>      <th>P>|t|</th>  <th>[0.025</th>    <th>0.975]</th>  \n",
       "</tr>\n",
       "<tr>\n",
       "  <th>Intercept</th> <td>   -4.0977</td> <td>    3.334</td> <td>   -1.229</td> <td> 0.223</td> <td>  -10.737</td> <td>    2.542</td>\n",
       "</tr>\n",
       "<tr>\n",
       "  <th>income</th>    <td>    0.0011</td> <td>    0.000</td> <td>    3.786</td> <td> 0.000</td> <td>    0.001</td> <td>    0.002</td>\n",
       "</tr>\n",
       "<tr>\n",
       "  <th>education</th> <td>    4.1686</td> <td>    0.396</td> <td>   10.534</td> <td> 0.000</td> <td>    3.381</td> <td>    4.957</td>\n",
       "</tr>\n",
       "<tr>\n",
       "  <th>women</th>     <td>   -0.0292</td> <td>    0.032</td> <td>   -0.916</td> <td> 0.362</td> <td>   -0.093</td> <td>    0.034</td>\n",
       "</tr>\n",
       "</table>\n",
       "<table class=\"simpletable\">\n",
       "<tr>\n",
       "  <th>Omnibus:</th>       <td> 0.245</td> <th>  Durbin-Watson:     </th> <td>   1.794</td>\n",
       "</tr>\n",
       "<tr>\n",
       "  <th>Prob(Omnibus):</th> <td> 0.885</td> <th>  Jarque-Bera (JB):  </th> <td>   0.406</td>\n",
       "</tr>\n",
       "<tr>\n",
       "  <th>Skew:</th>          <td> 0.102</td> <th>  Prob(JB):          </th> <td>   0.816</td>\n",
       "</tr>\n",
       "<tr>\n",
       "  <th>Kurtosis:</th>      <td> 2.719</td> <th>  Cond. No.          </th> <td>3.40e+04</td>\n",
       "</tr>\n",
       "</table><br/><br/>Notes:<br/>[1] Standard Errors assume that the covariance matrix of the errors is correctly specified.<br/>[2] The condition number is large, 3.4e+04. This might indicate that there are<br/>strong multicollinearity or other numerical problems."
      ],
      "text/plain": [
       "<class 'statsmodels.iolib.summary.Summary'>\n",
       "\"\"\"\n",
       "                            OLS Regression Results                            \n",
       "==============================================================================\n",
       "Dep. Variable:               prestige   R-squared:                       0.814\n",
       "Model:                            OLS   Adj. R-squared:                  0.807\n",
       "Method:                 Least Squares   F-statistic:                     112.4\n",
       "Date:                Thu, 27 Oct 2022   Prob (F-statistic):           4.66e-28\n",
       "Time:                        14:12:13   Log-Likelihood:                -275.70\n",
       "No. Observations:                  81   AIC:                             559.4\n",
       "Df Residuals:                      77   BIC:                             569.0\n",
       "Df Model:                           3                                         \n",
       "Covariance Type:            nonrobust                                         \n",
       "==============================================================================\n",
       "                 coef    std err          t      P>|t|      [0.025      0.975]\n",
       "------------------------------------------------------------------------------\n",
       "Intercept     -4.0977      3.334     -1.229      0.223     -10.737       2.542\n",
       "income         0.0011      0.000      3.786      0.000       0.001       0.002\n",
       "education      4.1686      0.396     10.534      0.000       3.381       4.957\n",
       "women         -0.0292      0.032     -0.916      0.362      -0.093       0.034\n",
       "==============================================================================\n",
       "Omnibus:                        0.245   Durbin-Watson:                   1.794\n",
       "Prob(Omnibus):                  0.885   Jarque-Bera (JB):                0.406\n",
       "Skew:                           0.102   Prob(JB):                        0.816\n",
       "Kurtosis:                       2.719   Cond. No.                     3.40e+04\n",
       "==============================================================================\n",
       "\n",
       "Notes:\n",
       "[1] Standard Errors assume that the covariance matrix of the errors is correctly specified.\n",
       "[2] The condition number is large, 3.4e+04. This might indicate that there are\n",
       "strong multicollinearity or other numerical problems.\n",
       "\"\"\""
      ]
     },
     "execution_count": 146,
     "metadata": {},
     "output_type": "execute_result"
    }
   ],
   "source": [
    "fit2.summary()"
   ]
  },
  {
   "cell_type": "code",
   "execution_count": 150,
   "id": "07e05087",
   "metadata": {},
   "outputs": [
    {
     "data": {
      "image/png": "[encoded data removed]",
      "text/plain": [
       "<Figure size 432x288 with 1 Axes>"
      ]
     },
     "metadata": {
      "needs_background": "light"
     },
     "output_type": "display_data"
    }
   ],
   "source": [
    "import statsmodels.api as sm\n",
    "sm.graphics.plot_ccpr(fit2, 'income')\n",
    "\n",
    "plt.show()"
   ]
  },
  {
   "cell_type": "code",
   "execution_count": 180,
   "id": "71655d69",
   "metadata": {},
   "outputs": [],
   "source": [
    "def ccpr_plot(model, data, variable):\n",
    "    df_copy = data.copy()\n",
    "    \n",
    "    df_copy[\"epartial\"] = model.resid + model.params[variable]*data[variable]\n",
    "    \n",
    "    plt.figure(figsize = (10, 6))\n",
    "    \n",
    "    sns.regplot(x = variable, y = \"epartial\", data =df_copy, lowess = True)\n",
    "    sns.regplot(x = variable, y = \"epartial\", data =df_copy)\n",
    "    \n",
    "    plt.title(\"Component + Residuals \"+variable)\n",
    "    "
   ]
  },
  {
   "cell_type": "code",
   "execution_count": 181,
   "id": "bd88c46c",
   "metadata": {},
   "outputs": [
    {
     "data": {
      "image/png": "[encoded data removed]",
      "text/plain": [
       "<Figure size 720x432 with 1 Axes>"
      ]
     },
     "metadata": {
      "needs_background": "light"
     },
     "output_type": "display_data"
    }
   ],
   "source": [
    "ccpr_plot(fit2, prestige, \"income\")"
   ]
  },
  {
   "cell_type": "code",
   "execution_count": 182,
   "id": "396db271",
   "metadata": {},
   "outputs": [
    {
     "data": {
      "image/png": "[encoded data removed]",
      "text/plain": [
       "<Figure size 720x432 with 1 Axes>"
      ]
     },
     "metadata": {
      "needs_background": "light"
     },
     "output_type": "display_data"
    }
   ],
   "source": [
    "ccpr_plot(fit2, prestige, \"education\")"
   ]
  },
  {
   "cell_type": "code",
   "execution_count": 221,
   "id": "7ea900fe",
   "metadata": {},
   "outputs": [
    {
     "data": {
      "text/plain": [
       "<AxesSubplot:title={'center':'CERES residuals plot'}, xlabel='income', ylabel='Component plus residual'>"
      ]
     },
     "execution_count": 221,
     "metadata": {},
     "output_type": "execute_result"
    },
    {
     "data": {
      "image/png": "[encoded data removed]",
      "text/plain": [
       "<Figure size 432x288 with 1 Axes>"
      ]
     },
     "metadata": {
      "needs_background": "light"
     },
     "output_type": "display_data"
    }
   ],
   "source": [
    "## Ceres\n",
    "from statsmodels.graphics.regressionplots import plot_ceres_residuals\n",
    "l = plot_ceres_residuals(fit2, 'income')\n",
    "plt.gca()"
   ]
  },
  {
   "cell_type": "code",
   "execution_count": 228,
   "id": "ee28474c",
   "metadata": {},
   "outputs": [
    {
     "data": {
      "text/plain": [
       "40"
      ]
     },
     "execution_count": 228,
     "metadata": {},
     "output_type": "execute_result"
    }
   ],
   "source": [
    "len(X)"
   ]
  },
  {
   "cell_type": "code",
   "execution_count": 303,
   "id": "90605ab2",
   "metadata": {},
   "outputs": [],
   "source": [
    "def ceres_plot(model, data, variable):\n",
    "    \n",
    "    # produce plot\n",
    "    plot_ceres_residuals(fit2, variable)\n",
    "    ax = plt.gca()\n",
    "    \n",
    "    # don't show plot in notebook\n",
    "    plt.close()\n",
    "    \n",
    "    # Pull datapoints from scatterplot from the statsmodels plot\n",
    "    line = ax.lines[0]\n",
    "    X = line.get_xdata()\n",
    "    Y = line.get_ydata()\n",
    "    \n",
    "    # Store the results into format that works with seaborn\n",
    "    df = pd.DataFrame(np.array([X,Y]).T, columns = [variable, \"CERES Resdiduals\"])\n",
    "    plt.figure(figsize = (10, 6))\n",
    "    \n",
    "    # plot the results in a way similar to R\n",
    "    sns.regplot(x = variable, y = \"CERES Resdiduals\", data =df, lowess = True)\n",
    "    sns.regplot(x = variable, y = \"CERES Resdiduals\", data =df)\n",
    "    \n",
    "    plt.title(\"CERES Plot \"+variable)"
   ]
  },
  {
   "cell_type": "code",
   "execution_count": 307,
   "id": "fb6ab9a6",
   "metadata": {
    "scrolled": false
   },
   "outputs": [
    {
     "data": {
      "image/png": "[encoded data removed]",
      "text/plain": [
       "<Figure size 720x432 with 1 Axes>"
      ]
     },
     "metadata": {
      "needs_background": "light"
     },
     "output_type": "display_data"
    }
   ],
   "source": [
    "fit3 = smf.ols('prestige~income+education+type', prestige).fit()\n",
    "ceres_plot(fit3, prestige, 'education')"
   ]
  },
  {
   "cell_type": "markdown",
   "id": "6240245a",
   "metadata": {},
   "source": [
    "### Functional Form misspecification"
   ]
  },
  {
   "cell_type": "code",
   "execution_count": 330,
   "id": "f9f4bf21",
   "metadata": {},
   "outputs": [],
   "source": [
    "# Create our suspect model\n",
    "results1 = smf.ols('Z2 ~ X', synthdata).fit()"
   ]
  },
  {
   "cell_type": "code",
   "execution_count": 335,
   "id": "6649187f",
   "metadata": {},
   "outputs": [
    {
     "data": {
      "text/plain": [
       "<class 'statsmodels.stats.contrast.ContrastResults'>\n",
       "<F test: F=4.818604895089585, p=0.013986256771061925, df_denom=36, df_num=2>"
      ]
     },
     "execution_count": 335,
     "metadata": {},
     "output_type": "execute_result"
    }
   ],
   "source": [
    "# Take the fitted values up to the desired power\n",
    "synthdata[\"fitted2\"] = results1.fittedvalues**2\n",
    "synthdata[\"fitted3\"] = results1.fittedvalues**3\n",
    "\n",
    "# Fit regression on polynomial\n",
    "ramseyreg = smf.ols('Z2 ~ X + fitted2 + fitted3', synthdata).fit()\n",
    "\n",
    "# run ftest on polynomial values\n",
    "hypotheses = ['fitted2 = 0', \"fitted3 = 0\"]\n",
    "\n",
    "# we reject the null that the functional form is adequate\n",
    "ramseyreg.f_test(hypotheses)     "
   ]
  },
  {
   "cell_type": "code",
   "execution_count": 364,
   "id": "fc3aab90",
   "metadata": {},
   "outputs": [
    {
     "data": {
      "text/plain": [
       "<class 'statsmodels.stats.contrast.ContrastResults'>\n",
       "<F test: F=4.818604895089885, p=0.01398625677105865, df_denom=36, df_num=2>"
      ]
     },
     "execution_count": 364,
     "metadata": {},
     "output_type": "execute_result"
    }
   ],
   "source": [
    "# statsmodels method\n",
    "reset_out = smo.reset_ramsey(res = results1, degree = 3)\n",
    "reset_out"
   ]
  },
  {
   "cell_type": "code",
   "execution_count": null,
   "id": "79629a4f",
   "metadata": {},
   "outputs": [],
   "source": []
  }
 ],
 "metadata": {
  "kernelspec": {
   "display_name": "Python 3",
   "language": "python",
   "name": "python3"
  },
  "language_info": {
   "codemirror_mode": {
    "name": "ipython",
    "version": 3
   },
   "file_extension": ".py",
   "mimetype": "text/x-python",
   "name": "python",
   "nbconvert_exporter": "python",
   "pygments_lexer": "ipython3",
   "version": "3.8.8"
  }
 },
 "nbformat": 4,
 "nbformat_minor": 5
}
