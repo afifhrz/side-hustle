{
 "cells": [
  {
   "cell_type": "code",
   "execution_count": null,
   "metadata": {},
   "outputs": [],
   "source": [
    "from statsmodels.tsa.api import ExponentialSmoothing\n",
    "import pandas as pd\n",
    "\n",
    "def holt_win(y, y_to_train, y_to_test, seasonal_type, seasonal_period, predict_date):\n",
    "    y.plot(marker='o', color='black', legend=True, figsize=(14, 7))\n",
    "    results = []\n",
    "\n",
    "    if seasonal_type == 'additive':\n",
    "        fit1 = ExponentialSmoothing(y_to_train, seasonal_periods=seasonal_period,\n",
    "                                    trend='add', seasonal='add').fit()\n",
    "        fcast1 = fit1.forecast(predict_date).rename('Additive')\n",
    "        mse1 = ((fcast1 - y_to_test) ** 2).mean()\n",
    "        results.append(['Additive', np.sqrt(mse1)])\n",
    "\n",
    "        fit2 = ExponentialSmoothing(y_to_train, seasonal_periods=seasonal_period, trend='add', seasonal='add',\n",
    "                                    damped=True).fit()\n",
    "        fcast2 = fit2.forecast(predict_date).rename('Additive+damped')\n",
    "        mse2 = ((fcast2 - y_to_test) ** 2).mean()\n",
    "        results.append(['Additive+damped', np.sqrt(mse2)])\n",
    "\n",
    "        fit1.fittedvalues.plot(style='--', color='red')\n",
    "        fcast1.plot(style='--', marker='o', color='red', legend=True)\n",
    "        fit2.fittedvalues.plot(style='--', color='green')\n",
    "        fcast2.plot(style='--', marker='o', color='green', legend=True)\n",
    "\n",
    "    elif seasonal_type == 'multiplicative':\n",
    "        fit3 = ExponentialSmoothing(y_to_train, seasonal_periods=seasonal_period, trend='add', seasonal='mul').fit()\n",
    "        fcast3 = fit3.forecast(predict_date).rename('Multiplicative')\n",
    "        mse3 = ((fcast3 - y_to_test) ** 2).mean()\n",
    "        results.append(['Multiplicative', np.sqrt(mse3)])\n",
    "\n",
    "        fit4 = ExponentialSmoothing(y_to_train, seasonal_periods=seasonal_period, trend='add', seasonal='mul',\n",
    "                                    damped=True).fit()\n",
    "        fcast4 = fit4.forecast(predict_date).rename('Multiplicative+damped')\n",
    "        mse4 = ((fcast4 - y_to_test) ** 2).mean()\n",
    "        results.append(['Multiplicative+damped', np.sqrt(mse4)])\n",
    "\n",
    "        fit3.fittedvalues.plot(style='--', color='red')\n",
    "        fcast3.plot(style='--', marker='o', color='red', legend=True)\n",
    "        fit4.fittedvalues.plot(style='--', color='green')\n",
    "        fcast4.plot(style='--', marker='o', color='green', legend=True)\n",
    "\n",
    "    else:\n",
    "        print('Wrong Seasonal Type. Please choose between additive and multiplicative')\n",
    "        return\n",
    "\n",
    "    plt.show()\n",
    "\n",
    "    summary_table = pd.DataFrame(results, columns=['Model', 'RMSE'])\n",
    "    print(summary_table)"
   ]
  }
 ],
 "metadata": {
  "kernelspec": {
   "display_name": "Python 3.10.0 64-bit",
   "language": "python",
   "name": "python3"
  },
  "language_info": {
   "name": "python",
   "version": "3.10.0"
  },
  "orig_nbformat": 4,
  "vscode": {
   "interpreter": {
    "hash": "08abd46ab386a190f9a7aabef1612316707d8e23053ad59a1ae882ce2c3e6610"
   }
  }
 },
 "nbformat": 4,
 "nbformat_minor": 2
}
