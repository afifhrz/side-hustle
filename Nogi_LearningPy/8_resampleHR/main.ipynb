{
 "cells": [
  {
   "cell_type": "markdown",
   "metadata": {},
   "source": [
    "# Precondition df"
   ]
  },
  {
   "cell_type": "code",
   "execution_count": 1,
   "metadata": {},
   "outputs": [],
   "source": [
    "import os\n",
    "import pandas as pd"
   ]
  },
  {
   "cell_type": "code",
   "execution_count": 9,
   "metadata": {},
   "outputs": [],
   "source": [
    "ID_arr = [1,2,3,4,5,6]\n",
    "day_arr = [1,2]\n",
    "set = [4,5,6]"
   ]
  },
  {
   "cell_type": "code",
   "execution_count": null,
   "metadata": {},
   "outputs": [],
   "source": [
    "col_add = ['subid', 'Thermal', 'Traffic noise levels', 'Speech']\n",
    "try:\n",
    "    master_data = pd.read_excel(\"Experiment_edited_V3.1.xlsx\", usecols=['Start Date', 'End Date', 'Experiment set', 'Experiment id', 'Time_thermal']+col_add)\n",
    "except ValueError:\n",
    "    master_data = pd.read_excel(\"Experiment_edited_V3.1b.xlsx\", usecols=['Start Date', 'End Date', 'Experiment set', 'Experiment id', 'Time_thermal']+col_add)\n",
    "new = master_data['Time_thermal'].str.split(\"-\", n=1, expand=True)\n",
    "master_data['New_Start_Date'] = pd.to_datetime(master_data['Start Date']).dt.date\n",
    "master_data['New_End_Date'] = pd.to_datetime(master_data['Start Date']).dt.date\n",
    "master_data['New_Start_Date'] = master_data['New_Start_Date'].astype(str) + ' ' + new[0]\n",
    "master_data['New_End_Date'] = master_data['New_End_Date'].astype(str) + ' ' + new[1]\n",
    "master_data['New_Start_Date'] = master_data['New_Start_Date'].astype('datetime64[ms]')\n",
    "master_data['New_End_Date'] = master_data['New_End_Date'].astype('datetime64[ms]')\n",
    "master_data"
   ]
  },
  {
   "cell_type": "markdown",
   "metadata": {},
   "source": [
    "```Additional column experiment_set, experiment_id, thermal, noiselevels, subid, speech```"
   ]
  },
  {
   "cell_type": "markdown",
   "metadata": {},
   "source": [
    "## HR Creation"
   ]
  },
  {
   "cell_type": "code",
   "execution_count": null,
   "metadata": {},
   "outputs": [],
   "source": [
    "from datetime import datetime, timedelta\n",
    "for set_ in set:\n",
    "    with pd.ExcelWriter(f'HR_set{set_}.xlsx', engine=\"xlsxwriter\", datetime_format='yyyy-mm-dd hh:mm:ss.000') as writer:        \n",
    "        for id_ in ID_arr:\n",
    "            result = pd.DataFrame(columns=[\"Time\",\"HR\",\"RR\",\"MS\",\"SKINCONTACT\",\"experiment_set\", \"experiment_id\"]+col_add)\n",
    "            for day_ in day_arr:\n",
    "                print(f\"process set: {set_} day: {day_} id: {id_}\")\n",
    "                try:\n",
    "                    csv_arr = os.listdir(f'HR/set{set_}/Day{day_}/ID{id_}/')\n",
    "                except FileNotFoundError:\n",
    "                    print(f\"Not Found set: {set_} day: {day_} id: {id_}\")\n",
    "                    continue\n",
    "                csv_arr = csv_arr[:len(csv_arr)//2]\n",
    "                for i in range(len(csv_arr)):\n",
    "                    csv_arr[i] = csv_arr[i][-20:-4]\n",
    "\n",
    "                for csv_ in csv_arr:\n",
    "                    result_temp = pd.DataFrame(columns=[\"Time\",\"HR\",\"RR\",\"MS\",\"SKINCONTACT\",\"experiment_set\", \"experiment_id\"]+col_add)\n",
    "                    file_name_HR = f'HR/set{set_}/Day{day_}/ID{id_}/HR_'+csv_+'.txt'\n",
    "                    skiprows = 6\n",
    "                    data_HR = pd.read_csv(file_name_HR, skiprows=skiprows, sep=\" \", header=None, names=[\"CHANNEL\",\"RR\",\"MS\",\"SKINCONTACT\"], index_col=False)\n",
    "                    timestamp = datetime.strptime(csv_, \"%d.%m.%Y_%H.%M\")\n",
    "                    result_temp['Time'] = [timestamp]*len(data_HR)\n",
    "                    result_temp['experiment_set'] = [set_]*len(data_HR)\n",
    "                    result_temp['experiment_id'] = [id_]*len(data_HR)\n",
    "                    result_temp['MS'] = pd.to_timedelta(data_HR['MS'],'ms')\n",
    "                    result_temp['Time'] = result_temp['Time'] + result_temp['MS']\n",
    "                    result_temp['HR'] = data_HR['CHANNEL']\n",
    "                    result_temp['RR'] = data_HR['RR']\n",
    "                    result_temp['SKINCONTACT'] = data_HR['SKINCONTACT']\n",
    "                    \n",
    "                    delta = 5\n",
    "                    max_timestamp = timestamp.replace(hour=23, minute=59, second=59)\n",
    "                    while True:\n",
    "                        timestamp = timestamp + timedelta(minutes=delta)\n",
    "                        \n",
    "                        sliceData = master_data[(master_data['New_Start_Date']<=timestamp) & (master_data['New_End_Date']>=timestamp) & (master_data['Experiment set']==f'set{set_}') & (master_data['Experiment id'] == f'id{id_}')]\n",
    "                        \n",
    "                        if timestamp > max_timestamp:\n",
    "                            print(f\"Slice data not found: {csv_}\")\n",
    "                            break\n",
    "\n",
    "                        if sliceData.empty:\n",
    "                            delta+=5\n",
    "                            continue\n",
    "                        \n",
    "                        result_temp[col_add] = [list(sliceData[col_add].values[0])]*len(data_HR)\n",
    "                        break\n",
    "                    \n",
    "                    frames = [result, result_temp]\n",
    "                    result = pd.concat(frames)\n",
    "                # break\n",
    "            result.to_excel(writer, sheet_name=f\"id{id_}\", index=False)\n",
    "            # display(result)\n",
    "            # break\n",
    "    # break"
   ]
  },
  {
   "cell_type": "markdown",
   "metadata": {},
   "source": [
    "## ECG Creation"
   ]
  },
  {
   "cell_type": "code",
   "execution_count": null,
   "metadata": {},
   "outputs": [],
   "source": [
    "from datetime import datetime\n",
    "for set_ in set:\n",
    "    print(f\"process {set_}\")\n",
    "    # with pd.ExcelWriter(f'ECG_set{set_}.xlsx', engine=\"xlsxwriter\", datetime_format='yyyy-mm-dd hh:mm:ss.000') as writer:        \n",
    "    for id_ in ID_arr:\n",
    "        result = pd.DataFrame(columns=[\"Time\",\"ECG\",\"MS\",\"experiment_set\", \"experiment_id\"])\n",
    "        for day_ in day_arr:\n",
    "            # print(f\"process set: {set_} day: {day_} id: {id_}\")\n",
    "            try:\n",
    "                csv_arr = os.listdir(f'HR/set{set_}/Day{day_}/ID{id_}/')\n",
    "            except FileNotFoundError:\n",
    "                print(f\"Not Found set: {set_} day: {day_} id: {id_}\")\n",
    "                continue\n",
    "            csv_arr = csv_arr[:len(csv_arr)//2]\n",
    "            for i in range(len(csv_arr)):\n",
    "                csv_arr[i] = csv_arr[i][-20:-4]\n",
    "\n",
    "            for csv_ in csv_arr:\n",
    "                result_temp = pd.DataFrame(columns=[\"Time\",\"ECG\",\"MS\",\"experiment_set\", \"experiment_id\"])\n",
    "                file_name_HR = f'HR/set{set_}/Day{day_}/ID{id_}/ECG_'+csv_+'.txt'\n",
    "                skiprows = 6\n",
    "                data_ECG = pd.read_csv(file_name_HR, skiprows=skiprows, sep=\" \", header=None, names=[\"CHANNEL\",\"MS\"], index_col=False)\n",
    "                \n",
    "                # break\n",
    "                timestamp = datetime.strptime(csv_, \"%d.%m.%Y_%H.%M\")\n",
    "                result_temp['Time'] = [timestamp]*len(data_ECG)\n",
    "                result_temp['experiment_set'] = [set_]*len(data_ECG)\n",
    "                result_temp['experiment_id'] = [id_]*len(data_ECG)\n",
    "                result_temp['MS'] = pd.to_timedelta(data_ECG['MS'],'ms')\n",
    "                result_temp['Time'] = result_temp['Time'] + result_temp['MS']\n",
    "                result_temp['ECG'] = data_ECG['CHANNEL']\n",
    "                frames = [result, result_temp]\n",
    "                result = pd.concat(frames)\n",
    "            # break\n",
    "        result.to_csv(f'ECG_set{set_}_id{id_}.csv', index=False)\n",
    "        # display(result)\n",
    "        # break\n",
    "    # break"
   ]
  }
 ],
 "metadata": {
  "kernelspec": {
   "display_name": "Python 3",
   "language": "python",
   "name": "python3"
  },
  "language_info": {
   "codemirror_mode": {
    "name": "ipython",
    "version": 3
   },
   "file_extension": ".py",
   "mimetype": "text/x-python",
   "name": "python",
   "nbconvert_exporter": "python",
   "pygments_lexer": "ipython3",
   "version": "3.10.11"
  }
 },
 "nbformat": 4,
 "nbformat_minor": 2
}
