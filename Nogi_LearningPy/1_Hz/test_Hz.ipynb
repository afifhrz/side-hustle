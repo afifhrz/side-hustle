{
 "cells": [
  {
   "cell_type": "code",
   "execution_count": 1,
   "metadata": {},
   "outputs": [],
   "source": [
    "import pandas as pd\n",
    "import numpy as np"
   ]
  },
  {
   "cell_type": "code",
   "execution_count": 2,
   "metadata": {},
   "outputs": [],
   "source": [
    "data = pd.read_excel(\"data_raw.xlsx\")\n"
   ]
  },
  {
   "cell_type": "code",
   "execution_count": 3,
   "metadata": {},
   "outputs": [],
   "source": [
    "nama_columns_raw = list(data.columns)\n",
    "nama_columns_loop = nama_columns_raw[1::3]"
   ]
  },
  {
   "cell_type": "code",
   "execution_count": 31,
   "metadata": {},
   "outputs": [
    {
     "data": {
      "text/html": [
       "<div>\n",
       "<style scoped>\n",
       "    .dataframe tbody tr th:only-of-type {\n",
       "        vertical-align: middle;\n",
       "    }\n",
       "\n",
       "    .dataframe tbody tr th {\n",
       "        vertical-align: top;\n",
       "    }\n",
       "\n",
       "    .dataframe thead th {\n",
       "        text-align: right;\n",
       "    }\n",
       "</style>\n",
       "<table border=\"1\" class=\"dataframe\">\n",
       "  <thead>\n",
       "    <tr style=\"text-align: right;\">\n",
       "      <th></th>\n",
       "      <th>Z(31.5Hz)</th>\n",
       "      <th>Z(63Hz)</th>\n",
       "      <th>Z(125Hz)</th>\n",
       "      <th>Z(250Hz)</th>\n",
       "      <th>Z(500Hz)</th>\n",
       "      <th>Z(1kHz)</th>\n",
       "      <th>Z(2kHz)</th>\n",
       "      <th>Z(4kHz)</th>\n",
       "      <th>Z(8kHz)</th>\n",
       "    </tr>\n",
       "  </thead>\n",
       "  <tbody>\n",
       "    <tr>\n",
       "      <th>0</th>\n",
       "      <td>79.210533</td>\n",
       "      <td>79.445183</td>\n",
       "      <td>84.072738</td>\n",
       "      <td>84.809014</td>\n",
       "      <td>82.663372</td>\n",
       "      <td>78.407687</td>\n",
       "      <td>73.555036</td>\n",
       "      <td>66.961591</td>\n",
       "      <td>64.431449</td>\n",
       "    </tr>\n",
       "    <tr>\n",
       "      <th>1</th>\n",
       "      <td>87.228659</td>\n",
       "      <td>85.375401</td>\n",
       "      <td>86.547265</td>\n",
       "      <td>86.079205</td>\n",
       "      <td>84.782941</td>\n",
       "      <td>79.781079</td>\n",
       "      <td>76.339993</td>\n",
       "      <td>71.540873</td>\n",
       "      <td>66.530833</td>\n",
       "    </tr>\n",
       "    <tr>\n",
       "      <th>2</th>\n",
       "      <td>78.779806</td>\n",
       "      <td>83.176574</td>\n",
       "      <td>81.899050</td>\n",
       "      <td>80.767122</td>\n",
       "      <td>79.637897</td>\n",
       "      <td>73.212307</td>\n",
       "      <td>69.327251</td>\n",
       "      <td>64.254647</td>\n",
       "      <td>62.647841</td>\n",
       "    </tr>\n",
       "    <tr>\n",
       "      <th>3</th>\n",
       "      <td>77.256692</td>\n",
       "      <td>76.972677</td>\n",
       "      <td>83.890321</td>\n",
       "      <td>81.330552</td>\n",
       "      <td>79.011875</td>\n",
       "      <td>74.441564</td>\n",
       "      <td>70.973497</td>\n",
       "      <td>69.465520</td>\n",
       "      <td>74.347618</td>\n",
       "    </tr>\n",
       "    <tr>\n",
       "      <th>4</th>\n",
       "      <td>77.159090</td>\n",
       "      <td>86.081583</td>\n",
       "      <td>82.596247</td>\n",
       "      <td>81.271980</td>\n",
       "      <td>77.960317</td>\n",
       "      <td>74.320196</td>\n",
       "      <td>73.051298</td>\n",
       "      <td>74.424815</td>\n",
       "      <td>77.517075</td>\n",
       "    </tr>\n",
       "  </tbody>\n",
       "</table>\n",
       "</div>"
      ],
      "text/plain": [
       "   Z(31.5Hz)    Z(63Hz)   Z(125Hz)   Z(250Hz)   Z(500Hz)    Z(1kHz)  \\\n",
       "0  79.210533  79.445183  84.072738  84.809014  82.663372  78.407687   \n",
       "1  87.228659  85.375401  86.547265  86.079205  84.782941  79.781079   \n",
       "2  78.779806  83.176574  81.899050  80.767122  79.637897  73.212307   \n",
       "3  77.256692  76.972677  83.890321  81.330552  79.011875  74.441564   \n",
       "4  77.159090  86.081583  82.596247  81.271980  77.960317  74.320196   \n",
       "\n",
       "     Z(2kHz)    Z(4kHz)    Z(8kHz)  \n",
       "0  73.555036  66.961591  64.431449  \n",
       "1  76.339993  71.540873  66.530833  \n",
       "2  69.327251  64.254647  62.647841  \n",
       "3  70.973497  69.465520  74.347618  \n",
       "4  73.051298  74.424815  77.517075  "
      ]
     },
     "execution_count": 31,
     "metadata": {},
     "output_type": "execute_result"
    }
   ],
   "source": [
    "result = []\n",
    "for count, col in enumerate(nama_columns_loop):\n",
    "    # print(count,col)\n",
    "    data_1 = 10**(data.iloc[:,[count*3]]/10)\n",
    "    # print(data_1)\n",
    "    data_2 = 10**(data.iloc[:,[count*3+1]]/10)\n",
    "    # print(data_2)\n",
    "    data_3 = 10**(data.iloc[:,[count*3+2]]/10)\n",
    "    # print(data_3)\n",
    "    hasil = data_1.to_numpy() + data_2.to_numpy() + data_3.to_numpy()\n",
    "    # print(hasil)\n",
    "    hasil = 10*np.log10(hasil)\n",
    "    result.append(hasil.flatten().tolist())\n",
    "\n",
    "result = pd.DataFrame(result, index=nama_columns_loop)\n",
    "result = result.T\n",
    "result\n"
   ]
  }
 ],
 "metadata": {
  "kernelspec": {
   "display_name": "Python 3.8.10 64-bit",
   "language": "python",
   "name": "python3"
  },
  "language_info": {
   "codemirror_mode": {
    "name": "ipython",
    "version": 3
   },
   "file_extension": ".py",
   "mimetype": "text/x-python",
   "name": "python",
   "nbconvert_exporter": "python",
   "pygments_lexer": "ipython3",
   "version": "3.8.10"
  },
  "orig_nbformat": 4,
  "vscode": {
   "interpreter": {
    "hash": "565333eb9d941203b79861636394ff2b4b7537ff3428fce23d2e9e4bbc4eed31"
   }
  }
 },
 "nbformat": 4,
 "nbformat_minor": 2
}
