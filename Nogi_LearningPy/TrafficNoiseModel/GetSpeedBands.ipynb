{
 "cells": [
  {
   "cell_type": "code",
   "execution_count": 4,
   "metadata": {},
   "outputs": [],
   "source": [
    "import requests\n",
    "import json\n",
    "import pandas as pd\n",
    "\n",
    "looping_iter = 119\n",
    "\n",
    "for i in range(0,looping_iter):\n",
    "  skip_val = i*500\n",
    "  if i == 0:\n",
    "    url = f\"http://datamall2.mytransport.sg/ltaodataservice/v3/TrafficSpeedBands\"\n",
    "  else:\n",
    "    url = f\"http://datamall2.mytransport.sg/ltaodataservice/v3/TrafficSpeedBands?$skip={skip_val}\"\n",
    "\n",
    "  payload={}\n",
    "  headers = {\n",
    "    'AccountKey': '1+Gn9oA3QDqbByMhI0GUWQ==',\n",
    "    'Accept': 'application/json'\n",
    "  }\n",
    "\n",
    "  response = requests.request(\"GET\", url, headers=headers, data=payload)\n",
    "  responseDict = json.loads(response.text)\n",
    "  df = pd.DataFrame.from_records(responseDict['value'])\n",
    "  nama_folder = \"apagitukek\"\n",
    "  df.to_excel(f\"{nama_folder}/dataTrafficSpeedBands{skip_val}.xlsx\")"
   ]
  }
 ],
 "metadata": {
  "kernelspec": {
   "display_name": "Python 3.7.3 64-bit ('Anaconda3')",
   "language": "python",
   "name": "python3"
  },
  "language_info": {
   "codemirror_mode": {
    "name": "ipython",
    "version": 3
   },
   "file_extension": ".py",
   "mimetype": "text/x-python",
   "name": "python",
   "nbconvert_exporter": "python",
   "pygments_lexer": "ipython3",
   "version": "3.7.3"
  },
  "orig_nbformat": 4,
  "vscode": {
   "interpreter": {
    "hash": "da47a208def439d94d1e1e3002bfe31f5b5835ef55c2e74dfe2be3077a0c69b9"
   }
  }
 },
 "nbformat": 4,
 "nbformat_minor": 2
}
