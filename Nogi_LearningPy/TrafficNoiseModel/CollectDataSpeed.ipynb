{
 "cells": [
  {
   "cell_type": "code",
   "execution_count": null,
   "metadata": {},
   "outputs": [],
   "source": [
    "import pandas as pd\n",
    "df = pd.read_excel(f'data_speed_bands/dataTrafficSpeedBands0.xlsx')\n",
    "for i in range(1,119):\n",
    "    skip_val = i*500\n",
    "    df_temp = pd.read_excel(f'data_speed_bands/dataTrafficSpeedBands{skip_val}.xlsx')\n",
    "    df = pd.concat([df,df_temp])"
   ]
  },
  {
   "cell_type": "code",
   "execution_count": 16,
   "metadata": {},
   "outputs": [],
   "source": [
    "df = df[(df['RoadCategory'] == 'A') | (df['RoadCategory'] == 'B')].reset_index().drop(['index', 'Unnamed: 0'], axis=1)"
   ]
  },
  {
   "cell_type": "code",
   "execution_count": 29,
   "metadata": {},
   "outputs": [
    {
     "data": {
      "text/plain": [
       "16746"
      ]
     },
     "execution_count": 29,
     "metadata": {},
     "output_type": "execute_result"
    }
   ],
   "source": [
    "temp_data = []\n",
    "temp_data_avg = []\n",
    "for index, data in df.iterrows():\n",
    "    # calculate Max Speed\n",
    "    if data['MaximumSpeed']>=999:\n",
    "        temp_data.append(data['MinimumSpeed']+9)\n",
    "    else:\n",
    "        temp_data.append(data['MaximumSpeed'])\n",
    "        \n",
    "    # calculate avg\n",
    "    if data['MaximumSpeed']>=999:\n",
    "        temp_data_avg.append((data['MinimumSpeed']+9+data['MinimumSpeed'])/2)\n",
    "    else:\n",
    "        temp_data_avg.append((data['MaximumSpeed']+data['MinimumSpeed'])/2)\n",
    "        \n",
    "len(temp_data)\n",
    "len(temp_data_avg)"
   ]
  },
  {
   "cell_type": "code",
   "execution_count": 30,
   "metadata": {},
   "outputs": [],
   "source": [
    "df['MaximumSpeed']=temp_data\n",
    "df['AverageSpeed']=temp_data_avg\n"
   ]
  },
  {
   "cell_type": "code",
   "execution_count": 32,
   "metadata": {},
   "outputs": [],
   "source": [
    "df.head()\n",
    "df.to_excel(\"finalDataSpeedBands.xlsx\")"
   ]
  }
 ],
 "metadata": {
  "kernelspec": {
   "display_name": "Python 3.7.3 64-bit ('Anaconda3')",
   "language": "python",
   "name": "python3"
  },
  "language_info": {
   "codemirror_mode": {
    "name": "ipython",
    "version": 3
   },
   "file_extension": ".py",
   "mimetype": "text/x-python",
   "name": "python",
   "nbconvert_exporter": "python",
   "pygments_lexer": "ipython3",
   "version": "3.7.3"
  },
  "orig_nbformat": 4,
  "vscode": {
   "interpreter": {
    "hash": "da47a208def439d94d1e1e3002bfe31f5b5835ef55c2e74dfe2be3077a0c69b9"
   }
  }
 },
 "nbformat": 4,
 "nbformat_minor": 2
}
