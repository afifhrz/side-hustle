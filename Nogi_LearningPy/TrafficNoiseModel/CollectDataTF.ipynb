{
 "cells": [
  {
   "cell_type": "code",
   "execution_count": 3,
   "metadata": {},
   "outputs": [
    {
     "data": {
      "text/plain": [
       "2"
      ]
     },
     "execution_count": 3,
     "metadata": {},
     "output_type": "execute_result"
    }
   ],
   "source": [
    "import json\n",
    "f = open('traffic_flow_20230509.txt')\n",
    "data = json.load(f)\n",
    "len(data)"
   ]
  },
  {
   "cell_type": "code",
   "execution_count": 8,
   "metadata": {},
   "outputs": [
    {
     "data": {
      "text/html": [
       "<div>\n",
       "<style scoped>\n",
       "    .dataframe tbody tr th:only-of-type {\n",
       "        vertical-align: middle;\n",
       "    }\n",
       "\n",
       "    .dataframe tbody tr th {\n",
       "        vertical-align: top;\n",
       "    }\n",
       "\n",
       "    .dataframe thead th {\n",
       "        text-align: right;\n",
       "    }\n",
       "</style>\n",
       "<table border=\"1\" class=\"dataframe\">\n",
       "  <thead>\n",
       "    <tr style=\"text-align: right;\">\n",
       "      <th></th>\n",
       "      <th>Date</th>\n",
       "      <th>EndLat</th>\n",
       "      <th>EndLon</th>\n",
       "      <th>HourOfDate</th>\n",
       "      <th>LinkID</th>\n",
       "      <th>RoadCat</th>\n",
       "      <th>RoadName</th>\n",
       "      <th>StartLat</th>\n",
       "      <th>StartLon</th>\n",
       "      <th>Volume</th>\n",
       "    </tr>\n",
       "  </thead>\n",
       "  <tbody>\n",
       "    <tr>\n",
       "      <th>0</th>\n",
       "      <td>27/11/2022</td>\n",
       "      <td>1.32835885</td>\n",
       "      <td>103.6366913</td>\n",
       "      <td>8</td>\n",
       "      <td>103104995</td>\n",
       "      <td>CAT2</td>\n",
       "      <td>TUAS VIADUCT</td>\n",
       "      <td>1.327187255</td>\n",
       "      <td>103.6355854</td>\n",
       "      <td>282</td>\n",
       "    </tr>\n",
       "    <tr>\n",
       "      <th>1</th>\n",
       "      <td>27/11/2022</td>\n",
       "      <td>1.32835885</td>\n",
       "      <td>103.6366913</td>\n",
       "      <td>7</td>\n",
       "      <td>103104995</td>\n",
       "      <td>CAT2</td>\n",
       "      <td>TUAS VIADUCT</td>\n",
       "      <td>1.327187255</td>\n",
       "      <td>103.6355854</td>\n",
       "      <td>310</td>\n",
       "    </tr>\n",
       "    <tr>\n",
       "      <th>2</th>\n",
       "      <td>20/11/2022</td>\n",
       "      <td>1.32835885</td>\n",
       "      <td>103.6366913</td>\n",
       "      <td>8</td>\n",
       "      <td>103104995</td>\n",
       "      <td>CAT2</td>\n",
       "      <td>TUAS VIADUCT</td>\n",
       "      <td>1.327187255</td>\n",
       "      <td>103.6355854</td>\n",
       "      <td>318</td>\n",
       "    </tr>\n",
       "    <tr>\n",
       "      <th>3</th>\n",
       "      <td>06/11/2022</td>\n",
       "      <td>1.32835885</td>\n",
       "      <td>103.6366913</td>\n",
       "      <td>8</td>\n",
       "      <td>103104995</td>\n",
       "      <td>CAT2</td>\n",
       "      <td>TUAS VIADUCT</td>\n",
       "      <td>1.327187255</td>\n",
       "      <td>103.6355854</td>\n",
       "      <td>324</td>\n",
       "    </tr>\n",
       "    <tr>\n",
       "      <th>4</th>\n",
       "      <td>13/11/2022</td>\n",
       "      <td>1.32835885</td>\n",
       "      <td>103.6366913</td>\n",
       "      <td>8</td>\n",
       "      <td>103104995</td>\n",
       "      <td>CAT2</td>\n",
       "      <td>TUAS VIADUCT</td>\n",
       "      <td>1.327187255</td>\n",
       "      <td>103.6355854</td>\n",
       "      <td>336</td>\n",
       "    </tr>\n",
       "  </tbody>\n",
       "</table>\n",
       "</div>"
      ],
      "text/plain": [
       "         Date      EndLat       EndLon HourOfDate     LinkID RoadCat  \\\n",
       "0  27/11/2022  1.32835885  103.6366913          8  103104995    CAT2   \n",
       "1  27/11/2022  1.32835885  103.6366913          7  103104995    CAT2   \n",
       "2  20/11/2022  1.32835885  103.6366913          8  103104995    CAT2   \n",
       "3  06/11/2022  1.32835885  103.6366913          8  103104995    CAT2   \n",
       "4  13/11/2022  1.32835885  103.6366913          8  103104995    CAT2   \n",
       "\n",
       "       RoadName     StartLat     StartLon Volume  \n",
       "0  TUAS VIADUCT  1.327187255  103.6355854    282  \n",
       "1  TUAS VIADUCT  1.327187255  103.6355854    310  \n",
       "2  TUAS VIADUCT  1.327187255  103.6355854    318  \n",
       "3  TUAS VIADUCT  1.327187255  103.6355854    324  \n",
       "4  TUAS VIADUCT  1.327187255  103.6355854    336  "
      ]
     },
     "execution_count": 8,
     "metadata": {},
     "output_type": "execute_result"
    }
   ],
   "source": [
    "import pandas as pd\n",
    "df = pd.DataFrame(data['Value'])\n",
    "df.head()"
   ]
  },
  {
   "cell_type": "code",
   "execution_count": 12,
   "metadata": {},
   "outputs": [
    {
     "data": {
      "text/plain": [
       "array(['CAT2', 'CAT1', 'SLIP_ROAD', 'CAT3', 'CAT5', 'CAT4'], dtype=object)"
      ]
     },
     "execution_count": 12,
     "metadata": {},
     "output_type": "execute_result"
    }
   ],
   "source": [
    "df['RoadCat'].unique()"
   ]
  },
  {
   "cell_type": "code",
   "execution_count": 15,
   "metadata": {},
   "outputs": [
    {
     "data": {
      "text/plain": [
       "CAT2    33846\n",
       "CAT1    20619\n",
       "Name: RoadCat, dtype: int64"
      ]
     },
     "execution_count": 15,
     "metadata": {},
     "output_type": "execute_result"
    }
   ],
   "source": [
    "df_filtered = df[(df['RoadCat'] == 'CAT1') | (df['RoadCat'] == 'CAT2')]\n",
    "df_filtered['RoadCat'].value_counts()"
   ]
  },
  {
   "cell_type": "code",
   "execution_count": 16,
   "metadata": {},
   "outputs": [],
   "source": [
    "df_filtered.to_excel(\"finalDataTrafficFlow.xlsx\")"
   ]
  }
 ],
 "metadata": {
  "kernelspec": {
   "display_name": "Python 3.7.3 64-bit ('Anaconda3')",
   "language": "python",
   "name": "python3"
  },
  "language_info": {
   "codemirror_mode": {
    "name": "ipython",
    "version": 3
   },
   "file_extension": ".py",
   "mimetype": "text/x-python",
   "name": "python",
   "nbconvert_exporter": "python",
   "pygments_lexer": "ipython3",
   "version": "3.7.3"
  },
  "orig_nbformat": 4,
  "vscode": {
   "interpreter": {
    "hash": "da47a208def439d94d1e1e3002bfe31f5b5835ef55c2e74dfe2be3077a0c69b9"
   }
  }
 },
 "nbformat": 4,
 "nbformat_minor": 2
}
