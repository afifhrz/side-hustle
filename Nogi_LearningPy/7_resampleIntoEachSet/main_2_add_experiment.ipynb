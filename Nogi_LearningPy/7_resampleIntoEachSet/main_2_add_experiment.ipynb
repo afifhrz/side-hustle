{
 "cells": [
  {
   "cell_type": "code",
   "execution_count": 12,
   "metadata": {},
   "outputs": [],
   "source": [
    "import pandas as pd\n",
    "col_add = [\"Experiment set\",'Experiment id','subid', 'Thermal', 'Traffic noise levels', 'Speech']\n",
    "master_data = pd.read_excel(\"../0_dataset_master/Experiment_edited_V3.1b.xlsx\", usecols=[\"Start Date\",\"Time_thermal\"]+col_add)\n",
    "\n",
    "new = master_data['Time_thermal'].str.split(\"-\", n=1, expand=True)\n",
    "master_data['New_Start_Date'] = pd.to_datetime(master_data['Start Date']).dt.date\n",
    "master_data['New_End_Date'] = pd.to_datetime(master_data['Start Date']).dt.date\n",
    "master_data['New_Start_Date'] = master_data['New_Start_Date'].astype(str) + ' ' + new[0]\n",
    "master_data['New_End_Date'] = master_data['New_End_Date'].astype(str) + ' ' + new[1]\n",
    "master_data['New_Start_Date'] = master_data['New_Start_Date'].astype('datetime64[ms]')\n",
    "master_data['New_End_Date'] = master_data['New_End_Date'].astype('datetime64[ms]')"
   ]
  },
  {
   "cell_type": "code",
   "execution_count": 13,
   "metadata": {},
   "outputs": [],
   "source": [
    "data_set = {}\n",
    "new_set = [6]\n",
    "ID_arr = [1,2,3,4,5,6]\n",
    "try:\n",
    "    for set_ in new_set:\n",
    "        data_set[\"set\"+str(set_)]={}\n",
    "        for id_ in ID_arr:\n",
    "            data_set[\"set\"+str(set_)][\"id\"+str(id_)] = pd.read_excel(f\"SkinT_set{set_}.xlsx\", sheet_name=f\"id{id_}\", parse_dates=['Time'], date_format=\"mixed\")\n",
    "except ValueError:\n",
    "    print(set_, id_)"
   ]
  },
  {
   "cell_type": "code",
   "execution_count": 3,
   "metadata": {},
   "outputs": [
    {
     "ename": "KeyError",
     "evalue": "'set1'",
     "output_type": "error",
     "traceback": [
      "\u001b[1;31m---------------------------------------------------------------------------\u001b[0m",
      "\u001b[1;31mKeyError\u001b[0m                                  Traceback (most recent call last)",
      "\u001b[1;32md:\\KARIR\\Side-hustle\\Nogi_LearningPy\\7_resampleIntoEachSet\\main_2_add_experiment.ipynb Cell 3\u001b[0m line \u001b[0;36m8\n\u001b[0;32m      <a href='vscode-notebook-cell:/d%3A/KARIR/Side-hustle/Nogi_LearningPy/7_resampleIntoEachSet/main_2_add_experiment.ipynb#W2sZmlsZQ%3D%3D?line=5'>6</a>\u001b[0m date_result \u001b[39m=\u001b[39m []\n\u001b[0;32m      <a href='vscode-notebook-cell:/d%3A/KARIR/Side-hustle/Nogi_LearningPy/7_resampleIntoEachSet/main_2_add_experiment.ipynb#W2sZmlsZQ%3D%3D?line=6'>7</a>\u001b[0m \u001b[39m# print(f\"process on {set_} id{id_}\")\u001b[39;00m\n\u001b[1;32m----> <a href='vscode-notebook-cell:/d%3A/KARIR/Side-hustle/Nogi_LearningPy/7_resampleIntoEachSet/main_2_add_experiment.ipynb#W2sZmlsZQ%3D%3D?line=7'>8</a>\u001b[0m \u001b[39mfor\u001b[39;00m _, row \u001b[39min\u001b[39;00m data_set[set_][\u001b[39m\"\u001b[39m\u001b[39mid\u001b[39m\u001b[39m\"\u001b[39m\u001b[39m+\u001b[39m\u001b[39mstr\u001b[39m(id_)]\u001b[39m.\u001b[39miterrows():\n\u001b[0;32m      <a href='vscode-notebook-cell:/d%3A/KARIR/Side-hustle/Nogi_LearningPy/7_resampleIntoEachSet/main_2_add_experiment.ipynb#W2sZmlsZQ%3D%3D?line=8'>9</a>\u001b[0m     date_ \u001b[39m=\u001b[39m row[\u001b[39m'\u001b[39m\u001b[39mTime\u001b[39m\u001b[39m'\u001b[39m]\n\u001b[0;32m     <a href='vscode-notebook-cell:/d%3A/KARIR/Side-hustle/Nogi_LearningPy/7_resampleIntoEachSet/main_2_add_experiment.ipynb#W2sZmlsZQ%3D%3D?line=9'>10</a>\u001b[0m     \u001b[39mif\u001b[39;00m date_\u001b[39m.\u001b[39mday \u001b[39m==\u001b[39m \u001b[39m13\u001b[39m:\n",
      "\u001b[1;31mKeyError\u001b[0m: 'set1'"
     ]
    }
   ],
   "source": [
    "# NEED TO REFINE cause of inconsistent date-format\n",
    "from datetime import datetime\n",
    "refineset = [\"set1\",\"set2\"]\n",
    "for set_ in refineset:\n",
    "    for id_ in ID_arr:\n",
    "        date_result = []\n",
    "        # print(f\"process on {set_} id{id_}\")\n",
    "        for _, row in data_set[set_][\"id\"+str(id_)].iterrows():\n",
    "            date_ = row['Time']\n",
    "            if date_.day == 13:\n",
    "                date_result.append(date_)\n",
    "                continue    \n",
    "            date_ = datetime.strptime(str(date_), \"%Y-%d-%m %H:%M:%S\")\n",
    "            date_result.append(date_)\n",
    "        data_set[set_][\"id\"+str(id_)].Time=date_result"
   ]
  },
  {
   "cell_type": "code",
   "execution_count": 15,
   "metadata": {},
   "outputs": [
    {
     "name": "stdout",
     "output_type": "stream",
     "text": [
      "process on set6 id1\n",
      "process on set6 id2\n",
      "process on set6 id3\n",
      "process on set6 id4\n",
      "process on set6 id5\n",
      "process on set6 id6\n"
     ]
    }
   ],
   "source": [
    "from datetime import datetime, timedelta\n",
    "for set_ in data_set.keys():\n",
    "    with pd.ExcelWriter(f\"SkinT_{set_}_adjustment.xlsx\", engine=\"xlsxwriter\") as writer:\n",
    "        for id_ in data_set[set_].keys():\n",
    "            print(f\"process on {set_} {id_}\")\n",
    "            temp_df = data_set[set_][id_]\n",
    "\n",
    "            slice_data = master_data[(master_data['Experiment set']==f'{set_}') & (master_data['Experiment id'] == f'{id_}')]\n",
    "            # display(slice_data)\n",
    "            resTemp = []\n",
    "\n",
    "            for index, row in temp_df.iterrows():\n",
    "                # print(row)\n",
    "                delta = 0\n",
    "                max_timestamp = row['Time'].replace(hour=23, minute=59, second=59)\n",
    "                # timestamp = datetime.strptime(str(row['Time']), \"%Y-%m-%d %H:%M:%S\")\n",
    "                timestamp = row['Time']\n",
    "                # print(timestamp.month)\n",
    "                while True:\n",
    "                    timestamp = timestamp + timedelta(minutes=delta)\n",
    "                    # display(slice_data['New_Start_Date'])\n",
    "                    sliced = slice_data[(slice_data['New_Start_Date']<=timestamp) & (slice_data['New_End_Date']>=timestamp)]\n",
    "                    # print(f\"Slice data not found: {timestamp}\")\n",
    "                    # break\n",
    "                    if timestamp > max_timestamp:\n",
    "                        # print(f\"Slice data not found: {row['Time']}\")\n",
    "                        resTemp.append([pd.NA]*len(col_add))\n",
    "                        break\n",
    "\n",
    "                    if sliced.empty:\n",
    "                        delta+=5\n",
    "                        continue\n",
    "                    # print(sliced)\n",
    "                    resTemp.append(list(sliced[col_add].values[0]))\n",
    "                    break\n",
    "        #         break\n",
    "        #     break\n",
    "        # break\n",
    "            \n",
    "            temp_df[col_add] = resTemp\n",
    "            # display(temp_df)\n",
    "            # break\n",
    "        # break\n",
    "\n",
    "            temp_df.to_excel(writer, sheet_name=f\"id{id_}\", index=False)"
   ]
  }
 ],
 "metadata": {
  "kernelspec": {
   "display_name": "Python 3",
   "language": "python",
   "name": "python3"
  },
  "language_info": {
   "codemirror_mode": {
    "name": "ipython",
    "version": 3
   },
   "file_extension": ".py",
   "mimetype": "text/x-python",
   "name": "python",
   "nbconvert_exporter": "python",
   "pygments_lexer": "ipython3",
   "version": "3.10.11"
  }
 },
 "nbformat": 4,
 "nbformat_minor": 2
}
