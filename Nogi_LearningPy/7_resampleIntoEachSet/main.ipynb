{
 "cells": [
  {
   "cell_type": "markdown",
   "metadata": {},
   "source": [
    "# Precondition SkinT_test"
   ]
  },
  {
   "cell_type": "code",
   "execution_count": 1,
   "metadata": {},
   "outputs": [],
   "source": [
    "import pandas as pd"
   ]
  },
  {
   "cell_type": "code",
   "execution_count": 2,
   "metadata": {},
   "outputs": [],
   "source": [
    "ID_arr = [1,2,3,4,5,6]\n",
    "csv_file_arr = [\"1\",\"2\",\"3\",\"4\"]\n",
    "day_arr = [1,2]\n",
    "set = [4,5,6]\n",
    "col_add = ['subid', 'Thermal', 'Traffic noise levels', 'Speech']\n",
    "\n",
    "date_dict = {\n",
    "    4: {\n",
    "        1:\"19\",\n",
    "        2:\"20\"\n",
    "    },\n",
    "    5: {\n",
    "        1:\"24\",\n",
    "        2:\"25\"\n",
    "    },\n",
    "    6: {\n",
    "        1:\"26\",\n",
    "        2:\"27\"\n",
    "    },\n",
    "}"
   ]
  },
  {
   "cell_type": "code",
   "execution_count": null,
   "metadata": {},
   "outputs": [],
   "source": [
    "for set_ in set:\n",
    "    with pd.ExcelWriter(f'SkinT_set{set_}.xlsx') as writer:        \n",
    "        for id_ in ID_arr:\n",
    "            result = pd.DataFrame(columns=[\"Time\",\"Unit\",\"1\",\"2\",\"3\",\"4\",\"Tmsk\"]+col_add)\n",
    "            for day_ in day_arr:\n",
    "                print(f\"Process on:{set_}/Day{day_}/ID{id_}\")\n",
    "                if set_==4 and day_==2 and id_==1:\n",
    "                    continue\n",
    "                result_temp = pd.DataFrame(columns=[\"Time\",\"Unit\",\"1\",\"2\",\"3\",\"4\",\"Tmsk\"]+col_add)\n",
    "                for csv_ in csv_file_arr:\n",
    "                    file_name = f\"database/Set {set_}/Day{day_}/ID{id_}-{csv_}_07{date_dict[set_][day_]}23.csv\"\n",
    "                    data_read = pd.read_csv(\n",
    "                        file_name, skiprows=19\n",
    "                    )\n",
    "                    result_temp['Time'] = data_read['Date/Time']\n",
    "                    result_temp['Unit'] = data_read['Unit']\n",
    "                    result_temp[csv_] = data_read['Value']\n",
    "\n",
    "                result_temp['Tmsk'] = 0.3*result_temp[\"1\"]+0.3*result_temp[\"2\"]+0.2*result_temp[\"3\"]+0.2*result_temp[\"4\"]\n",
    "                frames = [result, result_temp]\n",
    "                result = pd.concat(frames)\n",
    "            result['experiment_set'] = [set_]*len(result)\n",
    "            result['experiment_id'] = [id_]*len(result)\n",
    "            result.to_excel(writer, sheet_name=f\"id{id_}\", index=False)"
   ]
  },
  {
   "cell_type": "markdown",
   "metadata": {},
   "source": [
    "# Insert the mean data"
   ]
  },
  {
   "cell_type": "code",
   "execution_count": null,
   "metadata": {},
   "outputs": [],
   "source": [
    "master_data = pd.read_excel(\"Experiment_edited_V4.xlsx\")\n",
    "slice_data = master_data[['End Date',\"Experiment set\",'Experiment id', \"Time_thermal\"]]\n",
    "slice_data.head()"
   ]
  },
  {
   "cell_type": "code",
   "execution_count": 138,
   "metadata": {},
   "outputs": [],
   "source": [
    "data_set = {}\n",
    "new_set = [1,2,3,4,5,6]\n",
    "for set_ in new_set:\n",
    "    data_set[\"set\"+str(set_)]={}\n",
    "    for id_ in ID_arr:\n",
    "        data_set[\"set\"+str(set_)][\"id\"+str(id_)] = pd.read_excel(f\"SkinT_set{set_}.xlsx\", sheet_name=f\"id{id_}\", parse_dates=['Time'], date_format=\"mixed\")"
   ]
  },
  {
   "cell_type": "code",
   "execution_count": 139,
   "metadata": {},
   "outputs": [
    {
     "name": "stdout",
     "output_type": "stream",
     "text": [
      "process on set1 id1\n",
      "process on set1 id2\n",
      "process on set1 id3\n",
      "process on set1 id4\n",
      "process on set1 id5\n",
      "process on set1 id6\n",
      "process on set2 id1\n",
      "process on set2 id2\n",
      "process on set2 id3\n",
      "process on set2 id4\n",
      "process on set2 id5\n",
      "process on set2 id6\n"
     ]
    }
   ],
   "source": [
    "from datetime import datetime\n",
    "refineset = [\"set1\",\"set2\"]\n",
    "for set_ in refineset:\n",
    "    for id_ in ID_arr:\n",
    "        date_result = []\n",
    "        # print(f\"process on {set_} id{id_}\")\n",
    "        for _, row in data_set[set_][\"id\"+str(id_)].iterrows():\n",
    "            date_ = row['Time']\n",
    "            if date_.day == 13:\n",
    "                date_result.append(date_)\n",
    "                continue    \n",
    "            date_ = datetime.strptime(str(date_), \"%Y-%d-%m %H:%M:%S\")\n",
    "            date_result.append(date_)\n",
    "        data_set[set_][\"id\"+str(id_)].Time=date_result"
   ]
  },
  {
   "cell_type": "code",
   "execution_count": 141,
   "metadata": {},
   "outputs": [],
   "source": [
    "from datetime import datetime\n",
    "result_tmsk_avg = []\n",
    "try:\n",
    "    for _, row in slice_data.iterrows():\n",
    "        date = str(row[\"End Date\"].date())\n",
    "        start_clock, end_clock = row['Time_thermal'].split(\"-\")\n",
    "        start_time = date+\" \"+start_clock\n",
    "        end_time = date+\" \"+end_clock\n",
    "\n",
    "        end_time = datetime.strptime(end_time, \"%Y-%m-%d %H:%M\")\n",
    "        start_time = datetime.strptime(start_time, \"%Y-%m-%d %H:%M\")\n",
    "\n",
    "        # print(row)\n",
    "        # print(start_time)\n",
    "        # print(end_time)\n",
    "\n",
    "        dataFiltered = data_set[row['Experiment set']][row['Experiment id']][(end_time > data_set[row['Experiment set']][row['Experiment id']]['Time']) & (start_time <= data_set[row['Experiment set']][row['Experiment id']]['Time'])]\n",
    "        # print(dataFiltered)\n",
    "        # break\n",
    "        result_tmsk_avg.append(dataFiltered.Tmsk.mean(axis=0))\n",
    "except ValueError:\n",
    "    print(row) \n",
    "\n",
    "master_data['Average_tmsk'] = result_tmsk_avg"
   ]
  },
  {
   "cell_type": "code",
   "execution_count": 142,
   "metadata": {},
   "outputs": [],
   "source": [
    "master_data.to_excel(\"test.xlsx\", index=False)"
   ]
  }
 ],
 "metadata": {
  "kernelspec": {
   "display_name": "Python 3",
   "language": "python",
   "name": "python3"
  },
  "language_info": {
   "codemirror_mode": {
    "name": "ipython",
    "version": 3
   },
   "file_extension": ".py",
   "mimetype": "text/x-python",
   "name": "python",
   "nbconvert_exporter": "python",
   "pygments_lexer": "ipython3",
   "version": "3.10.11"
  }
 },
 "nbformat": 4,
 "nbformat_minor": 2
}
