{
 "cells": [
  {
   "cell_type": "code",
   "execution_count": 1,
   "metadata": {},
   "outputs": [],
   "source": [
    "import pandas as pd"
   ]
  },
  {
   "cell_type": "code",
   "execution_count": 2,
   "metadata": {},
   "outputs": [],
   "source": [
    "data_ref = pd.read_excel(\"Rw_ref_curves.xlsx\", sheet_name=\"Ref\")\n",
    "data_test = pd.read_excel(\"Rw_ref_curves.xlsx\", sheet_name=\"test_result\")"
   ]
  },
  {
   "cell_type": "code",
   "execution_count": 3,
   "metadata": {},
   "outputs": [],
   "source": [
    "nama_columns_raw = list(data_ref.columns)\n",
    "nama_columns_loop = nama_columns_raw[1:]"
   ]
  },
  {
   "cell_type": "code",
   "execution_count": 4,
   "metadata": {},
   "outputs": [
    {
     "name": "stdout",
     "output_type": "stream",
     "text": [
      "done index:  0\n",
      "done index:  1\n",
      "done index:  2\n"
     ]
    }
   ],
   "source": [
    "# num row, rw\n",
    "result = []\n",
    "\n",
    "for index, row in data_test.iterrows():\n",
    "    num_row_loop = len(data_ref)\n",
    "    check_loop = False\n",
    "    for num_row in range(len(data_ref)):\n",
    "        num_row_loop -=1\n",
    "        sum_dev = 0\n",
    "        if not check_loop:\n",
    "            for col in nama_columns_loop:\n",
    "                if row[col] > data_ref[col][num_row_loop]:\n",
    "                    if col == 3150:\n",
    "                        if sum_dev < 32:\n",
    "                            check_loop = True\n",
    "                            result.append([num_row_loop,  data_ref['Rw'][num_row_loop]])\n",
    "                            print(\"done index: \", index)\n",
    "                    else:\n",
    "                        continue\n",
    "                else:\n",
    "                    if abs(row[col] - data_ref[col][num_row_loop]) < 8:\n",
    "                        sum_dev += abs(row[col] - data_ref[col][num_row_loop])\n",
    "                        if sum_dev > 32:\n",
    "                            break\n",
    "                        if col == 3150:\n",
    "                            if sum_dev < 32:\n",
    "                                check_loop = True\n",
    "                                result.append([num_row_loop,  data_ref['Rw'][num_row_loop]])\n",
    "                                print(\"done index: \", index)\n",
    "                        else:\n",
    "                            continue\n",
    "                    else:\n",
    "                        break\n",
    "        else:\n",
    "            break"
   ]
  },
  {
   "cell_type": "code",
   "execution_count": 5,
   "metadata": {},
   "outputs": [
    {
     "data": {
      "text/plain": [
       "[[13, 28], [16, 31], [9, 24]]"
      ]
     },
     "execution_count": 5,
     "metadata": {},
     "output_type": "execute_result"
    }
   ],
   "source": [
    "result"
   ]
  },
  {
   "cell_type": "code",
   "execution_count": 7,
   "metadata": {},
   "outputs": [
    {
     "data": {
      "text/html": [
       "<div>\n",
       "<style scoped>\n",
       "    .dataframe tbody tr th:only-of-type {\n",
       "        vertical-align: middle;\n",
       "    }\n",
       "\n",
       "    .dataframe tbody tr th {\n",
       "        vertical-align: top;\n",
       "    }\n",
       "\n",
       "    .dataframe thead th {\n",
       "        text-align: right;\n",
       "    }\n",
       "</style>\n",
       "<table border=\"1\" class=\"dataframe\">\n",
       "  <thead>\n",
       "    <tr style=\"text-align: right;\">\n",
       "      <th></th>\n",
       "      <th>Rw</th>\n",
       "      <th>100</th>\n",
       "      <th>125</th>\n",
       "      <th>160</th>\n",
       "      <th>200</th>\n",
       "      <th>250</th>\n",
       "      <th>315</th>\n",
       "      <th>400</th>\n",
       "      <th>500</th>\n",
       "      <th>630</th>\n",
       "      <th>800</th>\n",
       "      <th>1000</th>\n",
       "      <th>1250</th>\n",
       "      <th>1600</th>\n",
       "      <th>2000</th>\n",
       "      <th>2500</th>\n",
       "      <th>3150</th>\n",
       "    </tr>\n",
       "  </thead>\n",
       "  <tbody>\n",
       "    <tr>\n",
       "      <th>0</th>\n",
       "      <td>28</td>\n",
       "      <td>14.086895</td>\n",
       "      <td>15.643039</td>\n",
       "      <td>14.734772</td>\n",
       "      <td>10.810118</td>\n",
       "      <td>23.134624</td>\n",
       "      <td>19.246317</td>\n",
       "      <td>27.036881</td>\n",
       "      <td>28.773666</td>\n",
       "      <td>29.590029</td>\n",
       "      <td>29.215850</td>\n",
       "      <td>30.744908</td>\n",
       "      <td>31.584132</td>\n",
       "      <td>32.354183</td>\n",
       "      <td>33.633289</td>\n",
       "      <td>38.657615</td>\n",
       "      <td>38.656940</td>\n",
       "    </tr>\n",
       "    <tr>\n",
       "      <th>1</th>\n",
       "      <td>31</td>\n",
       "      <td>9.907264</td>\n",
       "      <td>9.743292</td>\n",
       "      <td>12.098161</td>\n",
       "      <td>15.182877</td>\n",
       "      <td>25.987832</td>\n",
       "      <td>24.291513</td>\n",
       "      <td>31.832788</td>\n",
       "      <td>31.761035</td>\n",
       "      <td>32.539849</td>\n",
       "      <td>32.180337</td>\n",
       "      <td>32.769422</td>\n",
       "      <td>33.670621</td>\n",
       "      <td>33.293505</td>\n",
       "      <td>34.796131</td>\n",
       "      <td>38.996668</td>\n",
       "      <td>38.918676</td>\n",
       "    </tr>\n",
       "    <tr>\n",
       "      <th>2</th>\n",
       "      <td>24</td>\n",
       "      <td>12.794811</td>\n",
       "      <td>15.746181</td>\n",
       "      <td>12.330688</td>\n",
       "      <td>6.152857</td>\n",
       "      <td>15.468040</td>\n",
       "      <td>15.217694</td>\n",
       "      <td>23.967032</td>\n",
       "      <td>26.239201</td>\n",
       "      <td>27.696377</td>\n",
       "      <td>26.838040</td>\n",
       "      <td>27.907743</td>\n",
       "      <td>26.328074</td>\n",
       "      <td>27.621601</td>\n",
       "      <td>29.880161</td>\n",
       "      <td>34.606700</td>\n",
       "      <td>33.405624</td>\n",
       "    </tr>\n",
       "  </tbody>\n",
       "</table>\n",
       "</div>"
      ],
      "text/plain": [
       "   Rw        100        125        160        200        250        315  \\\n",
       "0  28  14.086895  15.643039  14.734772  10.810118  23.134624  19.246317   \n",
       "1  31   9.907264   9.743292  12.098161  15.182877  25.987832  24.291513   \n",
       "2  24  12.794811  15.746181  12.330688   6.152857  15.468040  15.217694   \n",
       "\n",
       "         400        500        630        800       1000       1250  \\\n",
       "0  27.036881  28.773666  29.590029  29.215850  30.744908  31.584132   \n",
       "1  31.832788  31.761035  32.539849  32.180337  32.769422  33.670621   \n",
       "2  23.967032  26.239201  27.696377  26.838040  27.907743  26.328074   \n",
       "\n",
       "        1600       2000       2500       3150  \n",
       "0  32.354183  33.633289  38.657615  38.656940  \n",
       "1  33.293505  34.796131  38.996668  38.918676  \n",
       "2  27.621601  29.880161  34.606700  33.405624  "
      ]
     },
     "execution_count": 7,
     "metadata": {},
     "output_type": "execute_result"
    }
   ],
   "source": [
    "data_test['Rw'] = pd.DataFrame(result)[1]\n",
    "data_test"
   ]
  },
  {
   "cell_type": "code",
   "execution_count": null,
   "metadata": {},
   "outputs": [],
   "source": [
    "# checking result\n",
    "for count, data in enumerate(result):\n",
    "    data2 = data_ref.iloc[[data[0]]].T\n",
    "    data1 = data_test.iloc[[count]].T\n",
    "\n",
    "    print(data2[data[0]]-data1[count])\n"
   ]
  }
 ],
 "metadata": {
  "kernelspec": {
   "display_name": "Python 3.8.10 64-bit",
   "language": "python",
   "name": "python3"
  },
  "language_info": {
   "codemirror_mode": {
    "name": "ipython",
    "version": 3
   },
   "file_extension": ".py",
   "mimetype": "text/x-python",
   "name": "python",
   "nbconvert_exporter": "python",
   "pygments_lexer": "ipython3",
   "version": "3.8.10"
  },
  "orig_nbformat": 4,
  "vscode": {
   "interpreter": {
    "hash": "565333eb9d941203b79861636394ff2b4b7537ff3428fce23d2e9e4bbc4eed31"
   }
  }
 },
 "nbformat": 4,
 "nbformat_minor": 2
}
