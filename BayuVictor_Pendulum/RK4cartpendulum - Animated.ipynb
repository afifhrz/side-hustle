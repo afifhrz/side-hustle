{
 "cells": [
  {
   "cell_type": "code",
   "execution_count": 1,
   "metadata": {},
   "outputs": [],
   "source": [
    "import numpy as np \n",
    "\n",
    "# import matplotlib\n",
    "# matplotlib.use('TKAgg')\n",
    "\n",
    "import matplotlib.pyplot as pp\n",
    "import matplotlib.animation as animation\n",
    "from matplotlib.patches import Rectangle\n",
    "\n",
    "def accel_x (thetadot, xdot, theta):\n",
    "    return (2*F+2*F*l**2*m-2*b*xdot-2*b*l**2*m*xdot+2*l**3*m**2*thetadot**2*np.sin(theta)+2*l*m*thetadot**2*np.sin(theta)+g*l**2*m**2*np.sin(2*theta))/(2*M+l**2*m**2+2*M*l**2*m+2*m-l**2*m**2*np.cos(2*theta))*mint\n",
    "\n",
    "def accel_theta (thetadot, xdot, theta):\n",
    "    return (-2*F*l*m*np.cos(theta)+2*b*l*m*xdot*np.cos(theta)-2*g*l*m**2*np.sin(theta)-2*M*g*l*m*np.sin(theta)-l**2*m**2*thetadot**2*np.sin(2*theta))/(2*M+l**2*m**2+2*M*l**2*m+2*m-l**2*m**2*np.cos(2*theta))*mint\n",
    "\n",
    "# Crane Specification\n",
    "F = 0\n",
    "M = 5\n",
    "b = 1\n",
    "\n",
    "#pendulum_specification\n",
    "m = 3.0\n",
    "g = 9.8\n",
    "mint = 12.0\n",
    "l = 2.0\n",
    "initial_angle = 90.0\n",
    "\n",
    "# Time Step\n",
    "initial_step = 0\n",
    "h = 0.01\n",
    "final_step = 10.0\n",
    "t = np.arange(initial_step, final_step, h)\n",
    "n = len(t) \n",
    "\n",
    "# theta punya\n",
    "y=np.zeros(n)\n",
    "y_v=np.zeros(n)\n",
    "y[0] = np.radians(initial_angle) \n",
    "y_v[0] = np.radians(0.0)\n",
    "\n",
    "# crane punya\n",
    "x=np.zeros(n)\n",
    "x_v=np.zeros(n)\n",
    "x[0] = 0 \n",
    "x_v[0] = 0\n",
    "\n",
    "for i in range(0, n-1): \n",
    "    k1y = h*y_v[i]\n",
    "    k1vy = h*accel_theta(y_v[i], x_v[i], y[i])\n",
    "\n",
    "    k1x = h*x_v[i]\n",
    "    k1vx = h*accel_x(y_v[i], x_v[i], y[i])\n",
    "\n",
    "    k2y = h*(y_v[i]+0.5*k1vy)\n",
    "    k2vy = h*accel_theta(y_v[i]+0.5*k1vy, x_v[i]+0.5*k1vx, y[i]+0.5*k1y)\n",
    "    \n",
    "    k2x = h*(x_v[i]+0.5*k1vx)\n",
    "    k2vx = h*accel_x(y_v[i]+0.5*k1vy, x_v[i]+0.5*k1vx, y[i]+0.5*k1y)\n",
    "\n",
    "    k3y = h*(y_v[i]+0.5*k2vy)\n",
    "    k3vy = h*accel_theta(y_v[i]+0.5*k2vy, x_v[i]+0.5*k2vx, y[i]+0.5*k2y)\n",
    "    \n",
    "    k3x = h*(x_v[i]+0.5*k2vx)\n",
    "    k3vx = h*accel_x(y_v[i]+0.5*k2vy, x_v[i]+0.5*k2vx, y[i]+0.5*k2y)\n",
    "\n",
    "    k4y = h*(y_v[i]+k3vy)\n",
    "    k4vy = h*accel_theta(y_v[i]+k3vy, x_v[i]+k3vx, y[i]+k3y)\n",
    "    \n",
    "    k4x = h*(x_v[i]+k3vx)\n",
    "    k4vx = h*accel_x(y_v[i]+k3vy, x_v[i]+k3vx, y[i]+k3y)\n",
    "\n",
    "    # Update next value of y \n",
    "    y[i+1] = y[i] + (k1y + 2 * k2y + 2 * k3y + k4y) / 6.0 \n",
    "    y_v[i+1] = y_v[i] + (k1vy + 2 * k2vy + 2 * k3vy + k4vy) / 6.0\n",
    "\n",
    "    # Update next value of x\n",
    "    x[i+1] = x[i] + (k1x + 2 * k2x + 2 * k3x + k4x) / 6.0 \n",
    "    x_v[i+1] = x_v[i] + (k1vx + 2 * k2vx + 2 * k3vx + k4vx) / 6.0\n",
    "\n",
    "# plt.plot(t, np.degrees(y))\n",
    "# plt.title('Pendulum Motion:')\n",
    "# plt.xlabel('Time (s)')\n",
    "# plt.ylabel('Angle (deg)')\n",
    "# plt.grid(True)\n",
    "# plt.show()"
   ]
  },
  {
   "cell_type": "code",
   "execution_count": 90,
   "metadata": {},
   "outputs": [
    {
     "data": {
      "image/png": "[encoded data removed]",
      "text/plain": [
       "<Figure size 432x288 with 5 Axes>"
      ]
     },
     "metadata": {
      "needs_background": "light"
     },
     "output_type": "display_data"
    }
   ],
   "source": [
    "\n",
    "\n",
    "pp.show()"
   ]
  },
  {
   "cell_type": "code",
   "execution_count": 92,
   "metadata": {},
   "outputs": [
    {
     "data": {
      "image/png": "[encoded data removed]",
      "text/plain": [
       "<Figure size 432x288 with 1 Axes>"
      ]
     },
     "metadata": {
      "needs_background": "light"
     },
     "output_type": "display_data"
    }
   ],
   "source": [
    "import matplotlib.pyplot as plt\n",
    "from matplotlib import animation\n",
    "from numpy import random \n",
    "\n",
    "fig = plt.figure()\n",
    "ax1 = plt.axes(xlim=(-108, -104), ylim=(31,34))\n",
    "line, = ax1.plot([], [], lw=2)\n",
    "plt.xlabel('Longitude')\n",
    "plt.ylabel('Latitude')\n",
    "\n",
    "plotlays, plotcols = [2], [\"black\",\"red\"]\n",
    "lines = []\n",
    "for index in range(2):\n",
    "    lobj = ax1.plot([],[],lw=2,color=plotcols[index])[0]\n",
    "    lines.append(lobj)\n",
    "\n",
    "\n",
    "def init():\n",
    "    for line in lines:\n",
    "        line.set_data([],[])\n",
    "    return lines\n",
    "\n",
    "x1,y1 = [],[]\n",
    "x2,y2 = [],[]\n",
    "\n",
    "# fake data\n",
    "frame_num = 100\n",
    "gps_data = [-104 - (4 * random.rand(2, frame_num)), 31 + (3 * random.rand(2, frame_num))]\n",
    "\n",
    "\n",
    "def animate(i):\n",
    "\n",
    "    x = gps_data[0][0, i]\n",
    "    y = gps_data[1][0, i]\n",
    "    x1.append(x)\n",
    "    y1.append(y)\n",
    "\n",
    "    x = gps_data[0][1,i]\n",
    "    y = gps_data[1][1,i]\n",
    "    x2.append(x)\n",
    "    y2.append(y)\n",
    "\n",
    "    xlist = [x1, x2]\n",
    "    ylist = [y1, y2]\n",
    "\n",
    "    #for index in range(0,1):\n",
    "    for lnum,line in enumerate(lines):\n",
    "        line.set_data(xlist[lnum], ylist[lnum]) # set data for each line separately. \n",
    "\n",
    "    return lines\n",
    "\n",
    "# call the animator.  blit=True means only re-draw the parts that have changed.\n",
    "anim = animation.FuncAnimation(fig, animate, init_func=init,\n",
    "                               frames=frame_num, interval=10, blit=True)\n",
    "\n",
    "\n",
    "plt.show()"
   ]
  }
 ],
 "metadata": {
  "interpreter": {
   "hash": "62462b336cc45a08a09365a2a3ab907ceca0b5e4aa9a51bb3d44f3b3da7c8e99"
  },
  "kernelspec": {
   "display_name": "Python 3.8.5 64-bit",
   "language": "python",
   "name": "python3"
  },
  "language_info": {
   "codemirror_mode": {
    "name": "ipython",
    "version": 3
   },
   "file_extension": ".py",
   "mimetype": "text/x-python",
   "name": "python",
   "nbconvert_exporter": "python",
   "pygments_lexer": "ipython3",
   "version": "3.8.5"
  },
  "orig_nbformat": 4
 },
 "nbformat": 4,
 "nbformat_minor": 2
}
